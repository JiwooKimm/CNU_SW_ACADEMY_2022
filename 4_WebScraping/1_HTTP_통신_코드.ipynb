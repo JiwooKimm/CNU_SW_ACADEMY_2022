{
 "cells": [
  {
   "cell_type": "markdown",
   "id": "f81dd945",
   "metadata": {},
   "source": [
    "### HTTP 통신 코드\n",
    "Python의 `request` 라이브러리를 이용해 HTTP 통신을 진행할 수 있다.  \n",
    "\n",
    "#### 0. `requests` 라이브러리 설치"
   ]
  },
  {
   "cell_type": "code",
   "execution_count": 2,
   "id": "335c179b",
   "metadata": {},
   "outputs": [
    {
     "name": "stdout",
     "output_type": "stream",
     "text": [
      "Requirement already satisfied: requests in /Users/jiwookim/opt/anaconda3/lib/python3.7/site-packages (2.26.0)\n",
      "Requirement already satisfied: idna<4,>=2.5 in /Users/jiwookim/opt/anaconda3/lib/python3.7/site-packages (from requests) (3.2)\n",
      "Requirement already satisfied: urllib3<1.27,>=1.21.1 in /Users/jiwookim/opt/anaconda3/lib/python3.7/site-packages (from requests) (1.26.7)\n",
      "Requirement already satisfied: charset-normalizer~=2.0.0 in /Users/jiwookim/opt/anaconda3/lib/python3.7/site-packages (from requests) (2.0.4)\n",
      "Requirement already satisfied: certifi>=2017.4.17 in /Users/jiwookim/opt/anaconda3/lib/python3.7/site-packages (from requests) (2021.10.8)\n",
      "\u001b[33mWARNING: There was an error checking the latest version of pip.\u001b[0m\u001b[33m\n",
      "\u001b[0mNote: you may need to restart the kernel to use updated packages.\n"
     ]
    }
   ],
   "source": [
    "%pip install requests"
   ]
  },
  {
   "cell_type": "markdown",
   "id": "d8a40a9f",
   "metadata": {},
   "source": [
    "#### 1. 정보를 달라고 요청하기 GET\n",
    "(1) `requests` 라이브러리를 불러온 후, NAVER 홈 페이지를 요청한 후 응답 받기."
   ]
  },
  {
   "cell_type": "code",
   "execution_count": 9,
   "id": "7d14b491",
   "metadata": {},
   "outputs": [
    {
     "data": {
      "text/plain": [
       "<Response [200]>"
      ]
     },
     "execution_count": 9,
     "metadata": {},
     "output_type": "execute_result"
    }
   ],
   "source": [
    "import requests as req\n",
    "res=req.get(\"https://www.naver.com\")\n",
    "res"
   ]
  },
  {
   "cell_type": "markdown",
   "id": "9b8cfa83",
   "metadata": {},
   "source": [
    "Response [응답 코드]\n",
    "- 200 :OK! 문제 없음\n",
    "- 404 :Page non Found "
   ]
  },
  {
   "cell_type": "code",
   "execution_count": 12,
   "id": "3a911442",
   "metadata": {
    "scrolled": true
   },
   "outputs": [
    {
     "data": {
      "text/plain": [
       "{'Server': 'NWS', 'Date': 'Mon, 25 Jul 2022 05:45:22 GMT', 'Content-Type': 'text/html; charset=UTF-8', 'Transfer-Encoding': 'chunked', 'Connection': 'keep-alive', 'Set-Cookie': 'PM_CK_loc=da29ebe05f662e5759af8df02dd8d067917472b3847309472f08600d4fb5c80f; Expires=Tue, 26 Jul 2022 05:45:22 GMT; Path=/; HttpOnly', 'Cache-Control': 'no-cache, no-store, must-revalidate', 'Pragma': 'no-cache', 'P3P': 'CP=\"CAO DSP CURa ADMa TAIa PSAa OUR LAW STP PHY ONL UNI PUR FIN COM NAV INT DEM STA PRE\"', 'X-Frame-Options': 'DENY', 'X-XSS-Protection': '1; mode=block', 'Content-Encoding': 'gzip', 'Strict-Transport-Security': 'max-age=63072000; includeSubdomains', 'Referrer-Policy': 'unsafe-url'}"
      ]
     },
     "execution_count": 12,
     "metadata": {},
     "output_type": "execute_result"
    }
   ],
   "source": [
    "#Header 확인: `.headers`\n",
    "res.headers"
   ]
  },
  {
   "cell_type": "markdown",
   "id": "05aba729",
   "metadata": {},
   "source": [
    "여러 정보 (e.g., 날짜, 시간, 인코더, ..)을 반환해줌"
   ]
  },
  {
   "cell_type": "code",
   "execution_count": 14,
   "id": "a529a841",
   "metadata": {},
   "outputs": [
    {
     "data": {
      "text/plain": [
       "'\\n<!doctype html>                          <html lang=\"ko\" data-dark=\"false\"> <head> <meta charset=\"utf-8\"> <title>NAVER</title> <meta http-equiv=\"X-UA-Compatible\" content=\"IE=edge\"> <meta name=\"viewport\" content=\"width=1190\"> <meta name=\"apple-mobile-web-app-title\" content=\"NAVER\"/> <meta name=\"robots\" content=\"index,nofollow\"/> <meta name=\"description\" content=\"네이버 메인에서 다양한 정보와 유용한 컨텐츠를 만나 보세요\"/> <meta property=\"og:title\" content=\"네이버\"> <meta property=\"og:url\" content=\"https://www.naver.com/\"> <meta property=\"og:image\" content=\"https://s.pstatic.net/static/www/mobile/edit/2016/0705/mobile_212852414260.png\"> <meta property=\"og:description\" content=\"네이버 메인에서 다양한 정보와 유용한 컨텐츠를 만나 보세요\"/> <meta name=\"twitter:card\" content=\"summary\"> <meta name=\"twitter:title\" content=\"\"> <meta name=\"twitter:url\" content=\"https://www.naver.com/\"> <meta name=\"twitter:image\" content=\"https://s.pstatic.net/static/www/mobile/edit/2016/0705/mobile_212852414260.png\"> <meta name=\"twitter:description\" content=\"네이버 메'"
      ]
     },
     "execution_count": 14,
     "metadata": {},
     "output_type": "execute_result"
    }
   ],
   "source": [
    "#Body를 텍스트 형태로 확인하기: .text\n",
    "res.text[:1000]"
   ]
  },
  {
   "cell_type": "markdown",
   "id": "75531fc2",
   "metadata": {},
   "source": [
    "이 경우, 단순히 글자를 1000개 가지고 옴..!\n",
    "따라서 특정 속성(attribute)를 가져와야 할 필요 있음"
   ]
  },
  {
   "cell_type": "markdown",
   "id": "e26c8a9c",
   "metadata": {},
   "source": [
    "#### 2. 정보 갱신을 요청하기 POST  \n",
    "항상 정보를 가져오기만 하는 경우는 없을 것.\n",
    "우리의 정보를 제공하여 서버가 그에 따른 응답을 하도록 요청할 때도 있음. e.g.,**로그인**!  \n",
    "이러한 요청을 처리하는 HTTP Method가 **POST**.  \n",
    "<br>\n",
    "POST 활용하기 위해 다음 사이트 이용해보자: https://webhook.site  \n",
    "\n",
    "<span style=\"#6E7A7F\"> uniq address 생성해주는 서버 생성함!</span>\n"
   ]
  },
  {
   "cell_type": "code",
   "execution_count": 22,
   "id": "1cbbe639",
   "metadata": {},
   "outputs": [
    {
     "data": {
      "text/plain": [
       "200"
      ]
     },
     "execution_count": 22,
     "metadata": {},
     "output_type": "execute_result"
    }
   ],
   "source": [
    "#payload와 함께 POST를 보내보자: requests.post()\n",
    "payload = {\"name\" : 'Hello' , \"age\" : 13}\n",
    "\n",
    "res = req.post(\"https://webhook.site/9292ca53-f514-4109-aad7-33e180ca9c9c\", payload)\n",
    "\n",
    "#상태코드(status code) 확인: .status_code\n",
    "res.status_code"
   ]
  }
 ],
 "metadata": {
  "kernelspec": {
   "display_name": "Python 3 (ipykernel)",
   "language": "python",
   "name": "python3"
  },
  "language_info": {
   "codemirror_mode": {
    "name": "ipython",
    "version": 3
   },
   "file_extension": ".py",
   "mimetype": "text/x-python",
   "name": "python",
   "nbconvert_exporter": "python",
   "pygments_lexer": "ipython3",
   "version": "3.7.11"
  }
 },
 "nbformat": 4,
 "nbformat_minor": 5
}
