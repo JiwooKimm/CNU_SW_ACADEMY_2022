{
  "nbformat": 4,
  "nbformat_minor": 0,
  "metadata": {
    "colab": {
      "provenance": [],
      "toc_visible": true,
      "collapsed_sections": []
    },
    "kernelspec": {
      "name": "python3",
      "display_name": "Python 3"
    },
    "language_info": {
      "name": "python"
    }
  },
  "cells": [
    {
      "cell_type": "markdown",
      "metadata": {
        "id": "l5LdhyzPiX12"
      },
      "source": [
        "### **아마존 뷰티 제품 평점**\n",
        "\n",
        " - 2M 개 이상의 고객 리뷰와 평점 정보를 포함한 데이터셋을 가지고 인기 제품 추천과 을 만들어 보자. 앞서 영화 추천과 비슷하게 진행가능하다.\n",
        "\n",
        " - 데이터셋에는 총 4가지 정보가 포함되어 있다:\n",
        "\n",
        "   - 사용자 ID\n",
        "   - 상품 ID (ASIN이라 부른다)\n",
        "   - 평점 정보 (1-5)\n",
        "   - 평점이 주어진 시간\n",
        "\n",
        "* 앞서 2일차와 4일차 강의 내용을 기반으로 인기도 기반의 추천과 SVD 기반의 추천을 만들어 보자!\n",
        "\n",
        "--------\n",
        "--------\n"
      ]
    },
    {
      "cell_type": "markdown",
      "source": [
        "### **0. 데이터와 필요 라이브러리 불러오기**"
      ],
      "metadata": {
        "id": "5V9UGn_j0JA7"
      }
    },
    {
      "cell_type": "code",
      "execution_count": 1,
      "metadata": {
        "id": "AXH6vOD6gzkS"
      },
      "outputs": [],
      "source": [
        "import pandas as pd\n",
        "import numpy as np\n",
        "import matplotlib.pyplot as plt\n",
        "import seaborn as sns\n",
        "%matplotlib inline\n",
        "# !wget \"https://grepp-reco-test.s3.ap-northeast-2.amazonaws.com/ratings_Beauty.csv\"\n",
        "amazon_ratings = pd.read_csv(\"https://grepp-reco-test.s3.ap-northeast-2.amazonaws.com/ratings_Beauty.csv\")"
      ]
    },
    {
      "cell_type": "markdown",
      "source": [
        "#### **0-1. 데이터 확인**\n"
      ],
      "metadata": {
        "id": "BDT3YMqBz5Ck"
      }
    },
    {
      "cell_type": "code",
      "execution_count": 2,
      "metadata": {
        "colab": {
          "base_uri": "https://localhost:8080/",
          "height": 0
        },
        "id": "xjtzGEhflvOl",
        "outputId": "246b4958-0785-4284-e968-6a8e5d30ccd8"
      },
      "outputs": [
        {
          "output_type": "stream",
          "name": "stdout",
          "text": [
            "<class 'pandas.core.frame.DataFrame'>\n",
            "RangeIndex: 2023070 entries, 0 to 2023069\n",
            "Data columns (total 4 columns):\n",
            " #   Column     Dtype  \n",
            "---  ------     -----  \n",
            " 0   UserId     object \n",
            " 1   ProductId  object \n",
            " 2   Rating     float64\n",
            " 3   Timestamp  int64  \n",
            "dtypes: float64(1), int64(1), object(2)\n",
            "memory usage: 61.7+ MB\n"
          ]
        }
      ],
      "source": [
        "amazon_ratings.info()"
      ]
    },
    {
      "cell_type": "code",
      "execution_count": 3,
      "metadata": {
        "colab": {
          "base_uri": "https://localhost:8080/",
          "height": 0
        },
        "id": "aDSNoC2Gmd2Q",
        "outputId": "883acd25-bafb-4fc5-f464-ac5e3be352a4"
      },
      "outputs": [
        {
          "output_type": "execute_result",
          "data": {
            "text/plain": [
              "(2023070, 4)"
            ]
          },
          "metadata": {},
          "execution_count": 3
        }
      ],
      "source": [
        "amazon_ratings.shape"
      ]
    },
    {
      "cell_type": "code",
      "execution_count": 4,
      "metadata": {
        "colab": {
          "base_uri": "https://localhost:8080/",
          "height": 0
        },
        "id": "TRuEAFGDmovt",
        "outputId": "23611934-8f1f-49c4-c411-6af58f710934"
      },
      "outputs": [
        {
          "output_type": "execute_result",
          "data": {
            "text/plain": [
              "UserId       0\n",
              "ProductId    0\n",
              "Rating       0\n",
              "Timestamp    0\n",
              "dtype: int64"
            ]
          },
          "metadata": {},
          "execution_count": 4
        }
      ],
      "source": [
        "amazon_ratings.isna().sum()"
      ]
    },
    {
      "cell_type": "markdown",
      "metadata": {
        "id": "6Qj8Nr6kjPYL"
      },
      "source": [
        "\\4가지 정보 중에 하나라도 비어있는 레코드들을 모두 날리고 처음 5개의 레코드를 살펴본다"
      ]
    },
    {
      "cell_type": "code",
      "execution_count": 5,
      "metadata": {
        "colab": {
          "base_uri": "https://localhost:8080/",
          "height": 206
        },
        "id": "WVNhQI0whh4z",
        "outputId": "74493bcf-b590-4f34-d873-9a82d038cd84"
      },
      "outputs": [
        {
          "output_type": "execute_result",
          "data": {
            "text/plain": [
              "           UserId   ProductId  Rating   Timestamp\n",
              "0  A39HTATAQ9V7YF  0205616461     5.0  1369699200\n",
              "1  A3JM6GV9MNOF9X  0558925278     3.0  1355443200\n",
              "2  A1Z513UWSAAO0F  0558925278     5.0  1404691200\n",
              "3  A1WMRR494NWEWV  0733001998     4.0  1382572800\n",
              "4  A3IAAVS479H7M7  0737104473     1.0  1274227200"
            ],
            "text/html": [
              "\n",
              "  <div id=\"df-2d80e0d8-b554-4c12-bf1b-07ee706f07ed\">\n",
              "    <div class=\"colab-df-container\">\n",
              "      <div>\n",
              "<style scoped>\n",
              "    .dataframe tbody tr th:only-of-type {\n",
              "        vertical-align: middle;\n",
              "    }\n",
              "\n",
              "    .dataframe tbody tr th {\n",
              "        vertical-align: top;\n",
              "    }\n",
              "\n",
              "    .dataframe thead th {\n",
              "        text-align: right;\n",
              "    }\n",
              "</style>\n",
              "<table border=\"1\" class=\"dataframe\">\n",
              "  <thead>\n",
              "    <tr style=\"text-align: right;\">\n",
              "      <th></th>\n",
              "      <th>UserId</th>\n",
              "      <th>ProductId</th>\n",
              "      <th>Rating</th>\n",
              "      <th>Timestamp</th>\n",
              "    </tr>\n",
              "  </thead>\n",
              "  <tbody>\n",
              "    <tr>\n",
              "      <th>0</th>\n",
              "      <td>A39HTATAQ9V7YF</td>\n",
              "      <td>0205616461</td>\n",
              "      <td>5.0</td>\n",
              "      <td>1369699200</td>\n",
              "    </tr>\n",
              "    <tr>\n",
              "      <th>1</th>\n",
              "      <td>A3JM6GV9MNOF9X</td>\n",
              "      <td>0558925278</td>\n",
              "      <td>3.0</td>\n",
              "      <td>1355443200</td>\n",
              "    </tr>\n",
              "    <tr>\n",
              "      <th>2</th>\n",
              "      <td>A1Z513UWSAAO0F</td>\n",
              "      <td>0558925278</td>\n",
              "      <td>5.0</td>\n",
              "      <td>1404691200</td>\n",
              "    </tr>\n",
              "    <tr>\n",
              "      <th>3</th>\n",
              "      <td>A1WMRR494NWEWV</td>\n",
              "      <td>0733001998</td>\n",
              "      <td>4.0</td>\n",
              "      <td>1382572800</td>\n",
              "    </tr>\n",
              "    <tr>\n",
              "      <th>4</th>\n",
              "      <td>A3IAAVS479H7M7</td>\n",
              "      <td>0737104473</td>\n",
              "      <td>1.0</td>\n",
              "      <td>1274227200</td>\n",
              "    </tr>\n",
              "  </tbody>\n",
              "</table>\n",
              "</div>\n",
              "      <button class=\"colab-df-convert\" onclick=\"convertToInteractive('df-2d80e0d8-b554-4c12-bf1b-07ee706f07ed')\"\n",
              "              title=\"Convert this dataframe to an interactive table.\"\n",
              "              style=\"display:none;\">\n",
              "        \n",
              "  <svg xmlns=\"http://www.w3.org/2000/svg\" height=\"24px\"viewBox=\"0 0 24 24\"\n",
              "       width=\"24px\">\n",
              "    <path d=\"M0 0h24v24H0V0z\" fill=\"none\"/>\n",
              "    <path d=\"M18.56 5.44l.94 2.06.94-2.06 2.06-.94-2.06-.94-.94-2.06-.94 2.06-2.06.94zm-11 1L8.5 8.5l.94-2.06 2.06-.94-2.06-.94L8.5 2.5l-.94 2.06-2.06.94zm10 10l.94 2.06.94-2.06 2.06-.94-2.06-.94-.94-2.06-.94 2.06-2.06.94z\"/><path d=\"M17.41 7.96l-1.37-1.37c-.4-.4-.92-.59-1.43-.59-.52 0-1.04.2-1.43.59L10.3 9.45l-7.72 7.72c-.78.78-.78 2.05 0 2.83L4 21.41c.39.39.9.59 1.41.59.51 0 1.02-.2 1.41-.59l7.78-7.78 2.81-2.81c.8-.78.8-2.07 0-2.86zM5.41 20L4 18.59l7.72-7.72 1.47 1.35L5.41 20z\"/>\n",
              "  </svg>\n",
              "      </button>\n",
              "      \n",
              "  <style>\n",
              "    .colab-df-container {\n",
              "      display:flex;\n",
              "      flex-wrap:wrap;\n",
              "      gap: 12px;\n",
              "    }\n",
              "\n",
              "    .colab-df-convert {\n",
              "      background-color: #E8F0FE;\n",
              "      border: none;\n",
              "      border-radius: 50%;\n",
              "      cursor: pointer;\n",
              "      display: none;\n",
              "      fill: #1967D2;\n",
              "      height: 32px;\n",
              "      padding: 0 0 0 0;\n",
              "      width: 32px;\n",
              "    }\n",
              "\n",
              "    .colab-df-convert:hover {\n",
              "      background-color: #E2EBFA;\n",
              "      box-shadow: 0px 1px 2px rgba(60, 64, 67, 0.3), 0px 1px 3px 1px rgba(60, 64, 67, 0.15);\n",
              "      fill: #174EA6;\n",
              "    }\n",
              "\n",
              "    [theme=dark] .colab-df-convert {\n",
              "      background-color: #3B4455;\n",
              "      fill: #D2E3FC;\n",
              "    }\n",
              "\n",
              "    [theme=dark] .colab-df-convert:hover {\n",
              "      background-color: #434B5C;\n",
              "      box-shadow: 0px 1px 3px 1px rgba(0, 0, 0, 0.15);\n",
              "      filter: drop-shadow(0px 1px 2px rgba(0, 0, 0, 0.3));\n",
              "      fill: #FFFFFF;\n",
              "    }\n",
              "  </style>\n",
              "\n",
              "      <script>\n",
              "        const buttonEl =\n",
              "          document.querySelector('#df-2d80e0d8-b554-4c12-bf1b-07ee706f07ed button.colab-df-convert');\n",
              "        buttonEl.style.display =\n",
              "          google.colab.kernel.accessAllowed ? 'block' : 'none';\n",
              "\n",
              "        async function convertToInteractive(key) {\n",
              "          const element = document.querySelector('#df-2d80e0d8-b554-4c12-bf1b-07ee706f07ed');\n",
              "          const dataTable =\n",
              "            await google.colab.kernel.invokeFunction('convertToInteractive',\n",
              "                                                     [key], {});\n",
              "          if (!dataTable) return;\n",
              "\n",
              "          const docLinkHtml = 'Like what you see? Visit the ' +\n",
              "            '<a target=\"_blank\" href=https://colab.research.google.com/notebooks/data_table.ipynb>data table notebook</a>'\n",
              "            + ' to learn more about interactive tables.';\n",
              "          element.innerHTML = '';\n",
              "          dataTable['output_type'] = 'display_data';\n",
              "          await google.colab.output.renderOutput(dataTable, element);\n",
              "          const docLink = document.createElement('div');\n",
              "          docLink.innerHTML = docLinkHtml;\n",
              "          element.appendChild(docLink);\n",
              "        }\n",
              "      </script>\n",
              "    </div>\n",
              "  </div>\n",
              "  "
            ]
          },
          "metadata": {},
          "execution_count": 5
        }
      ],
      "source": [
        "amazon_ratings = amazon_ratings.dropna()\n",
        "amazon_ratings.head()"
      ]
    },
    {
      "cell_type": "markdown",
      "metadata": {
        "id": "jP1jzUv5jYNC"
      },
      "source": [
        "몇개의 레코드와 몇개의 컬럼이 있는지 살펴본다"
      ]
    },
    {
      "cell_type": "code",
      "execution_count": 6,
      "metadata": {
        "colab": {
          "base_uri": "https://localhost:8080/",
          "height": 0
        },
        "id": "KBVojp9miL_0",
        "outputId": "1b61dfc1-de0e-4e76-fb84-e2054cf76c9d"
      },
      "outputs": [
        {
          "output_type": "execute_result",
          "data": {
            "text/plain": [
              "(2023070, 4)"
            ]
          },
          "metadata": {},
          "execution_count": 6
        }
      ],
      "source": [
        "amazon_ratings.shape"
      ]
    },
    {
      "cell_type": "code",
      "execution_count": 37,
      "metadata": {
        "colab": {
          "base_uri": "https://localhost:8080/",
          "height": 300
        },
        "id": "DUkNz-KunV1u",
        "outputId": "096da854-da01-48f5-ada4-a8a5ab30c2d4"
      },
      "outputs": [
        {
          "output_type": "execute_result",
          "data": {
            "text/plain": [
              "             Rating     Timestamp\n",
              "count  2.023070e+06  2.023070e+06\n",
              "mean   4.149036e+00  1.360389e+09\n",
              "std    1.311505e+00  4.611860e+07\n",
              "min    1.000000e+00  9.087552e+08\n",
              "25%    4.000000e+00  1.350259e+09\n",
              "50%    5.000000e+00  1.372810e+09\n",
              "75%    5.000000e+00  1.391472e+09\n",
              "max    5.000000e+00  1.406074e+09"
            ],
            "text/html": [
              "\n",
              "  <div id=\"df-f2199811-7413-4fc2-a6b0-adbdf263ca09\">\n",
              "    <div class=\"colab-df-container\">\n",
              "      <div>\n",
              "<style scoped>\n",
              "    .dataframe tbody tr th:only-of-type {\n",
              "        vertical-align: middle;\n",
              "    }\n",
              "\n",
              "    .dataframe tbody tr th {\n",
              "        vertical-align: top;\n",
              "    }\n",
              "\n",
              "    .dataframe thead th {\n",
              "        text-align: right;\n",
              "    }\n",
              "</style>\n",
              "<table border=\"1\" class=\"dataframe\">\n",
              "  <thead>\n",
              "    <tr style=\"text-align: right;\">\n",
              "      <th></th>\n",
              "      <th>Rating</th>\n",
              "      <th>Timestamp</th>\n",
              "    </tr>\n",
              "  </thead>\n",
              "  <tbody>\n",
              "    <tr>\n",
              "      <th>count</th>\n",
              "      <td>2.023070e+06</td>\n",
              "      <td>2.023070e+06</td>\n",
              "    </tr>\n",
              "    <tr>\n",
              "      <th>mean</th>\n",
              "      <td>4.149036e+00</td>\n",
              "      <td>1.360389e+09</td>\n",
              "    </tr>\n",
              "    <tr>\n",
              "      <th>std</th>\n",
              "      <td>1.311505e+00</td>\n",
              "      <td>4.611860e+07</td>\n",
              "    </tr>\n",
              "    <tr>\n",
              "      <th>min</th>\n",
              "      <td>1.000000e+00</td>\n",
              "      <td>9.087552e+08</td>\n",
              "    </tr>\n",
              "    <tr>\n",
              "      <th>25%</th>\n",
              "      <td>4.000000e+00</td>\n",
              "      <td>1.350259e+09</td>\n",
              "    </tr>\n",
              "    <tr>\n",
              "      <th>50%</th>\n",
              "      <td>5.000000e+00</td>\n",
              "      <td>1.372810e+09</td>\n",
              "    </tr>\n",
              "    <tr>\n",
              "      <th>75%</th>\n",
              "      <td>5.000000e+00</td>\n",
              "      <td>1.391472e+09</td>\n",
              "    </tr>\n",
              "    <tr>\n",
              "      <th>max</th>\n",
              "      <td>5.000000e+00</td>\n",
              "      <td>1.406074e+09</td>\n",
              "    </tr>\n",
              "  </tbody>\n",
              "</table>\n",
              "</div>\n",
              "      <button class=\"colab-df-convert\" onclick=\"convertToInteractive('df-f2199811-7413-4fc2-a6b0-adbdf263ca09')\"\n",
              "              title=\"Convert this dataframe to an interactive table.\"\n",
              "              style=\"display:none;\">\n",
              "        \n",
              "  <svg xmlns=\"http://www.w3.org/2000/svg\" height=\"24px\"viewBox=\"0 0 24 24\"\n",
              "       width=\"24px\">\n",
              "    <path d=\"M0 0h24v24H0V0z\" fill=\"none\"/>\n",
              "    <path d=\"M18.56 5.44l.94 2.06.94-2.06 2.06-.94-2.06-.94-.94-2.06-.94 2.06-2.06.94zm-11 1L8.5 8.5l.94-2.06 2.06-.94-2.06-.94L8.5 2.5l-.94 2.06-2.06.94zm10 10l.94 2.06.94-2.06 2.06-.94-2.06-.94-.94-2.06-.94 2.06-2.06.94z\"/><path d=\"M17.41 7.96l-1.37-1.37c-.4-.4-.92-.59-1.43-.59-.52 0-1.04.2-1.43.59L10.3 9.45l-7.72 7.72c-.78.78-.78 2.05 0 2.83L4 21.41c.39.39.9.59 1.41.59.51 0 1.02-.2 1.41-.59l7.78-7.78 2.81-2.81c.8-.78.8-2.07 0-2.86zM5.41 20L4 18.59l7.72-7.72 1.47 1.35L5.41 20z\"/>\n",
              "  </svg>\n",
              "      </button>\n",
              "      \n",
              "  <style>\n",
              "    .colab-df-container {\n",
              "      display:flex;\n",
              "      flex-wrap:wrap;\n",
              "      gap: 12px;\n",
              "    }\n",
              "\n",
              "    .colab-df-convert {\n",
              "      background-color: #E8F0FE;\n",
              "      border: none;\n",
              "      border-radius: 50%;\n",
              "      cursor: pointer;\n",
              "      display: none;\n",
              "      fill: #1967D2;\n",
              "      height: 32px;\n",
              "      padding: 0 0 0 0;\n",
              "      width: 32px;\n",
              "    }\n",
              "\n",
              "    .colab-df-convert:hover {\n",
              "      background-color: #E2EBFA;\n",
              "      box-shadow: 0px 1px 2px rgba(60, 64, 67, 0.3), 0px 1px 3px 1px rgba(60, 64, 67, 0.15);\n",
              "      fill: #174EA6;\n",
              "    }\n",
              "\n",
              "    [theme=dark] .colab-df-convert {\n",
              "      background-color: #3B4455;\n",
              "      fill: #D2E3FC;\n",
              "    }\n",
              "\n",
              "    [theme=dark] .colab-df-convert:hover {\n",
              "      background-color: #434B5C;\n",
              "      box-shadow: 0px 1px 3px 1px rgba(0, 0, 0, 0.15);\n",
              "      filter: drop-shadow(0px 1px 2px rgba(0, 0, 0, 0.3));\n",
              "      fill: #FFFFFF;\n",
              "    }\n",
              "  </style>\n",
              "\n",
              "      <script>\n",
              "        const buttonEl =\n",
              "          document.querySelector('#df-f2199811-7413-4fc2-a6b0-adbdf263ca09 button.colab-df-convert');\n",
              "        buttonEl.style.display =\n",
              "          google.colab.kernel.accessAllowed ? 'block' : 'none';\n",
              "\n",
              "        async function convertToInteractive(key) {\n",
              "          const element = document.querySelector('#df-f2199811-7413-4fc2-a6b0-adbdf263ca09');\n",
              "          const dataTable =\n",
              "            await google.colab.kernel.invokeFunction('convertToInteractive',\n",
              "                                                     [key], {});\n",
              "          if (!dataTable) return;\n",
              "\n",
              "          const docLinkHtml = 'Like what you see? Visit the ' +\n",
              "            '<a target=\"_blank\" href=https://colab.research.google.com/notebooks/data_table.ipynb>data table notebook</a>'\n",
              "            + ' to learn more about interactive tables.';\n",
              "          element.innerHTML = '';\n",
              "          dataTable['output_type'] = 'display_data';\n",
              "          await google.colab.output.renderOutput(dataTable, element);\n",
              "          const docLink = document.createElement('div');\n",
              "          docLink.innerHTML = docLinkHtml;\n",
              "          element.appendChild(docLink);\n",
              "        }\n",
              "      </script>\n",
              "    </div>\n",
              "  </div>\n",
              "  "
            ]
          },
          "metadata": {},
          "execution_count": 37
        }
      ],
      "source": [
        "amazon_ratings.describe()"
      ]
    },
    {
      "cell_type": "code",
      "execution_count": 8,
      "metadata": {
        "colab": {
          "base_uri": "https://localhost:8080/",
          "height": 238
        },
        "id": "6CJ7MUCF9kkE",
        "outputId": "7da02ad0-918d-43fa-8c3d-6bb4c89c8364"
      },
      "outputs": [
        {
          "output_type": "execute_result",
          "data": {
            "text/plain": [
              "          count\n",
              "Rating         \n",
              "1.0      183784\n",
              "2.0      113034\n",
              "3.0      169791\n",
              "4.0      307740\n",
              "5.0     1248721"
            ],
            "text/html": [
              "\n",
              "  <div id=\"df-df6bb442-36b7-4c60-91c3-79b00764034a\">\n",
              "    <div class=\"colab-df-container\">\n",
              "      <div>\n",
              "<style scoped>\n",
              "    .dataframe tbody tr th:only-of-type {\n",
              "        vertical-align: middle;\n",
              "    }\n",
              "\n",
              "    .dataframe tbody tr th {\n",
              "        vertical-align: top;\n",
              "    }\n",
              "\n",
              "    .dataframe thead th {\n",
              "        text-align: right;\n",
              "    }\n",
              "</style>\n",
              "<table border=\"1\" class=\"dataframe\">\n",
              "  <thead>\n",
              "    <tr style=\"text-align: right;\">\n",
              "      <th></th>\n",
              "      <th>count</th>\n",
              "    </tr>\n",
              "    <tr>\n",
              "      <th>Rating</th>\n",
              "      <th></th>\n",
              "    </tr>\n",
              "  </thead>\n",
              "  <tbody>\n",
              "    <tr>\n",
              "      <th>1.0</th>\n",
              "      <td>183784</td>\n",
              "    </tr>\n",
              "    <tr>\n",
              "      <th>2.0</th>\n",
              "      <td>113034</td>\n",
              "    </tr>\n",
              "    <tr>\n",
              "      <th>3.0</th>\n",
              "      <td>169791</td>\n",
              "    </tr>\n",
              "    <tr>\n",
              "      <th>4.0</th>\n",
              "      <td>307740</td>\n",
              "    </tr>\n",
              "    <tr>\n",
              "      <th>5.0</th>\n",
              "      <td>1248721</td>\n",
              "    </tr>\n",
              "  </tbody>\n",
              "</table>\n",
              "</div>\n",
              "      <button class=\"colab-df-convert\" onclick=\"convertToInteractive('df-df6bb442-36b7-4c60-91c3-79b00764034a')\"\n",
              "              title=\"Convert this dataframe to an interactive table.\"\n",
              "              style=\"display:none;\">\n",
              "        \n",
              "  <svg xmlns=\"http://www.w3.org/2000/svg\" height=\"24px\"viewBox=\"0 0 24 24\"\n",
              "       width=\"24px\">\n",
              "    <path d=\"M0 0h24v24H0V0z\" fill=\"none\"/>\n",
              "    <path d=\"M18.56 5.44l.94 2.06.94-2.06 2.06-.94-2.06-.94-.94-2.06-.94 2.06-2.06.94zm-11 1L8.5 8.5l.94-2.06 2.06-.94-2.06-.94L8.5 2.5l-.94 2.06-2.06.94zm10 10l.94 2.06.94-2.06 2.06-.94-2.06-.94-.94-2.06-.94 2.06-2.06.94z\"/><path d=\"M17.41 7.96l-1.37-1.37c-.4-.4-.92-.59-1.43-.59-.52 0-1.04.2-1.43.59L10.3 9.45l-7.72 7.72c-.78.78-.78 2.05 0 2.83L4 21.41c.39.39.9.59 1.41.59.51 0 1.02-.2 1.41-.59l7.78-7.78 2.81-2.81c.8-.78.8-2.07 0-2.86zM5.41 20L4 18.59l7.72-7.72 1.47 1.35L5.41 20z\"/>\n",
              "  </svg>\n",
              "      </button>\n",
              "      \n",
              "  <style>\n",
              "    .colab-df-container {\n",
              "      display:flex;\n",
              "      flex-wrap:wrap;\n",
              "      gap: 12px;\n",
              "    }\n",
              "\n",
              "    .colab-df-convert {\n",
              "      background-color: #E8F0FE;\n",
              "      border: none;\n",
              "      border-radius: 50%;\n",
              "      cursor: pointer;\n",
              "      display: none;\n",
              "      fill: #1967D2;\n",
              "      height: 32px;\n",
              "      padding: 0 0 0 0;\n",
              "      width: 32px;\n",
              "    }\n",
              "\n",
              "    .colab-df-convert:hover {\n",
              "      background-color: #E2EBFA;\n",
              "      box-shadow: 0px 1px 2px rgba(60, 64, 67, 0.3), 0px 1px 3px 1px rgba(60, 64, 67, 0.15);\n",
              "      fill: #174EA6;\n",
              "    }\n",
              "\n",
              "    [theme=dark] .colab-df-convert {\n",
              "      background-color: #3B4455;\n",
              "      fill: #D2E3FC;\n",
              "    }\n",
              "\n",
              "    [theme=dark] .colab-df-convert:hover {\n",
              "      background-color: #434B5C;\n",
              "      box-shadow: 0px 1px 3px 1px rgba(0, 0, 0, 0.15);\n",
              "      filter: drop-shadow(0px 1px 2px rgba(0, 0, 0, 0.3));\n",
              "      fill: #FFFFFF;\n",
              "    }\n",
              "  </style>\n",
              "\n",
              "      <script>\n",
              "        const buttonEl =\n",
              "          document.querySelector('#df-df6bb442-36b7-4c60-91c3-79b00764034a button.colab-df-convert');\n",
              "        buttonEl.style.display =\n",
              "          google.colab.kernel.accessAllowed ? 'block' : 'none';\n",
              "\n",
              "        async function convertToInteractive(key) {\n",
              "          const element = document.querySelector('#df-df6bb442-36b7-4c60-91c3-79b00764034a');\n",
              "          const dataTable =\n",
              "            await google.colab.kernel.invokeFunction('convertToInteractive',\n",
              "                                                     [key], {});\n",
              "          if (!dataTable) return;\n",
              "\n",
              "          const docLinkHtml = 'Like what you see? Visit the ' +\n",
              "            '<a target=\"_blank\" href=https://colab.research.google.com/notebooks/data_table.ipynb>data table notebook</a>'\n",
              "            + ' to learn more about interactive tables.';\n",
              "          element.innerHTML = '';\n",
              "          dataTable['output_type'] = 'display_data';\n",
              "          await google.colab.output.renderOutput(dataTable, element);\n",
              "          const docLink = document.createElement('div');\n",
              "          docLink.innerHTML = docLinkHtml;\n",
              "          element.appendChild(docLink);\n",
              "        }\n",
              "      </script>\n",
              "    </div>\n",
              "  </div>\n",
              "  "
            ]
          },
          "metadata": {},
          "execution_count": 8
        }
      ],
      "source": [
        "rate_count= pd.DataFrame(amazon_ratings.groupby('Rating')['ProductId'].count())\n",
        "rate_count.rename(columns={'ProductId':'count'}, inplace= True)\n",
        "rate_count"
      ]
    },
    {
      "cell_type": "markdown",
      "source": [
        "데이터 분포 확인"
      ],
      "metadata": {
        "id": "sXwjo0KC0Q9f"
      }
    },
    {
      "cell_type": "code",
      "execution_count": 45,
      "metadata": {
        "colab": {
          "base_uri": "https://localhost:8080/",
          "height": 300
        },
        "id": "NpxpSagvXJXi",
        "outputId": "2e2f9120-bac0-4358-8579-38f0d867c78e"
      },
      "outputs": [
        {
          "output_type": "display_data",
          "data": {
            "text/plain": [
              "<Figure size 1170x827 with 0 Axes>"
            ]
          },
          "metadata": {}
        },
        {
          "output_type": "display_data",
          "data": {
            "text/plain": [
              "<Figure size 432x288 with 1 Axes>"
            ],
            "image/png": "[encoded data removed]"
          },
          "metadata": {}
        }
      ],
      "source": [
        "# Rating versus count\n",
        "\n",
        "product_rating = amazon_ratings.groupby('ProductId')['Rating'].mean()\n",
        "product_rating_count = amazon_ratings.groupby('ProductId')['Rating'].count()\n",
        "unreliability = amazon_ratings.groupby('ProductId')['Rating'].std(ddof = -1)\n",
        "unique_products_list = amazon_ratings.ProductId.unique()\n",
        "\n",
        "data_model = pd.DataFrame({'Rating': product_rating[unique_products_list],\\\n",
        "                           'Count': product_rating_count[unique_products_list], \\\n",
        "                          'Unreliability': unreliability[unique_products_list]})\n",
        "data_model= data_model[data_model.Count > 10]\n",
        "\n",
        "sns.set_style('ticks')\n",
        "plt.figure(num=None, figsize=(11.7, 8.27), dpi=100, facecolor='w', edgecolor='k')\n",
        "\n",
        "ax = data_model.plot(kind='scatter', x='Rating', y='Count', color='crimson', alpha=0.05)\n",
        "\n",
        "plt.ylim([0,3000])\n",
        "plt.show()"
      ]
    },
    {
      "cell_type": "code",
      "source": [],
      "metadata": {
        "id": "Q1yQI9d5y0-g"
      },
      "execution_count": null,
      "outputs": []
    },
    {
      "cell_type": "markdown",
      "source": [
        "-------\n",
        "### **1. 메모리 베이스 추천 시스템**\n"
      ],
      "metadata": {
        "id": "sNJ3En6A0VQ1"
      }
    },
    {
      "cell_type": "markdown",
      "source": [
        "#### **1.1 인기도 기반 추천**\n",
        "\n",
        "정보가 없는 사용자들에게 가장 쉽게 사용할 수 있는 형태의 추천 방식!\n",
        "리뷰 수가 가장 큰 상품 10개를 계산해본다."
      ],
      "metadata": {
        "id": "GN_umjAb0d4p"
      }
    },
    {
      "cell_type": "code",
      "execution_count": 10,
      "metadata": {
        "colab": {
          "base_uri": "https://localhost:8080/",
          "height": 394
        },
        "id": "AYN-ploeiV0l",
        "outputId": "63464e1c-3421-4994-c009-d7a65bd5baf5"
      },
      "outputs": [
        {
          "output_type": "execute_result",
          "data": {
            "text/plain": [
              "            Rating\n",
              "ProductId         \n",
              "B001MA0QY2    7533\n",
              "B0009V1YR8    2869\n",
              "B0043OYFKU    2477\n",
              "B0000YUXI0    2143\n",
              "B003V265QW    2088\n",
              "B000ZMBSPE    2041\n",
              "B003BQ6QXK    1918\n",
              "B004OHQR1Q    1885\n",
              "B00121UVU0    1838\n",
              "B000FS05VG    1589"
            ],
            "text/html": [
              "\n",
              "  <div id=\"df-3fc64165-d89a-4864-b4b2-68feb36404d3\">\n",
              "    <div class=\"colab-df-container\">\n",
              "      <div>\n",
              "<style scoped>\n",
              "    .dataframe tbody tr th:only-of-type {\n",
              "        vertical-align: middle;\n",
              "    }\n",
              "\n",
              "    .dataframe tbody tr th {\n",
              "        vertical-align: top;\n",
              "    }\n",
              "\n",
              "    .dataframe thead th {\n",
              "        text-align: right;\n",
              "    }\n",
              "</style>\n",
              "<table border=\"1\" class=\"dataframe\">\n",
              "  <thead>\n",
              "    <tr style=\"text-align: right;\">\n",
              "      <th></th>\n",
              "      <th>Rating</th>\n",
              "    </tr>\n",
              "    <tr>\n",
              "      <th>ProductId</th>\n",
              "      <th></th>\n",
              "    </tr>\n",
              "  </thead>\n",
              "  <tbody>\n",
              "    <tr>\n",
              "      <th>B001MA0QY2</th>\n",
              "      <td>7533</td>\n",
              "    </tr>\n",
              "    <tr>\n",
              "      <th>B0009V1YR8</th>\n",
              "      <td>2869</td>\n",
              "    </tr>\n",
              "    <tr>\n",
              "      <th>B0043OYFKU</th>\n",
              "      <td>2477</td>\n",
              "    </tr>\n",
              "    <tr>\n",
              "      <th>B0000YUXI0</th>\n",
              "      <td>2143</td>\n",
              "    </tr>\n",
              "    <tr>\n",
              "      <th>B003V265QW</th>\n",
              "      <td>2088</td>\n",
              "    </tr>\n",
              "    <tr>\n",
              "      <th>B000ZMBSPE</th>\n",
              "      <td>2041</td>\n",
              "    </tr>\n",
              "    <tr>\n",
              "      <th>B003BQ6QXK</th>\n",
              "      <td>1918</td>\n",
              "    </tr>\n",
              "    <tr>\n",
              "      <th>B004OHQR1Q</th>\n",
              "      <td>1885</td>\n",
              "    </tr>\n",
              "    <tr>\n",
              "      <th>B00121UVU0</th>\n",
              "      <td>1838</td>\n",
              "    </tr>\n",
              "    <tr>\n",
              "      <th>B000FS05VG</th>\n",
              "      <td>1589</td>\n",
              "    </tr>\n",
              "  </tbody>\n",
              "</table>\n",
              "</div>\n",
              "      <button class=\"colab-df-convert\" onclick=\"convertToInteractive('df-3fc64165-d89a-4864-b4b2-68feb36404d3')\"\n",
              "              title=\"Convert this dataframe to an interactive table.\"\n",
              "              style=\"display:none;\">\n",
              "        \n",
              "  <svg xmlns=\"http://www.w3.org/2000/svg\" height=\"24px\"viewBox=\"0 0 24 24\"\n",
              "       width=\"24px\">\n",
              "    <path d=\"M0 0h24v24H0V0z\" fill=\"none\"/>\n",
              "    <path d=\"M18.56 5.44l.94 2.06.94-2.06 2.06-.94-2.06-.94-.94-2.06-.94 2.06-2.06.94zm-11 1L8.5 8.5l.94-2.06 2.06-.94-2.06-.94L8.5 2.5l-.94 2.06-2.06.94zm10 10l.94 2.06.94-2.06 2.06-.94-2.06-.94-.94-2.06-.94 2.06-2.06.94z\"/><path d=\"M17.41 7.96l-1.37-1.37c-.4-.4-.92-.59-1.43-.59-.52 0-1.04.2-1.43.59L10.3 9.45l-7.72 7.72c-.78.78-.78 2.05 0 2.83L4 21.41c.39.39.9.59 1.41.59.51 0 1.02-.2 1.41-.59l7.78-7.78 2.81-2.81c.8-.78.8-2.07 0-2.86zM5.41 20L4 18.59l7.72-7.72 1.47 1.35L5.41 20z\"/>\n",
              "  </svg>\n",
              "      </button>\n",
              "      \n",
              "  <style>\n",
              "    .colab-df-container {\n",
              "      display:flex;\n",
              "      flex-wrap:wrap;\n",
              "      gap: 12px;\n",
              "    }\n",
              "\n",
              "    .colab-df-convert {\n",
              "      background-color: #E8F0FE;\n",
              "      border: none;\n",
              "      border-radius: 50%;\n",
              "      cursor: pointer;\n",
              "      display: none;\n",
              "      fill: #1967D2;\n",
              "      height: 32px;\n",
              "      padding: 0 0 0 0;\n",
              "      width: 32px;\n",
              "    }\n",
              "\n",
              "    .colab-df-convert:hover {\n",
              "      background-color: #E2EBFA;\n",
              "      box-shadow: 0px 1px 2px rgba(60, 64, 67, 0.3), 0px 1px 3px 1px rgba(60, 64, 67, 0.15);\n",
              "      fill: #174EA6;\n",
              "    }\n",
              "\n",
              "    [theme=dark] .colab-df-convert {\n",
              "      background-color: #3B4455;\n",
              "      fill: #D2E3FC;\n",
              "    }\n",
              "\n",
              "    [theme=dark] .colab-df-convert:hover {\n",
              "      background-color: #434B5C;\n",
              "      box-shadow: 0px 1px 3px 1px rgba(0, 0, 0, 0.15);\n",
              "      filter: drop-shadow(0px 1px 2px rgba(0, 0, 0, 0.3));\n",
              "      fill: #FFFFFF;\n",
              "    }\n",
              "  </style>\n",
              "\n",
              "      <script>\n",
              "        const buttonEl =\n",
              "          document.querySelector('#df-3fc64165-d89a-4864-b4b2-68feb36404d3 button.colab-df-convert');\n",
              "        buttonEl.style.display =\n",
              "          google.colab.kernel.accessAllowed ? 'block' : 'none';\n",
              "\n",
              "        async function convertToInteractive(key) {\n",
              "          const element = document.querySelector('#df-3fc64165-d89a-4864-b4b2-68feb36404d3');\n",
              "          const dataTable =\n",
              "            await google.colab.kernel.invokeFunction('convertToInteractive',\n",
              "                                                     [key], {});\n",
              "          if (!dataTable) return;\n",
              "\n",
              "          const docLinkHtml = 'Like what you see? Visit the ' +\n",
              "            '<a target=\"_blank\" href=https://colab.research.google.com/notebooks/data_table.ipynb>data table notebook</a>'\n",
              "            + ' to learn more about interactive tables.';\n",
              "          element.innerHTML = '';\n",
              "          dataTable['output_type'] = 'display_data';\n",
              "          await google.colab.output.renderOutput(dataTable, element);\n",
              "          const docLink = document.createElement('div');\n",
              "          docLink.innerHTML = docLinkHtml;\n",
              "          element.appendChild(docLink);\n",
              "        }\n",
              "      </script>\n",
              "    </div>\n",
              "  </div>\n",
              "  "
            ]
          },
          "metadata": {},
          "execution_count": 10
        }
      ],
      "source": [
        "popular_products = pd.DataFrame(amazon_ratings.groupby('ProductId')['Rating'].count())\n",
        "\n",
        "most_popular = popular_products.sort_values('Rating', ascending=False)\n",
        "most_popular.head(10)"
      ]
    },
    {
      "cell_type": "markdown",
      "metadata": {
        "id": "jgSLu7YFkLc6"
      },
      "source": [
        "이 10개를 바 그래프로 그려본다"
      ]
    },
    {
      "cell_type": "code",
      "execution_count": 50,
      "metadata": {
        "colab": {
          "base_uri": "https://localhost:8080/",
          "height": 339
        },
        "id": "I7z0vYyojpgy",
        "outputId": "363ccdd3-8715-43dd-ed1b-a38f5694e742"
      },
      "outputs": [
        {
          "output_type": "display_data",
          "data": {
            "text/plain": [
              "<Figure size 432x288 with 1 Axes>"
            ],
            "image/png": "[encoded data removed]"
          },
          "metadata": {}
        }
      ],
      "source": [
        "most_popular.head(10).plot(kind = \"bar\", color= 'dodgerblue', legend= False)\n",
        "plt.ylabel('# of Review')\n",
        "plt. show()\n"
      ]
    },
    {
      "cell_type": "markdown",
      "metadata": {
        "id": "9xkXqS1vtLCn"
      },
      "source": [
        "리뷰 수가 어느 정도 이상되는 상품을 대상으로 평균 평점이 4이상인 뷰티 상품을 리턴하게 해보자. \\\\\n",
        "\n",
        "-----\n",
        "\n",
        "리뷰 수가 100개 이상인 상품을 대상으로, 평균 평점이 4 이상인 제품들은 "
      ]
    },
    {
      "cell_type": "code",
      "execution_count": 53,
      "metadata": {
        "colab": {
          "base_uri": "https://localhost:8080/"
        },
        "id": "Jl9Vd0KRkOkm",
        "outputId": "5d8c0ba4-fa35-4519-8c98-0d64c85a6524"
      },
      "outputs": [
        {
          "output_type": "stream",
          "name": "stdout",
          "text": [
            "The Top 10 cosmetics on Amazon now ! \n",
            " ['B001MA0QY2', 'B0043OYFKU', 'B0000YUXI0', 'B003V265QW', 'B000ZMBSPE', 'B003BQ6QXK', 'B004OHQR1Q', 'B00121UVU0', 'B000FS05VG', 'B000142FVW']\n"
          ]
        }
      ],
      "source": [
        "nReview_thr= 100\n",
        "Rate_thr= 4\n",
        "\n",
        "def Rec_popular(nRec, nReview_thr, Rate_thr):\n",
        "  AMZ_cos= pd.DataFrame(amazon_ratings.groupby('ProductId')['Rating'].mean()) # ProductId 에 따른 Rating의 평균값 groupby     \n",
        "  AMZ_cos.rename(columns={'Rating':'Mean_Rate'}, inplace=True) # column name 'Rating' -> 'Mean_Rate'\n",
        "\n",
        "  AMZ_cos['Nreview']=popular_products # 제품명에 따른 리뷰 갯수 열 추가 ('Nreview')\n",
        "  AMZ_cos= AMZ_cos.sort_values('Nreview', ascending=False) # 제품의 리뷰가 많은 순으로 재정렬\n",
        "\n",
        "  Top_cos= AMZ_cos[(AMZ_cos['Nreview'] >= nReview_thr) & (AMZ_cos['Mean_Rate'] >= Rate_thr)] # 리뷰 100개 이상, 평균 평점 4 이상 추출\n",
        "\n",
        "  Top_cos.sort_values('Mean_Rate', ascending=False)\n",
        "  \n",
        "  recommendU= list(Top_cos.head(nRec).index)\n",
        "\n",
        "  print(\"The Top %i cosmetics on Amazon now ! \\n\"%nRec, recommendU)\n",
        "\n",
        "Rec_popular(10, nReview_thr, Rate_thr)"
      ]
    },
    {
      "cell_type": "markdown",
      "metadata": {
        "id": "PwOKoUDpjgS3"
      },
      "source": [
        "------\n",
        "### **2. 모델 기반 추천 시스템**\n",
        "\n",
        "유저의 평점을 예측하여 평점을 준 적 없는 (정보가 없는) 유저에게도 아이템을 추천할 수 있도록 하는것이 목표!\n",
        "\n"
      ]
    },
    {
      "cell_type": "markdown",
      "source": [
        "#### **2-1. 모델 만들기 : SVD based!**"
      ],
      "metadata": {
        "id": "Hp4xtTWB1JvS"
      }
    },
    {
      "cell_type": "markdown",
      "metadata": {
        "id": "c6e4YSzFjzwA"
      },
      "source": [
        "##### **i) 데이터 전처리**\n",
        "효율적인 추천 시스템 구축을 위하여 평점을 10개 미만으로 받은 item은 제외하고 추천한다. "
      ]
    },
    {
      "cell_type": "code",
      "execution_count": 13,
      "metadata": {
        "colab": {
          "base_uri": "https://localhost:8080/",
          "height": 0
        },
        "id": "9Iu61WmnkPom",
        "outputId": "7e15cde3-8a2b-4f62-b277-bcb0e0cdea7d"
      },
      "outputs": [
        {
          "output_type": "stream",
          "name": "stdout",
          "text": [
            "The original data frame shape:\t(2023070, 4)\n",
            "The new data frame shape:\t(1514617, 4)\n"
          ]
        }
      ],
      "source": [
        "mProd_ratings = 10\n",
        "filtered_items = amazon_ratings['ProductId'].value_counts() >= mProd_ratings\n",
        "filtered_items = filtered_items[filtered_items].index.tolist()\n",
        "\n",
        "\n",
        "amzRate_filtered = amazon_ratings[amazon_ratings['ProductId'].isin(filtered_items)]\n",
        "print('The original data frame shape:\\t{}'.format(amazon_ratings.shape))\n",
        "print('The new data frame shape:\\t{}'.format(amzRate_filtered.shape))"
      ]
    },
    {
      "cell_type": "markdown",
      "metadata": {
        "id": "RBc2lQunl5U9"
      },
      "source": [
        "약 51만 개 정도의 데이터 샘플이 지워졌다.\n",
        "\n"
      ]
    },
    {
      "cell_type": "markdown",
      "metadata": {
        "id": "gzSRgCRO4t8F"
      },
      "source": [
        "##### **ii) Surprise SVD**\n",
        "- Surprise의 동작 progress:  \n",
        "  1. 객체 생성:  `SVD()`\n",
        "  2. 학습: `.fit(<train set>)`\n",
        "  3. 예측: \n",
        "    - 전체 test set 예측: `.test(<test set>)` \n",
        "    - 단일 sample 예측: `.predict(<User Id>, <Item Id>` \n",
        "\n",
        "\n",
        "- 반드시 사용자 아이디, 아이템 아이디, 평점 데이터 순으로 되어있으며, header 없는 데이터셋만 적용 가능! \n",
        "  - \"surprise\" 포멧으로 데이터를 불러올 수 있도록 해야함\n",
        "  - csv -> surprise 할 경우, 포멧을 지정해주어야 함 (`Reader`이용)\n",
        "- `surprise.model_selection`의 `GridSearchCV` : 하이퍼 파라미터를 그리드 서치하여 최적 hyper parameter 찾아주고, 교차 검증 해줌.\n",
        "\n",
        "- Hyper-parameter:\n",
        "  - `n_factors`: 축소 차원 수 ( ∑ 의 dimension)\n",
        "  - `n_epochs`: 전체 데이터 셋 훈련 횟수\n",
        "  - `lr_all`: learning rate\n",
        "\n",
        "\n",
        "refs)\n",
        "- https://big-dream-world.tistory.com/70\n",
        "- https://techblog-history-younghunjo1.tistory.com/117\n"
      ]
    },
    {
      "cell_type": "markdown",
      "source": [
        "###### **ii)-1. 필요한 메서드 import**"
      ],
      "metadata": {
        "id": "xnovdQ973B3U"
      }
    },
    {
      "cell_type": "code",
      "source": [
        "%pip install surprise\n",
        "import surprise\n",
        "from surprise import Dataset, dataset, Reader\n",
        "from surprise.model_selection import GridSearchCV, cross_validate,train_test_split\n",
        "from surprise import accuracy\n",
        "\n",
        "import heapq\n",
        "\n",
        "from collections import defaultdict\n",
        "from operator import itemgetter"
      ],
      "metadata": {
        "id": "-bOu2pr-3S9X",
        "colab": {
          "base_uri": "https://localhost:8080/",
          "height": 0
        },
        "outputId": "07c06255-df43-47d6-c79a-37522cca0c75"
      },
      "execution_count": 14,
      "outputs": [
        {
          "output_type": "stream",
          "name": "stdout",
          "text": [
            "Looking in indexes: https://pypi.org/simple, https://us-python.pkg.dev/colab-wheels/public/simple/\n",
            "Collecting surprise\n",
            "  Downloading surprise-0.1-py2.py3-none-any.whl (1.8 kB)\n",
            "Collecting scikit-surprise\n",
            "  Downloading scikit-surprise-1.1.1.tar.gz (11.8 MB)\n",
            "\u001b[K     |████████████████████████████████| 11.8 MB 3.1 MB/s \n",
            "\u001b[?25hRequirement already satisfied: joblib>=0.11 in /usr/local/lib/python3.7/dist-packages (from scikit-surprise->surprise) (1.1.0)\n",
            "Requirement already satisfied: numpy>=1.11.2 in /usr/local/lib/python3.7/dist-packages (from scikit-surprise->surprise) (1.21.6)\n",
            "Requirement already satisfied: scipy>=1.0.0 in /usr/local/lib/python3.7/dist-packages (from scikit-surprise->surprise) (1.7.3)\n",
            "Requirement already satisfied: six>=1.10.0 in /usr/local/lib/python3.7/dist-packages (from scikit-surprise->surprise) (1.15.0)\n",
            "Building wheels for collected packages: scikit-surprise\n",
            "  Building wheel for scikit-surprise (setup.py) ... \u001b[?25l\u001b[?25hdone\n",
            "  Created wheel for scikit-surprise: filename=scikit_surprise-1.1.1-cp37-cp37m-linux_x86_64.whl size=1633958 sha256=a69ec4ee015d020a6371cc3310ec3421a88523f27b8568ad0c78035d4ebfb766\n",
            "  Stored in directory: /root/.cache/pip/wheels/76/44/74/b498c42be47b2406bd27994e16c5188e337c657025ab400c1c\n",
            "Successfully built scikit-surprise\n",
            "Installing collected packages: scikit-surprise, surprise\n",
            "Successfully installed scikit-surprise-1.1.1 surprise-0.1\n"
          ]
        }
      ]
    },
    {
      "cell_type": "markdown",
      "source": [
        "###### **ii)-2. Surprise Dataframe 형식으로 변환**\n"
      ],
      "metadata": {
        "id": "5Og7rppE3aqS"
      }
    },
    {
      "cell_type": "code",
      "source": [
        "# \"\"\"Pandas Dataframe 2 Surprise Dataframe\"\"\"\n",
        "\n",
        "class Pd2Sur(dataset.DatasetAutoFolds):\n",
        "    def __init__(self, df, reader):\n",
        "        self.raw_ratings = [(uid, iid, r, None) for (uid, iid, r) in\n",
        "                            zip(df['UserId'], df['ProductId'], df['Rating'])]\n",
        "        self.reader=reader\n",
        "\n",
        "\n",
        "reader = Reader(line_format='user item rating timestamp', sep=',', skip_lines= 1)\n",
        "data = Pd2Sur(amzRate_filtered, reader) # 평점이 10개 이하인 items를 제외 & 평점기록 있는 샘플들 데이터셋을 불러옴!\n"
      ],
      "metadata": {
        "id": "2iCayChr3iah"
      },
      "execution_count": 15,
      "outputs": []
    },
    {
      "cell_type": "markdown",
      "source": [
        "###### **ii)-3. 최적의 Hyper-params / Algorithm 탐색**\n",
        "\n",
        "- 최적 hyperparameter ? `GridSearchCV()`"
      ],
      "metadata": {
        "id": "ENemF8oe3xpn"
      }
    },
    {
      "cell_type": "code",
      "source": [
        "# #@title\n",
        "# # \"\"\"최적값 탐색 (GridSearchCV) & k-fold Validation\"\"\"\n",
        "# param_grid = {                # 탐색할 최적hyper-parameter 사전 지정 \n",
        "#     'n_epochs': [20,30],\n",
        "#     'lr_all': [0.005, 0.010],\n",
        "#     'n_factors' : [50,100]\n",
        "# }\n",
        "# gs= GridSearchCV(SVD, param_grid, measures=['rmse', 'mae'], cv=3)\n",
        "# gs.fit(data)\n",
        "\n",
        "# # RMSE\n",
        "# print(\"Best RMSE score attained: \", gs.best_score['rmse'])\n",
        "# print(\"Best RMSE params: \", gs.best_params['rmse'])\n",
        "\n",
        "# # MAE\n",
        "# print(\"Best RAE score attained: \", gs.best_score['mae'])\n",
        "# print(\"Best RAE params: \", gs.best_params['mae'])\n",
        "\n",
        "# # Best RMSE score attained:  1.2507946607501712\n",
        "# # Best RMSE params:  {'n_epochs': 20, 'lr_all': 0.005, 'n_factors': 50}\n",
        "# # Best RAE score attained:  0.96847657418555\n",
        "# # Best RAE params:  {'n_epochs': 50, 'lr_all': 0.01, 'n_factors': 50}\n",
        "\n",
        "# #@title\n",
        "# svd= gs.best_estimator['rmse']\n",
        "# trn= data.build_full_trainset() # 모든 데이터 샘플을 train set으로!\n",
        "# svd.fit(trn)\n",
        "\n"
      ],
      "metadata": {
        "id": "iAc7HlTC34te"
      },
      "execution_count": 16,
      "outputs": []
    },
    {
      "cell_type": "markdown",
      "source": [
        "--> 너무!! 오래걸림ㅠ "
      ],
      "metadata": {
        "id": "eo9cANxn3-h0"
      }
    },
    {
      "cell_type": "markdown",
      "source": [
        "- 최적의 SVD 기반 알고리즘 탐색\n",
        "  : **SVD, SVDpp, NormalPredictor, BaselineOnly**"
      ],
      "metadata": {
        "id": "cJzCJdSq9lct"
      }
    },
    {
      "cell_type": "code",
      "source": [
        "# from surprise import SVD, SVDpp, NormalPredictor, BaselineOnly\n",
        "\n",
        "# algos = []\n",
        "# # 모든 알고리즘을 literate화 시켜서 반복문을 실행시킨다.\n",
        "# for algorithm in [SVD(), SVDpp(), NormalPredictor(),BaselineOnly()]:\n",
        "    \n",
        "#     # 교차검증\n",
        "#     results = cross_validate(algorithm, data, measures=['RMSE'], cv=3, verbose=False)\n",
        "    \n",
        "#     # 결과 저장과 알고리즘 이름 추가\n",
        "#     tmp = pd.DataFrame.from_dict(results).mean(axis=0)\n",
        "#     tmp = tmp.append(pd.Series([str(algorithm).split(' ')[0].split('.')[-1]], index=['Algorithm']))\n",
        "#     algos.append(tmp)\n",
        "    \n",
        "# pd.DataFrame(algos).set_index('Algorithm').sort_values('test_rmse')    \n",
        "  \n",
        "\n",
        "# Estimating biases using als...\n",
        "# Estimating biases using als...\n",
        "# Estimating biases using als...\n",
        "# test_rmse\tfit_time\ttest_time\n",
        "# Algorithm\t\t\t\n",
        "# BaselineOnly\t1.251366\t13.151686\t5.769353\n",
        "# SVD\t1.252803\t91.789061\t9.232320\n",
        "# SVDpp\t1.259822\t168.864259\t15.021568\n",
        "# NormalPredictor\t1.671706\t3.090116\t8.251137\n",
        "# runtime: 2h 20m 18s"
      ],
      "metadata": {
        "id": "9KNcsymP99S8"
      },
      "execution_count": 17,
      "outputs": []
    },
    {
      "cell_type": "markdown",
      "source": [
        "-> Baseline 고려한 알고리즘이 가장 성능 \n",
        "\n",
        "괜찮으므로, **BaselineOnly** 채택!"
      ],
      "metadata": {
        "id": "Obbqugse-LUt"
      }
    },
    {
      "cell_type": "markdown",
      "source": [
        "###### **ii)-4. Train-Test set**\n"
      ],
      "metadata": {
        "id": "BzPs8PB44HoS"
      }
    },
    {
      "cell_type": "code",
      "source": [
        "from surprise.model_selection import train_test_split\n",
        "trn, tst = train_test_split(data, test_size=.3)\n"
      ],
      "metadata": {
        "id": "vOOqCwDh84V2"
      },
      "execution_count": 18,
      "outputs": []
    },
    {
      "cell_type": "markdown",
      "source": [
        "###### **ii)-5. BaselineOnly 학습 & 피팅**\n"
      ],
      "metadata": {
        "id": "SoOtbVXY-fmb"
      }
    },
    {
      "cell_type": "code",
      "source": [
        "from surprise import BaselineOnly\n",
        "\n",
        "bsl_options = {\n",
        "    \"method\": \"sgd\",\n",
        "    \"n_epochs\": 20,\n",
        "    \"learning_rate\": 0.005\n",
        "}\n",
        "BLO = BaselineOnly(bsl_options=bsl_options)\n",
        "BLO.fit(trn)\n",
        "\n",
        "pred=[]\n",
        "pred= BLO.test(tst)"
      ],
      "metadata": {
        "colab": {
          "base_uri": "https://localhost:8080/",
          "height": 0
        },
        "id": "o735xFUj-l-G",
        "outputId": "68cfaf4a-3c34-4e14-9967-aa5bdfe34d94"
      },
      "execution_count": 19,
      "outputs": [
        {
          "output_type": "stream",
          "name": "stdout",
          "text": [
            "Estimating biases using sgd...\n"
          ]
        }
      ]
    },
    {
      "cell_type": "code",
      "source": [
        "print(\"RMSE: \",accuracy.rmse(pred))\n",
        "print(\"MAE: \", accuracy.mae(pred))"
      ],
      "metadata": {
        "colab": {
          "base_uri": "https://localhost:8080/",
          "height": 0
        },
        "id": "EBR-KIL9_jVN",
        "outputId": "e52da0a3-e2a6-4970-b5fe-e08909893963"
      },
      "execution_count": 20,
      "outputs": [
        {
          "output_type": "stream",
          "name": "stdout",
          "text": [
            "RMSE: 1.2342\n",
            "RMSE:  1.2342336960291918\n",
            "MAE:  0.9625\n",
            "MAE:  0.9624716892930252\n"
          ]
        }
      ]
    },
    {
      "cell_type": "markdown",
      "source": [
        "예측값을 다루기 쉽게 pandas DataFrame 형식으로 변환"
      ],
      "metadata": {
        "id": "32nU5Mhx_1FQ"
      }
    },
    {
      "cell_type": "code",
      "source": [
        "results_list=[]\n",
        "\n",
        "for result in pred:\n",
        "  results_list.append([result.uid, result.iid, result.r_ui, result.est])\n",
        "  \n",
        "\n",
        "results= pd.DataFrame(results_list,columns= ['UserId','ProductId','Rating','Pred_bl'])\n",
        "results.head(10)"
      ],
      "metadata": {
        "colab": {
          "base_uri": "https://localhost:8080/",
          "height": 363
        },
        "id": "_vBltpyy_0ej",
        "outputId": "b0f2a4c4-bff7-4b5b-bc62-1e20fd2c62bc"
      },
      "execution_count": 21,
      "outputs": [
        {
          "output_type": "execute_result",
          "data": {
            "text/plain": [
              "           UserId   ProductId  Rating   Pred_bl\n",
              "0  A2EYVGXW1H3ZFR  B005WWBGPO     5.0  4.296536\n",
              "1  A1WLDL2OWMTC18  B000SWY02O     5.0  4.380759\n",
              "2  A2CHH5P055A0KL  B0030HKJ8I     5.0  4.519408\n",
              "3  A3AERJ7NNSM3OC  B005KO7NK6     5.0  3.933202\n",
              "4  A29EFNCFEELB6S  B00772AKMM     5.0  4.846733\n",
              "5  A3CYZDGVELZZ8T  B001JDHR4Y     5.0  4.337216\n",
              "6  A3K6OJS5JIZ1AW  B0012RYDWG     5.0  4.370013\n",
              "7  A3LH77PBDFEO3F  B00067YSLO     5.0  4.265435\n",
              "8  A1BA21XNJIB87I  B00AM8923G     5.0  3.521402\n",
              "9  A2PDIW4392JBT0  B00BOH1PQQ     5.0  3.633190"
            ],
            "text/html": [
              "\n",
              "  <div id=\"df-03898b99-8f44-4fc7-b89d-c000eb9f1e57\">\n",
              "    <div class=\"colab-df-container\">\n",
              "      <div>\n",
              "<style scoped>\n",
              "    .dataframe tbody tr th:only-of-type {\n",
              "        vertical-align: middle;\n",
              "    }\n",
              "\n",
              "    .dataframe tbody tr th {\n",
              "        vertical-align: top;\n",
              "    }\n",
              "\n",
              "    .dataframe thead th {\n",
              "        text-align: right;\n",
              "    }\n",
              "</style>\n",
              "<table border=\"1\" class=\"dataframe\">\n",
              "  <thead>\n",
              "    <tr style=\"text-align: right;\">\n",
              "      <th></th>\n",
              "      <th>UserId</th>\n",
              "      <th>ProductId</th>\n",
              "      <th>Rating</th>\n",
              "      <th>Pred_bl</th>\n",
              "    </tr>\n",
              "  </thead>\n",
              "  <tbody>\n",
              "    <tr>\n",
              "      <th>0</th>\n",
              "      <td>A2EYVGXW1H3ZFR</td>\n",
              "      <td>B005WWBGPO</td>\n",
              "      <td>5.0</td>\n",
              "      <td>4.296536</td>\n",
              "    </tr>\n",
              "    <tr>\n",
              "      <th>1</th>\n",
              "      <td>A1WLDL2OWMTC18</td>\n",
              "      <td>B000SWY02O</td>\n",
              "      <td>5.0</td>\n",
              "      <td>4.380759</td>\n",
              "    </tr>\n",
              "    <tr>\n",
              "      <th>2</th>\n",
              "      <td>A2CHH5P055A0KL</td>\n",
              "      <td>B0030HKJ8I</td>\n",
              "      <td>5.0</td>\n",
              "      <td>4.519408</td>\n",
              "    </tr>\n",
              "    <tr>\n",
              "      <th>3</th>\n",
              "      <td>A3AERJ7NNSM3OC</td>\n",
              "      <td>B005KO7NK6</td>\n",
              "      <td>5.0</td>\n",
              "      <td>3.933202</td>\n",
              "    </tr>\n",
              "    <tr>\n",
              "      <th>4</th>\n",
              "      <td>A29EFNCFEELB6S</td>\n",
              "      <td>B00772AKMM</td>\n",
              "      <td>5.0</td>\n",
              "      <td>4.846733</td>\n",
              "    </tr>\n",
              "    <tr>\n",
              "      <th>5</th>\n",
              "      <td>A3CYZDGVELZZ8T</td>\n",
              "      <td>B001JDHR4Y</td>\n",
              "      <td>5.0</td>\n",
              "      <td>4.337216</td>\n",
              "    </tr>\n",
              "    <tr>\n",
              "      <th>6</th>\n",
              "      <td>A3K6OJS5JIZ1AW</td>\n",
              "      <td>B0012RYDWG</td>\n",
              "      <td>5.0</td>\n",
              "      <td>4.370013</td>\n",
              "    </tr>\n",
              "    <tr>\n",
              "      <th>7</th>\n",
              "      <td>A3LH77PBDFEO3F</td>\n",
              "      <td>B00067YSLO</td>\n",
              "      <td>5.0</td>\n",
              "      <td>4.265435</td>\n",
              "    </tr>\n",
              "    <tr>\n",
              "      <th>8</th>\n",
              "      <td>A1BA21XNJIB87I</td>\n",
              "      <td>B00AM8923G</td>\n",
              "      <td>5.0</td>\n",
              "      <td>3.521402</td>\n",
              "    </tr>\n",
              "    <tr>\n",
              "      <th>9</th>\n",
              "      <td>A2PDIW4392JBT0</td>\n",
              "      <td>B00BOH1PQQ</td>\n",
              "      <td>5.0</td>\n",
              "      <td>3.633190</td>\n",
              "    </tr>\n",
              "  </tbody>\n",
              "</table>\n",
              "</div>\n",
              "      <button class=\"colab-df-convert\" onclick=\"convertToInteractive('df-03898b99-8f44-4fc7-b89d-c000eb9f1e57')\"\n",
              "              title=\"Convert this dataframe to an interactive table.\"\n",
              "              style=\"display:none;\">\n",
              "        \n",
              "  <svg xmlns=\"http://www.w3.org/2000/svg\" height=\"24px\"viewBox=\"0 0 24 24\"\n",
              "       width=\"24px\">\n",
              "    <path d=\"M0 0h24v24H0V0z\" fill=\"none\"/>\n",
              "    <path d=\"M18.56 5.44l.94 2.06.94-2.06 2.06-.94-2.06-.94-.94-2.06-.94 2.06-2.06.94zm-11 1L8.5 8.5l.94-2.06 2.06-.94-2.06-.94L8.5 2.5l-.94 2.06-2.06.94zm10 10l.94 2.06.94-2.06 2.06-.94-2.06-.94-.94-2.06-.94 2.06-2.06.94z\"/><path d=\"M17.41 7.96l-1.37-1.37c-.4-.4-.92-.59-1.43-.59-.52 0-1.04.2-1.43.59L10.3 9.45l-7.72 7.72c-.78.78-.78 2.05 0 2.83L4 21.41c.39.39.9.59 1.41.59.51 0 1.02-.2 1.41-.59l7.78-7.78 2.81-2.81c.8-.78.8-2.07 0-2.86zM5.41 20L4 18.59l7.72-7.72 1.47 1.35L5.41 20z\"/>\n",
              "  </svg>\n",
              "      </button>\n",
              "      \n",
              "  <style>\n",
              "    .colab-df-container {\n",
              "      display:flex;\n",
              "      flex-wrap:wrap;\n",
              "      gap: 12px;\n",
              "    }\n",
              "\n",
              "    .colab-df-convert {\n",
              "      background-color: #E8F0FE;\n",
              "      border: none;\n",
              "      border-radius: 50%;\n",
              "      cursor: pointer;\n",
              "      display: none;\n",
              "      fill: #1967D2;\n",
              "      height: 32px;\n",
              "      padding: 0 0 0 0;\n",
              "      width: 32px;\n",
              "    }\n",
              "\n",
              "    .colab-df-convert:hover {\n",
              "      background-color: #E2EBFA;\n",
              "      box-shadow: 0px 1px 2px rgba(60, 64, 67, 0.3), 0px 1px 3px 1px rgba(60, 64, 67, 0.15);\n",
              "      fill: #174EA6;\n",
              "    }\n",
              "\n",
              "    [theme=dark] .colab-df-convert {\n",
              "      background-color: #3B4455;\n",
              "      fill: #D2E3FC;\n",
              "    }\n",
              "\n",
              "    [theme=dark] .colab-df-convert:hover {\n",
              "      background-color: #434B5C;\n",
              "      box-shadow: 0px 1px 3px 1px rgba(0, 0, 0, 0.15);\n",
              "      filter: drop-shadow(0px 1px 2px rgba(0, 0, 0, 0.3));\n",
              "      fill: #FFFFFF;\n",
              "    }\n",
              "  </style>\n",
              "\n",
              "      <script>\n",
              "        const buttonEl =\n",
              "          document.querySelector('#df-03898b99-8f44-4fc7-b89d-c000eb9f1e57 button.colab-df-convert');\n",
              "        buttonEl.style.display =\n",
              "          google.colab.kernel.accessAllowed ? 'block' : 'none';\n",
              "\n",
              "        async function convertToInteractive(key) {\n",
              "          const element = document.querySelector('#df-03898b99-8f44-4fc7-b89d-c000eb9f1e57');\n",
              "          const dataTable =\n",
              "            await google.colab.kernel.invokeFunction('convertToInteractive',\n",
              "                                                     [key], {});\n",
              "          if (!dataTable) return;\n",
              "\n",
              "          const docLinkHtml = 'Like what you see? Visit the ' +\n",
              "            '<a target=\"_blank\" href=https://colab.research.google.com/notebooks/data_table.ipynb>data table notebook</a>'\n",
              "            + ' to learn more about interactive tables.';\n",
              "          element.innerHTML = '';\n",
              "          dataTable['output_type'] = 'display_data';\n",
              "          await google.colab.output.renderOutput(dataTable, element);\n",
              "          const docLink = document.createElement('div');\n",
              "          docLink.innerHTML = docLinkHtml;\n",
              "          element.appendChild(docLink);\n",
              "        }\n",
              "      </script>\n",
              "    </div>\n",
              "  </div>\n",
              "  "
            ]
          },
          "metadata": {},
          "execution_count": 21
        }
      ]
    },
    {
      "cell_type": "markdown",
      "source": [
        "Train, Test set 아니었던 값 넣어서 prediction 해보기 "
      ],
      "metadata": {
        "id": "ku3L5edzdhZV"
      }
    },
    {
      "cell_type": "code",
      "source": [
        "real_mat= results.head(10000).pivot_table(values='Rating', index='UserId', columns='ProductId')\n",
        "real_mat.head()"
      ],
      "metadata": {
        "colab": {
          "base_uri": "https://localhost:8080/",
          "height": 331
        },
        "id": "Sz81W-rLcR2N",
        "outputId": "4f4896eb-9d35-4b16-92f2-55c01e705e10"
      },
      "execution_count": 22,
      "outputs": [
        {
          "output_type": "execute_result",
          "data": {
            "text/plain": [
              "ProductId              535795531X  7806397051  9790778872  9790786875  \\\n",
              "UserId                                                                  \n",
              "A0018632VUVKRGSYBEAT          NaN         NaN         NaN         NaN   \n",
              "A02238611KADHRFBPKAUK         NaN         NaN         NaN         NaN   \n",
              "A03197302XWG2A14N14YQ         NaN         NaN         NaN         NaN   \n",
              "A0459829SI5B5WIOZZHX          NaN         NaN         NaN         NaN   \n",
              "A059303511MRU8YSIIYJ1         NaN         NaN         NaN         NaN   \n",
              "\n",
              "ProductId              9790789939  9790790961  B00004TUBL  B00004TUBV  \\\n",
              "UserId                                                                  \n",
              "A0018632VUVKRGSYBEAT          NaN         NaN         NaN         NaN   \n",
              "A02238611KADHRFBPKAUK         NaN         NaN         NaN         NaN   \n",
              "A03197302XWG2A14N14YQ         NaN         NaN         NaN         NaN   \n",
              "A0459829SI5B5WIOZZHX          NaN         NaN         NaN         NaN   \n",
              "A059303511MRU8YSIIYJ1         NaN         NaN         NaN         NaN   \n",
              "\n",
              "ProductId              B00004U9V2  B000050B6U  ...  B00KCTER3U  B00KD73PBQ  \\\n",
              "UserId                                         ...                           \n",
              "A0018632VUVKRGSYBEAT          NaN         NaN  ...         NaN         NaN   \n",
              "A02238611KADHRFBPKAUK         NaN         NaN  ...         NaN         NaN   \n",
              "A03197302XWG2A14N14YQ         NaN         NaN  ...         NaN         NaN   \n",
              "A0459829SI5B5WIOZZHX          NaN         NaN  ...         NaN         NaN   \n",
              "A059303511MRU8YSIIYJ1         NaN         NaN  ...         NaN         NaN   \n",
              "\n",
              "ProductId              B00KGDRCZW  B00KH6F6TM  B00KNIL36E  B00KQBR9FM  \\\n",
              "UserId                                                                  \n",
              "A0018632VUVKRGSYBEAT          NaN         NaN         NaN         NaN   \n",
              "A02238611KADHRFBPKAUK         NaN         NaN         NaN         NaN   \n",
              "A03197302XWG2A14N14YQ         NaN         NaN         NaN         NaN   \n",
              "A0459829SI5B5WIOZZHX          NaN         NaN         NaN         NaN   \n",
              "A059303511MRU8YSIIYJ1         NaN         NaN         NaN         NaN   \n",
              "\n",
              "ProductId              B00KQWBJ5W  B00KTLBEEQ  B00KTP8Q1G  B00L5JHZJO  \n",
              "UserId                                                                 \n",
              "A0018632VUVKRGSYBEAT          NaN         NaN         NaN         NaN  \n",
              "A02238611KADHRFBPKAUK         NaN         NaN         NaN         NaN  \n",
              "A03197302XWG2A14N14YQ         NaN         NaN         NaN         NaN  \n",
              "A0459829SI5B5WIOZZHX          NaN         NaN         NaN         NaN  \n",
              "A059303511MRU8YSIIYJ1         NaN         NaN         NaN         NaN  \n",
              "\n",
              "[5 rows x 7056 columns]"
            ],
            "text/html": [
              "\n",
              "  <div id=\"df-079085cd-eee1-4f86-9ec8-b70997363d93\">\n",
              "    <div class=\"colab-df-container\">\n",
              "      <div>\n",
              "<style scoped>\n",
              "    .dataframe tbody tr th:only-of-type {\n",
              "        vertical-align: middle;\n",
              "    }\n",
              "\n",
              "    .dataframe tbody tr th {\n",
              "        vertical-align: top;\n",
              "    }\n",
              "\n",
              "    .dataframe thead th {\n",
              "        text-align: right;\n",
              "    }\n",
              "</style>\n",
              "<table border=\"1\" class=\"dataframe\">\n",
              "  <thead>\n",
              "    <tr style=\"text-align: right;\">\n",
              "      <th>ProductId</th>\n",
              "      <th>535795531X</th>\n",
              "      <th>7806397051</th>\n",
              "      <th>9790778872</th>\n",
              "      <th>9790786875</th>\n",
              "      <th>9790789939</th>\n",
              "      <th>9790790961</th>\n",
              "      <th>B00004TUBL</th>\n",
              "      <th>B00004TUBV</th>\n",
              "      <th>B00004U9V2</th>\n",
              "      <th>B000050B6U</th>\n",
              "      <th>...</th>\n",
              "      <th>B00KCTER3U</th>\n",
              "      <th>B00KD73PBQ</th>\n",
              "      <th>B00KGDRCZW</th>\n",
              "      <th>B00KH6F6TM</th>\n",
              "      <th>B00KNIL36E</th>\n",
              "      <th>B00KQBR9FM</th>\n",
              "      <th>B00KQWBJ5W</th>\n",
              "      <th>B00KTLBEEQ</th>\n",
              "      <th>B00KTP8Q1G</th>\n",
              "      <th>B00L5JHZJO</th>\n",
              "    </tr>\n",
              "    <tr>\n",
              "      <th>UserId</th>\n",
              "      <th></th>\n",
              "      <th></th>\n",
              "      <th></th>\n",
              "      <th></th>\n",
              "      <th></th>\n",
              "      <th></th>\n",
              "      <th></th>\n",
              "      <th></th>\n",
              "      <th></th>\n",
              "      <th></th>\n",
              "      <th></th>\n",
              "      <th></th>\n",
              "      <th></th>\n",
              "      <th></th>\n",
              "      <th></th>\n",
              "      <th></th>\n",
              "      <th></th>\n",
              "      <th></th>\n",
              "      <th></th>\n",
              "      <th></th>\n",
              "      <th></th>\n",
              "    </tr>\n",
              "  </thead>\n",
              "  <tbody>\n",
              "    <tr>\n",
              "      <th>A0018632VUVKRGSYBEAT</th>\n",
              "      <td>NaN</td>\n",
              "      <td>NaN</td>\n",
              "      <td>NaN</td>\n",
              "      <td>NaN</td>\n",
              "      <td>NaN</td>\n",
              "      <td>NaN</td>\n",
              "      <td>NaN</td>\n",
              "      <td>NaN</td>\n",
              "      <td>NaN</td>\n",
              "      <td>NaN</td>\n",
              "      <td>...</td>\n",
              "      <td>NaN</td>\n",
              "      <td>NaN</td>\n",
              "      <td>NaN</td>\n",
              "      <td>NaN</td>\n",
              "      <td>NaN</td>\n",
              "      <td>NaN</td>\n",
              "      <td>NaN</td>\n",
              "      <td>NaN</td>\n",
              "      <td>NaN</td>\n",
              "      <td>NaN</td>\n",
              "    </tr>\n",
              "    <tr>\n",
              "      <th>A02238611KADHRFBPKAUK</th>\n",
              "      <td>NaN</td>\n",
              "      <td>NaN</td>\n",
              "      <td>NaN</td>\n",
              "      <td>NaN</td>\n",
              "      <td>NaN</td>\n",
              "      <td>NaN</td>\n",
              "      <td>NaN</td>\n",
              "      <td>NaN</td>\n",
              "      <td>NaN</td>\n",
              "      <td>NaN</td>\n",
              "      <td>...</td>\n",
              "      <td>NaN</td>\n",
              "      <td>NaN</td>\n",
              "      <td>NaN</td>\n",
              "      <td>NaN</td>\n",
              "      <td>NaN</td>\n",
              "      <td>NaN</td>\n",
              "      <td>NaN</td>\n",
              "      <td>NaN</td>\n",
              "      <td>NaN</td>\n",
              "      <td>NaN</td>\n",
              "    </tr>\n",
              "    <tr>\n",
              "      <th>A03197302XWG2A14N14YQ</th>\n",
              "      <td>NaN</td>\n",
              "      <td>NaN</td>\n",
              "      <td>NaN</td>\n",
              "      <td>NaN</td>\n",
              "      <td>NaN</td>\n",
              "      <td>NaN</td>\n",
              "      <td>NaN</td>\n",
              "      <td>NaN</td>\n",
              "      <td>NaN</td>\n",
              "      <td>NaN</td>\n",
              "      <td>...</td>\n",
              "      <td>NaN</td>\n",
              "      <td>NaN</td>\n",
              "      <td>NaN</td>\n",
              "      <td>NaN</td>\n",
              "      <td>NaN</td>\n",
              "      <td>NaN</td>\n",
              "      <td>NaN</td>\n",
              "      <td>NaN</td>\n",
              "      <td>NaN</td>\n",
              "      <td>NaN</td>\n",
              "    </tr>\n",
              "    <tr>\n",
              "      <th>A0459829SI5B5WIOZZHX</th>\n",
              "      <td>NaN</td>\n",
              "      <td>NaN</td>\n",
              "      <td>NaN</td>\n",
              "      <td>NaN</td>\n",
              "      <td>NaN</td>\n",
              "      <td>NaN</td>\n",
              "      <td>NaN</td>\n",
              "      <td>NaN</td>\n",
              "      <td>NaN</td>\n",
              "      <td>NaN</td>\n",
              "      <td>...</td>\n",
              "      <td>NaN</td>\n",
              "      <td>NaN</td>\n",
              "      <td>NaN</td>\n",
              "      <td>NaN</td>\n",
              "      <td>NaN</td>\n",
              "      <td>NaN</td>\n",
              "      <td>NaN</td>\n",
              "      <td>NaN</td>\n",
              "      <td>NaN</td>\n",
              "      <td>NaN</td>\n",
              "    </tr>\n",
              "    <tr>\n",
              "      <th>A059303511MRU8YSIIYJ1</th>\n",
              "      <td>NaN</td>\n",
              "      <td>NaN</td>\n",
              "      <td>NaN</td>\n",
              "      <td>NaN</td>\n",
              "      <td>NaN</td>\n",
              "      <td>NaN</td>\n",
              "      <td>NaN</td>\n",
              "      <td>NaN</td>\n",
              "      <td>NaN</td>\n",
              "      <td>NaN</td>\n",
              "      <td>...</td>\n",
              "      <td>NaN</td>\n",
              "      <td>NaN</td>\n",
              "      <td>NaN</td>\n",
              "      <td>NaN</td>\n",
              "      <td>NaN</td>\n",
              "      <td>NaN</td>\n",
              "      <td>NaN</td>\n",
              "      <td>NaN</td>\n",
              "      <td>NaN</td>\n",
              "      <td>NaN</td>\n",
              "    </tr>\n",
              "  </tbody>\n",
              "</table>\n",
              "<p>5 rows × 7056 columns</p>\n",
              "</div>\n",
              "      <button class=\"colab-df-convert\" onclick=\"convertToInteractive('df-079085cd-eee1-4f86-9ec8-b70997363d93')\"\n",
              "              title=\"Convert this dataframe to an interactive table.\"\n",
              "              style=\"display:none;\">\n",
              "        \n",
              "  <svg xmlns=\"http://www.w3.org/2000/svg\" height=\"24px\"viewBox=\"0 0 24 24\"\n",
              "       width=\"24px\">\n",
              "    <path d=\"M0 0h24v24H0V0z\" fill=\"none\"/>\n",
              "    <path d=\"M18.56 5.44l.94 2.06.94-2.06 2.06-.94-2.06-.94-.94-2.06-.94 2.06-2.06.94zm-11 1L8.5 8.5l.94-2.06 2.06-.94-2.06-.94L8.5 2.5l-.94 2.06-2.06.94zm10 10l.94 2.06.94-2.06 2.06-.94-2.06-.94-.94-2.06-.94 2.06-2.06.94z\"/><path d=\"M17.41 7.96l-1.37-1.37c-.4-.4-.92-.59-1.43-.59-.52 0-1.04.2-1.43.59L10.3 9.45l-7.72 7.72c-.78.78-.78 2.05 0 2.83L4 21.41c.39.39.9.59 1.41.59.51 0 1.02-.2 1.41-.59l7.78-7.78 2.81-2.81c.8-.78.8-2.07 0-2.86zM5.41 20L4 18.59l7.72-7.72 1.47 1.35L5.41 20z\"/>\n",
              "  </svg>\n",
              "      </button>\n",
              "      \n",
              "  <style>\n",
              "    .colab-df-container {\n",
              "      display:flex;\n",
              "      flex-wrap:wrap;\n",
              "      gap: 12px;\n",
              "    }\n",
              "\n",
              "    .colab-df-convert {\n",
              "      background-color: #E8F0FE;\n",
              "      border: none;\n",
              "      border-radius: 50%;\n",
              "      cursor: pointer;\n",
              "      display: none;\n",
              "      fill: #1967D2;\n",
              "      height: 32px;\n",
              "      padding: 0 0 0 0;\n",
              "      width: 32px;\n",
              "    }\n",
              "\n",
              "    .colab-df-convert:hover {\n",
              "      background-color: #E2EBFA;\n",
              "      box-shadow: 0px 1px 2px rgba(60, 64, 67, 0.3), 0px 1px 3px 1px rgba(60, 64, 67, 0.15);\n",
              "      fill: #174EA6;\n",
              "    }\n",
              "\n",
              "    [theme=dark] .colab-df-convert {\n",
              "      background-color: #3B4455;\n",
              "      fill: #D2E3FC;\n",
              "    }\n",
              "\n",
              "    [theme=dark] .colab-df-convert:hover {\n",
              "      background-color: #434B5C;\n",
              "      box-shadow: 0px 1px 3px 1px rgba(0, 0, 0, 0.15);\n",
              "      filter: drop-shadow(0px 1px 2px rgba(0, 0, 0, 0.3));\n",
              "      fill: #FFFFFF;\n",
              "    }\n",
              "  </style>\n",
              "\n",
              "      <script>\n",
              "        const buttonEl =\n",
              "          document.querySelector('#df-079085cd-eee1-4f86-9ec8-b70997363d93 button.colab-df-convert');\n",
              "        buttonEl.style.display =\n",
              "          google.colab.kernel.accessAllowed ? 'block' : 'none';\n",
              "\n",
              "        async function convertToInteractive(key) {\n",
              "          const element = document.querySelector('#df-079085cd-eee1-4f86-9ec8-b70997363d93');\n",
              "          const dataTable =\n",
              "            await google.colab.kernel.invokeFunction('convertToInteractive',\n",
              "                                                     [key], {});\n",
              "          if (!dataTable) return;\n",
              "\n",
              "          const docLinkHtml = 'Like what you see? Visit the ' +\n",
              "            '<a target=\"_blank\" href=https://colab.research.google.com/notebooks/data_table.ipynb>data table notebook</a>'\n",
              "            + ' to learn more about interactive tables.';\n",
              "          element.innerHTML = '';\n",
              "          dataTable['output_type'] = 'display_data';\n",
              "          await google.colab.output.renderOutput(dataTable, element);\n",
              "          const docLink = document.createElement('div');\n",
              "          docLink.innerHTML = docLinkHtml;\n",
              "          element.appendChild(docLink);\n",
              "        }\n",
              "      </script>\n",
              "    </div>\n",
              "  </div>\n",
              "  "
            ]
          },
          "metadata": {},
          "execution_count": 22
        }
      ]
    },
    {
      "cell_type": "markdown",
      "source": [
        "###### **ii)-6 Performance**\n"
      ],
      "metadata": {
        "id": "Yvga6bfe_9zk"
      }
    },
    {
      "cell_type": "code",
      "source": [
        "BLO.predict(\"A004511036AHSSV5O4SBY\",\"9788071198\")"
      ],
      "metadata": {
        "colab": {
          "base_uri": "https://localhost:8080/",
          "height": 0
        },
        "id": "5fWnzUbbc3hS",
        "outputId": "a099dbf6-685f-49f9-9936-6cf83624f390"
      },
      "execution_count": 23,
      "outputs": [
        {
          "output_type": "execute_result",
          "data": {
            "text/plain": [
              "Prediction(uid='A004511036AHSSV5O4SBY', iid='9788071198', r_ui=None, est=3.9683410311151626, details={'was_impossible': False})"
            ]
          },
          "metadata": {},
          "execution_count": 23
        }
      ]
    },
    {
      "cell_type": "code",
      "source": [
        "from sklearn import metrics\n",
        "\n",
        "def scoring(y_true, y_pred):\n",
        "    r2= round(metrics.r2_score(y_true, y_pred)*100,3)\n",
        "    \n",
        "    corr= round(np.corrcoef(y_true, y_pred)[0,1],3)\n",
        "    mape= round(\n",
        "        metrics.mean_absolute_percentage_error(y_true, y_pred)*100,3)\n",
        "    rmse= round(metrics.mean_squared_error(y_true, y_pred, squared=False),3)\n",
        "    \n",
        "    df= pd.DataFrame({\"R2\":r2,\n",
        "                     \"Corr\": corr,\n",
        "                     \"RMSE\": rmse,\n",
        "                     \"MAPE\":mape},\n",
        "                    index=[0])\n",
        "    return df\n",
        "\n",
        "scoring(results.Rating, results.Pred_bl)"
      ],
      "metadata": {
        "colab": {
          "base_uri": "https://localhost:8080/",
          "height": 81
        },
        "id": "5PzVEi0tAEM3",
        "outputId": "24c409fd-ddcc-422f-e7dd-d29ab34ee5ac"
      },
      "execution_count": 24,
      "outputs": [
        {
          "output_type": "execute_result",
          "data": {
            "text/plain": [
              "       R2   Corr   RMSE    MAPE\n",
              "0  10.628  0.326  1.234  44.014"
            ],
            "text/html": [
              "\n",
              "  <div id=\"df-eb49965d-53d7-4059-8865-a043dbad75d5\">\n",
              "    <div class=\"colab-df-container\">\n",
              "      <div>\n",
              "<style scoped>\n",
              "    .dataframe tbody tr th:only-of-type {\n",
              "        vertical-align: middle;\n",
              "    }\n",
              "\n",
              "    .dataframe tbody tr th {\n",
              "        vertical-align: top;\n",
              "    }\n",
              "\n",
              "    .dataframe thead th {\n",
              "        text-align: right;\n",
              "    }\n",
              "</style>\n",
              "<table border=\"1\" class=\"dataframe\">\n",
              "  <thead>\n",
              "    <tr style=\"text-align: right;\">\n",
              "      <th></th>\n",
              "      <th>R2</th>\n",
              "      <th>Corr</th>\n",
              "      <th>RMSE</th>\n",
              "      <th>MAPE</th>\n",
              "    </tr>\n",
              "  </thead>\n",
              "  <tbody>\n",
              "    <tr>\n",
              "      <th>0</th>\n",
              "      <td>10.628</td>\n",
              "      <td>0.326</td>\n",
              "      <td>1.234</td>\n",
              "      <td>44.014</td>\n",
              "    </tr>\n",
              "  </tbody>\n",
              "</table>\n",
              "</div>\n",
              "      <button class=\"colab-df-convert\" onclick=\"convertToInteractive('df-eb49965d-53d7-4059-8865-a043dbad75d5')\"\n",
              "              title=\"Convert this dataframe to an interactive table.\"\n",
              "              style=\"display:none;\">\n",
              "        \n",
              "  <svg xmlns=\"http://www.w3.org/2000/svg\" height=\"24px\"viewBox=\"0 0 24 24\"\n",
              "       width=\"24px\">\n",
              "    <path d=\"M0 0h24v24H0V0z\" fill=\"none\"/>\n",
              "    <path d=\"M18.56 5.44l.94 2.06.94-2.06 2.06-.94-2.06-.94-.94-2.06-.94 2.06-2.06.94zm-11 1L8.5 8.5l.94-2.06 2.06-.94-2.06-.94L8.5 2.5l-.94 2.06-2.06.94zm10 10l.94 2.06.94-2.06 2.06-.94-2.06-.94-.94-2.06-.94 2.06-2.06.94z\"/><path d=\"M17.41 7.96l-1.37-1.37c-.4-.4-.92-.59-1.43-.59-.52 0-1.04.2-1.43.59L10.3 9.45l-7.72 7.72c-.78.78-.78 2.05 0 2.83L4 21.41c.39.39.9.59 1.41.59.51 0 1.02-.2 1.41-.59l7.78-7.78 2.81-2.81c.8-.78.8-2.07 0-2.86zM5.41 20L4 18.59l7.72-7.72 1.47 1.35L5.41 20z\"/>\n",
              "  </svg>\n",
              "      </button>\n",
              "      \n",
              "  <style>\n",
              "    .colab-df-container {\n",
              "      display:flex;\n",
              "      flex-wrap:wrap;\n",
              "      gap: 12px;\n",
              "    }\n",
              "\n",
              "    .colab-df-convert {\n",
              "      background-color: #E8F0FE;\n",
              "      border: none;\n",
              "      border-radius: 50%;\n",
              "      cursor: pointer;\n",
              "      display: none;\n",
              "      fill: #1967D2;\n",
              "      height: 32px;\n",
              "      padding: 0 0 0 0;\n",
              "      width: 32px;\n",
              "    }\n",
              "\n",
              "    .colab-df-convert:hover {\n",
              "      background-color: #E2EBFA;\n",
              "      box-shadow: 0px 1px 2px rgba(60, 64, 67, 0.3), 0px 1px 3px 1px rgba(60, 64, 67, 0.15);\n",
              "      fill: #174EA6;\n",
              "    }\n",
              "\n",
              "    [theme=dark] .colab-df-convert {\n",
              "      background-color: #3B4455;\n",
              "      fill: #D2E3FC;\n",
              "    }\n",
              "\n",
              "    [theme=dark] .colab-df-convert:hover {\n",
              "      background-color: #434B5C;\n",
              "      box-shadow: 0px 1px 3px 1px rgba(0, 0, 0, 0.15);\n",
              "      filter: drop-shadow(0px 1px 2px rgba(0, 0, 0, 0.3));\n",
              "      fill: #FFFFFF;\n",
              "    }\n",
              "  </style>\n",
              "\n",
              "      <script>\n",
              "        const buttonEl =\n",
              "          document.querySelector('#df-eb49965d-53d7-4059-8865-a043dbad75d5 button.colab-df-convert');\n",
              "        buttonEl.style.display =\n",
              "          google.colab.kernel.accessAllowed ? 'block' : 'none';\n",
              "\n",
              "        async function convertToInteractive(key) {\n",
              "          const element = document.querySelector('#df-eb49965d-53d7-4059-8865-a043dbad75d5');\n",
              "          const dataTable =\n",
              "            await google.colab.kernel.invokeFunction('convertToInteractive',\n",
              "                                                     [key], {});\n",
              "          if (!dataTable) return;\n",
              "\n",
              "          const docLinkHtml = 'Like what you see? Visit the ' +\n",
              "            '<a target=\"_blank\" href=https://colab.research.google.com/notebooks/data_table.ipynb>data table notebook</a>'\n",
              "            + ' to learn more about interactive tables.';\n",
              "          element.innerHTML = '';\n",
              "          dataTable['output_type'] = 'display_data';\n",
              "          await google.colab.output.renderOutput(dataTable, element);\n",
              "          const docLink = document.createElement('div');\n",
              "          docLink.innerHTML = docLinkHtml;\n",
              "          element.appendChild(docLink);\n",
              "        }\n",
              "      </script>\n",
              "    </div>\n",
              "  </div>\n",
              "  "
            ]
          },
          "metadata": {},
          "execution_count": 24
        }
      ]
    },
    {
      "cell_type": "code",
      "source": [
        "product_rating_predbl = results.groupby('ProductId')['Pred_bl'].mean()\n",
        "product_rating_count_predbl = results.groupby('ProductId')['Pred_bl'].count()\n",
        "product_rating_count_predbl= product_rating_count_predbl[product_rating_count_predbl > 0]\n",
        "unreliability_predbl = results.groupby('ProductId')['Pred_bl'].std(ddof = -1)\n",
        "unique_products_list_predbl = results.ProductId.unique()\n",
        "\n",
        "data_model_predbl = pd.DataFrame({'Rating': product_rating_predbl[unique_products_list_predbl],\\\n",
        "                                 'Count': product_rating_count_predbl[unique_products_list_predbl], \\\n",
        "                                 'Unreliability': unreliability_predbl[unique_products_list_predbl]})\n",
        "\n",
        "\n",
        "product_rating = results.groupby('ProductId')['Rating'].mean()\n",
        "product_rating_count = results.groupby('ProductId')['Rating'].count()\n",
        "product_rating_count= product_rating_count[product_rating_count > 0]\n",
        "unreliability = results.groupby('ProductId')['Rating'].std(ddof = -1)\n",
        "unique_products_list = results.ProductId.unique()\n",
        "\n",
        "data_model = pd.DataFrame({'Rating': product_rating[unique_products_list],\n",
        "                          'Count': product_rating_count[unique_products_list], \n",
        "                          'Unreliability': unreliability[unique_products_list]})\n",
        "\n",
        "\n",
        "\n",
        "plt.figure(figsize=(6,4))\n",
        "\n",
        "plt.scatter(data_model_predbl.Rating, data_model_predbl.Count, c='darkgrey', s=1, alpha= 0.8)\n",
        "plt.scatter(data_model.Rating, data_model.Count, c='dodgerblue', s=1, alpha= 0.05)\n",
        "\n",
        "\n",
        "plt.xlabel('Rating')\n",
        "plt.ylabel('Count')\n",
        "plt.ylim([0,200])\n",
        "plt.xlim([1,5])\n",
        "plt.legend(['predicted', 'real'],markerscale=2, frameon= False)\n",
        "\n",
        "plt.show()\n"
      ],
      "metadata": {
        "colab": {
          "base_uri": "https://localhost:8080/",
          "height": 283
        },
        "id": "XxvWtIFGAM5X",
        "outputId": "15835ad0-165b-49a0-ba54-fd6ce9860292"
      },
      "execution_count": 54,
      "outputs": [
        {
          "output_type": "display_data",
          "data": {
            "text/plain": [
              "<Figure size 432x288 with 1 Axes>"
            ],
            "image/png": "[encoded data removed]"
          },
          "metadata": {}
        }
      ]
    },
    {
      "cell_type": "markdown",
      "metadata": {
        "id": "fXMfhnIB1Y5y"
      },
      "source": [
        "------------\n",
        "#### **2-2. Comparison with an Open Source Algorithm from kaggle**\n"
      ]
    },
    {
      "cell_type": "markdown",
      "source": [
        "\n",
        "https://www.kaggle.com/code/swaroopnath6/recommender-system?scriptVersionId=32138732&cellId=55\n",
        "\n",
        "<br><br>\n",
        "<span style=\"color:grey\"> Observation - The root mean square in predictions drastically reduce with the hypothesis we assumed.  \n",
        "<br><br>\n",
        "\n",
        "\n",
        "The predictions are also done in a very impressive time - ~2 minutes for ~30000 user ids\n",
        "\n",
        "<br><br>\n",
        "\n",
        "Using the rating that is devoid of baseline rating does seem to give better results than the plain simple system. There are a very important deduction from these experimental results -\n",
        "<br><br>\n",
        "\n",
        "It is better to predict the overhead rating (by ignoring the baseline rating), and then add the baseline rating.   \n",
        "\n",
        "This means that hypothesis:  \n",
        "\"People ** usually tend to rate some product at a baseline level (3 here) unless the product experience with the user is very bad**\" is a better start off point for a Recommender system.\n",
        "\n",
        "<br><br>\n",
        "\n",
        "The second perspective is definitely better in producing results. But how can it be improved? Can there be a third segment in the rating? Yes, definitely!\n",
        "\n",
        "Intuition - Have you experienced yourself rating drivers of a particular application (Uber, in my case) more generously/harshly day by day?  \n",
        "This is the third aspect in rating - a general user experience with the application.   \n",
        "In the context of movies, you can imagine this as you being a harsher critic day by day. This kind of interaction (user - service) can be modelled using the timestamp provided. We will look at such interactions closely in later part of this notebook.\n",
        "\n",
        "In general -  \n",
        "\n",
        "𝑅𝑎𝑡𝑖𝑛𝑔=𝐵𝑎𝑠𝑒𝑙𝑖𝑛𝑒𝑅𝑎𝑡𝑖𝑛𝑔 +  𝑈𝑠𝑒𝑟𝑆𝑒𝑟𝑣𝑖𝑐𝑒𝐼𝑛𝑡𝑒𝑟𝑎𝑐𝑡𝑖𝑜𝑛𝑅𝑎𝑡𝑖𝑛𝑔 +  𝑈𝑠𝑒𝑟𝑃𝑟𝑜𝑑𝑢𝑐𝑡𝐼𝑛𝑡𝑒𝑟𝑎𝑐𝑡𝑖𝑜𝑛𝑅𝑎𝑡𝑖𝑛𝑔 \n",
        "\n",
        "</span>"
      ],
      "metadata": {
        "id": "Hd7M-Dc2pXdY"
      }
    },
    {
      "cell_type": "code",
      "source": [
        "from tqdm import tqdm\n",
        "class ModelRecommender:\n",
        "    def __init__(self, strategy = 'SVD', latent_factors = 5, num_epochs = 10, reg_param = 0.01):\n",
        "        self.strategy = strategy\n",
        "        self.latent_factors = latent_factors = 5\n",
        "        self.num_epochs = 10\n",
        "        self.reg_param = reg_param\n",
        "        self.learning_rate = 0.0005\n",
        "        \n",
        "    def fit(self, matrix):\n",
        "        m, n = matrix.shape\n",
        "        self.P = pd.DataFrame(np.random.rand(m, self.latent_factors), index = matrix.index) # Users\n",
        "        self.Q = pd.DataFrame(np.random.rand(n, self.latent_factors), index = matrix.columns) # Products\n",
        "        \n",
        "        users = list(matrix.index)\n",
        "        products = list(matrix.columns)\n",
        "\n",
        "        for epoch in tqdm(range(self.num_epochs), desc = 'Epoch'):\n",
        "            for user, product in zip(users, products):\n",
        "                error = matrix.loc[user, product] - self.predictions(self.P.loc[user].values, self.Q.loc[product].values)\n",
        "                self.P.loc[user] += self.learning_rate * (error * self.Q.loc[product].values - self.reg_param * self.P.loc[user].values)\n",
        "                self.Q.loc[product] += self.learning_rate * (error * self.P.loc[user].values - self.reg_param * self.Q.loc[product].values)\n",
        "                \n",
        "    def predictions(self, P, Q):\n",
        "        return np.dot(P, Q.T)\n",
        "    \n",
        "    def predict(self, X_test):\n",
        "        y_pred = pd.Series(index = X_test.index)\n",
        "        \n",
        "        for index, row in X_test.iterrows():\n",
        "            user_id = row['UserId']\n",
        "            product_id = row['ProductId']\n",
        "            if user_id not in self.P.index:\n",
        "                y_pred.loc[index] = 0\n",
        "                continue\n",
        "            if product_id not in self.Q.index:\n",
        "                y_pred.loc[index] = 0\n",
        "                continue\n",
        "            pred = self.predictions(self.P.loc[user_id].values, self.Q.loc[product_id].values)\n",
        "            y_pred.loc[index] = pred\n",
        "        \n",
        "        return y_pred.values\n",
        "    \n",
        "    def recommend(self, user_id, num_recommendations = 10):\n",
        "        recommendations = pd.DataFrame(columns = ['ProductId', 'Recommendability'])\n",
        "        \n",
        "        for product_id in self.Q.index:\n",
        "            recommendability = self.predictions(self.P.loc[user_id].values, self.Q.loc[product_id].values)\n",
        "            recommendations = recommendations.append({'ProductId': product_id, 'Recommendability': recommendability}, ignore_index = True)\n",
        "            \n",
        "        recommendations.sort_values(by = 'Recommendability', ascending = False, inplace = True)\n",
        "        \n",
        "        max_recommendations = min(num_recommendations, self.Q.shape[0])\n",
        "        return recommendations #.iloc[:max_recommendations, 0]\n",
        "        "
      ],
      "metadata": {
        "id": "hZSEKksMBB_8"
      },
      "execution_count": 26,
      "outputs": []
    },
    {
      "cell_type": "code",
      "source": [
        "amazon_ratings1 = amzRate_filtered.head(10000)\n",
        "ratings_utility_matrix = amazon_ratings1.pivot_table(values='Rating', index='UserId', columns='ProductId', fill_value=0)\n",
        "ratings_utility_matrix.head()"
      ],
      "metadata": {
        "colab": {
          "base_uri": "https://localhost:8080/",
          "height": 331
        },
        "id": "12KJYtIBuEyQ",
        "outputId": "4666510c-b7d8-411f-e67f-c8a8c423f39a"
      },
      "execution_count": 27,
      "outputs": [
        {
          "output_type": "execute_result",
          "data": {
            "text/plain": [
              "ProductId              1304351475  1403790965  3227001381  535795531X  \\\n",
              "UserId                                                                  \n",
              "A00205921JHJK5X9LNP42           0           0           0           0   \n",
              "A00473363TJ8YSZ3YAGG9           0           0           0           0   \n",
              "A03056581JJIOL5FSKJY7           0           0           0           0   \n",
              "A03099101ZRK4K607JVHH           0           0           0           0   \n",
              "A0505229A7NSH3FRXRR4            0           0           0           0   \n",
              "\n",
              "ProductId              5357955948  602260074X  7535842801  7806397051  \\\n",
              "UserId                                                                  \n",
              "A00205921JHJK5X9LNP42           0           0           0           5   \n",
              "A00473363TJ8YSZ3YAGG9           0           0           0           0   \n",
              "A03056581JJIOL5FSKJY7           0           0           0           0   \n",
              "A03099101ZRK4K607JVHH           0           0           0           0   \n",
              "A0505229A7NSH3FRXRR4            0           0           0           0   \n",
              "\n",
              "ProductId              7899123011  8096399322  ...  B000052ZSS  B000052ZTY  \\\n",
              "UserId                                         ...                           \n",
              "A00205921JHJK5X9LNP42           0           0  ...           0           0   \n",
              "A00473363TJ8YSZ3YAGG9           0           0  ...           0           0   \n",
              "A03056581JJIOL5FSKJY7           0           0  ...           0           0   \n",
              "A03099101ZRK4K607JVHH           0           0  ...           0           0   \n",
              "A0505229A7NSH3FRXRR4            0           0  ...           0           0   \n",
              "\n",
              "ProductId              B00005302B  B00005302X  B00005303P  B00005304H  \\\n",
              "UserId                                                                  \n",
              "A00205921JHJK5X9LNP42           0           0           0           0   \n",
              "A00473363TJ8YSZ3YAGG9           0           0           0           0   \n",
              "A03056581JJIOL5FSKJY7           0           0           0           0   \n",
              "A03099101ZRK4K607JVHH           0           0           0           0   \n",
              "A0505229A7NSH3FRXRR4            0           0           0           0   \n",
              "\n",
              "ProductId              B00005304L  B000053056  B000053071  B0000530ED  \n",
              "UserId                                                                 \n",
              "A00205921JHJK5X9LNP42           0           0           0           0  \n",
              "A00473363TJ8YSZ3YAGG9           0           0           0           0  \n",
              "A03056581JJIOL5FSKJY7           0           0           0           0  \n",
              "A03099101ZRK4K607JVHH           0           0           0           0  \n",
              "A0505229A7NSH3FRXRR4            0           0           0           0  \n",
              "\n",
              "[5 rows x 183 columns]"
            ],
            "text/html": [
              "\n",
              "  <div id=\"df-15d6a4d1-f9b3-422b-8e8b-d91091b58fc4\">\n",
              "    <div class=\"colab-df-container\">\n",
              "      <div>\n",
              "<style scoped>\n",
              "    .dataframe tbody tr th:only-of-type {\n",
              "        vertical-align: middle;\n",
              "    }\n",
              "\n",
              "    .dataframe tbody tr th {\n",
              "        vertical-align: top;\n",
              "    }\n",
              "\n",
              "    .dataframe thead th {\n",
              "        text-align: right;\n",
              "    }\n",
              "</style>\n",
              "<table border=\"1\" class=\"dataframe\">\n",
              "  <thead>\n",
              "    <tr style=\"text-align: right;\">\n",
              "      <th>ProductId</th>\n",
              "      <th>1304351475</th>\n",
              "      <th>1403790965</th>\n",
              "      <th>3227001381</th>\n",
              "      <th>535795531X</th>\n",
              "      <th>5357955948</th>\n",
              "      <th>602260074X</th>\n",
              "      <th>7535842801</th>\n",
              "      <th>7806397051</th>\n",
              "      <th>7899123011</th>\n",
              "      <th>8096399322</th>\n",
              "      <th>...</th>\n",
              "      <th>B000052ZSS</th>\n",
              "      <th>B000052ZTY</th>\n",
              "      <th>B00005302B</th>\n",
              "      <th>B00005302X</th>\n",
              "      <th>B00005303P</th>\n",
              "      <th>B00005304H</th>\n",
              "      <th>B00005304L</th>\n",
              "      <th>B000053056</th>\n",
              "      <th>B000053071</th>\n",
              "      <th>B0000530ED</th>\n",
              "    </tr>\n",
              "    <tr>\n",
              "      <th>UserId</th>\n",
              "      <th></th>\n",
              "      <th></th>\n",
              "      <th></th>\n",
              "      <th></th>\n",
              "      <th></th>\n",
              "      <th></th>\n",
              "      <th></th>\n",
              "      <th></th>\n",
              "      <th></th>\n",
              "      <th></th>\n",
              "      <th></th>\n",
              "      <th></th>\n",
              "      <th></th>\n",
              "      <th></th>\n",
              "      <th></th>\n",
              "      <th></th>\n",
              "      <th></th>\n",
              "      <th></th>\n",
              "      <th></th>\n",
              "      <th></th>\n",
              "      <th></th>\n",
              "    </tr>\n",
              "  </thead>\n",
              "  <tbody>\n",
              "    <tr>\n",
              "      <th>A00205921JHJK5X9LNP42</th>\n",
              "      <td>0</td>\n",
              "      <td>0</td>\n",
              "      <td>0</td>\n",
              "      <td>0</td>\n",
              "      <td>0</td>\n",
              "      <td>0</td>\n",
              "      <td>0</td>\n",
              "      <td>5</td>\n",
              "      <td>0</td>\n",
              "      <td>0</td>\n",
              "      <td>...</td>\n",
              "      <td>0</td>\n",
              "      <td>0</td>\n",
              "      <td>0</td>\n",
              "      <td>0</td>\n",
              "      <td>0</td>\n",
              "      <td>0</td>\n",
              "      <td>0</td>\n",
              "      <td>0</td>\n",
              "      <td>0</td>\n",
              "      <td>0</td>\n",
              "    </tr>\n",
              "    <tr>\n",
              "      <th>A00473363TJ8YSZ3YAGG9</th>\n",
              "      <td>0</td>\n",
              "      <td>0</td>\n",
              "      <td>0</td>\n",
              "      <td>0</td>\n",
              "      <td>0</td>\n",
              "      <td>0</td>\n",
              "      <td>0</td>\n",
              "      <td>0</td>\n",
              "      <td>0</td>\n",
              "      <td>0</td>\n",
              "      <td>...</td>\n",
              "      <td>0</td>\n",
              "      <td>0</td>\n",
              "      <td>0</td>\n",
              "      <td>0</td>\n",
              "      <td>0</td>\n",
              "      <td>0</td>\n",
              "      <td>0</td>\n",
              "      <td>0</td>\n",
              "      <td>0</td>\n",
              "      <td>0</td>\n",
              "    </tr>\n",
              "    <tr>\n",
              "      <th>A03056581JJIOL5FSKJY7</th>\n",
              "      <td>0</td>\n",
              "      <td>0</td>\n",
              "      <td>0</td>\n",
              "      <td>0</td>\n",
              "      <td>0</td>\n",
              "      <td>0</td>\n",
              "      <td>0</td>\n",
              "      <td>0</td>\n",
              "      <td>0</td>\n",
              "      <td>0</td>\n",
              "      <td>...</td>\n",
              "      <td>0</td>\n",
              "      <td>0</td>\n",
              "      <td>0</td>\n",
              "      <td>0</td>\n",
              "      <td>0</td>\n",
              "      <td>0</td>\n",
              "      <td>0</td>\n",
              "      <td>0</td>\n",
              "      <td>0</td>\n",
              "      <td>0</td>\n",
              "    </tr>\n",
              "    <tr>\n",
              "      <th>A03099101ZRK4K607JVHH</th>\n",
              "      <td>0</td>\n",
              "      <td>0</td>\n",
              "      <td>0</td>\n",
              "      <td>0</td>\n",
              "      <td>0</td>\n",
              "      <td>0</td>\n",
              "      <td>0</td>\n",
              "      <td>0</td>\n",
              "      <td>0</td>\n",
              "      <td>0</td>\n",
              "      <td>...</td>\n",
              "      <td>0</td>\n",
              "      <td>0</td>\n",
              "      <td>0</td>\n",
              "      <td>0</td>\n",
              "      <td>0</td>\n",
              "      <td>0</td>\n",
              "      <td>0</td>\n",
              "      <td>0</td>\n",
              "      <td>0</td>\n",
              "      <td>0</td>\n",
              "    </tr>\n",
              "    <tr>\n",
              "      <th>A0505229A7NSH3FRXRR4</th>\n",
              "      <td>0</td>\n",
              "      <td>0</td>\n",
              "      <td>0</td>\n",
              "      <td>0</td>\n",
              "      <td>0</td>\n",
              "      <td>0</td>\n",
              "      <td>0</td>\n",
              "      <td>0</td>\n",
              "      <td>0</td>\n",
              "      <td>0</td>\n",
              "      <td>...</td>\n",
              "      <td>0</td>\n",
              "      <td>0</td>\n",
              "      <td>0</td>\n",
              "      <td>0</td>\n",
              "      <td>0</td>\n",
              "      <td>0</td>\n",
              "      <td>0</td>\n",
              "      <td>0</td>\n",
              "      <td>0</td>\n",
              "      <td>0</td>\n",
              "    </tr>\n",
              "  </tbody>\n",
              "</table>\n",
              "<p>5 rows × 183 columns</p>\n",
              "</div>\n",
              "      <button class=\"colab-df-convert\" onclick=\"convertToInteractive('df-15d6a4d1-f9b3-422b-8e8b-d91091b58fc4')\"\n",
              "              title=\"Convert this dataframe to an interactive table.\"\n",
              "              style=\"display:none;\">\n",
              "        \n",
              "  <svg xmlns=\"http://www.w3.org/2000/svg\" height=\"24px\"viewBox=\"0 0 24 24\"\n",
              "       width=\"24px\">\n",
              "    <path d=\"M0 0h24v24H0V0z\" fill=\"none\"/>\n",
              "    <path d=\"M18.56 5.44l.94 2.06.94-2.06 2.06-.94-2.06-.94-.94-2.06-.94 2.06-2.06.94zm-11 1L8.5 8.5l.94-2.06 2.06-.94-2.06-.94L8.5 2.5l-.94 2.06-2.06.94zm10 10l.94 2.06.94-2.06 2.06-.94-2.06-.94-.94-2.06-.94 2.06-2.06.94z\"/><path d=\"M17.41 7.96l-1.37-1.37c-.4-.4-.92-.59-1.43-.59-.52 0-1.04.2-1.43.59L10.3 9.45l-7.72 7.72c-.78.78-.78 2.05 0 2.83L4 21.41c.39.39.9.59 1.41.59.51 0 1.02-.2 1.41-.59l7.78-7.78 2.81-2.81c.8-.78.8-2.07 0-2.86zM5.41 20L4 18.59l7.72-7.72 1.47 1.35L5.41 20z\"/>\n",
              "  </svg>\n",
              "      </button>\n",
              "      \n",
              "  <style>\n",
              "    .colab-df-container {\n",
              "      display:flex;\n",
              "      flex-wrap:wrap;\n",
              "      gap: 12px;\n",
              "    }\n",
              "\n",
              "    .colab-df-convert {\n",
              "      background-color: #E8F0FE;\n",
              "      border: none;\n",
              "      border-radius: 50%;\n",
              "      cursor: pointer;\n",
              "      display: none;\n",
              "      fill: #1967D2;\n",
              "      height: 32px;\n",
              "      padding: 0 0 0 0;\n",
              "      width: 32px;\n",
              "    }\n",
              "\n",
              "    .colab-df-convert:hover {\n",
              "      background-color: #E2EBFA;\n",
              "      box-shadow: 0px 1px 2px rgba(60, 64, 67, 0.3), 0px 1px 3px 1px rgba(60, 64, 67, 0.15);\n",
              "      fill: #174EA6;\n",
              "    }\n",
              "\n",
              "    [theme=dark] .colab-df-convert {\n",
              "      background-color: #3B4455;\n",
              "      fill: #D2E3FC;\n",
              "    }\n",
              "\n",
              "    [theme=dark] .colab-df-convert:hover {\n",
              "      background-color: #434B5C;\n",
              "      box-shadow: 0px 1px 3px 1px rgba(0, 0, 0, 0.15);\n",
              "      filter: drop-shadow(0px 1px 2px rgba(0, 0, 0, 0.3));\n",
              "      fill: #FFFFFF;\n",
              "    }\n",
              "  </style>\n",
              "\n",
              "      <script>\n",
              "        const buttonEl =\n",
              "          document.querySelector('#df-15d6a4d1-f9b3-422b-8e8b-d91091b58fc4 button.colab-df-convert');\n",
              "        buttonEl.style.display =\n",
              "          google.colab.kernel.accessAllowed ? 'block' : 'none';\n",
              "\n",
              "        async function convertToInteractive(key) {\n",
              "          const element = document.querySelector('#df-15d6a4d1-f9b3-422b-8e8b-d91091b58fc4');\n",
              "          const dataTable =\n",
              "            await google.colab.kernel.invokeFunction('convertToInteractive',\n",
              "                                                     [key], {});\n",
              "          if (!dataTable) return;\n",
              "\n",
              "          const docLinkHtml = 'Like what you see? Visit the ' +\n",
              "            '<a target=\"_blank\" href=https://colab.research.google.com/notebooks/data_table.ipynb>data table notebook</a>'\n",
              "            + ' to learn more about interactive tables.';\n",
              "          element.innerHTML = '';\n",
              "          dataTable['output_type'] = 'display_data';\n",
              "          await google.colab.output.renderOutput(dataTable, element);\n",
              "          const docLink = document.createElement('div');\n",
              "          docLink.innerHTML = docLinkHtml;\n",
              "          element.appendChild(docLink);\n",
              "        }\n",
              "      </script>\n",
              "    </div>\n",
              "  </div>\n",
              "  "
            ]
          },
          "metadata": {},
          "execution_count": 27
        }
      ]
    },
    {
      "cell_type": "code",
      "execution_count": 28,
      "metadata": {
        "colab": {
          "base_uri": "https://localhost:8080/",
          "height": 0
        },
        "id": "OQUxd4acCPK8",
        "outputId": "220f88f5-d825-40e2-d635-8a09acd6e21e"
      },
      "outputs": [
        {
          "output_type": "stream",
          "name": "stderr",
          "text": [
            "Epoch: 100%|██████████| 10/10 [00:02<00:00,  4.08it/s]\n"
          ]
        }
      ],
      "source": [
        "recommender= ModelRecommender() # 객체 생성\n",
        "recommender.fit(ratings_utility_matrix) # SVD fitting (학습)"
      ]
    },
    {
      "cell_type": "code",
      "execution_count": 29,
      "metadata": {
        "id": "ZdgxiAaMwYrL",
        "colab": {
          "base_uri": "https://localhost:8080/",
          "height": 206
        },
        "outputId": "64781160-b82d-44f9-cc56-db438c049132"
      },
      "outputs": [
        {
          "output_type": "execute_result",
          "data": {
            "text/plain": [
              "            UserId   ProductId  Rating\n",
              "26  A1RXI3A1E99112  1304351475     5.0\n",
              "27  A26QL1FBQO9C0E  1304351475     5.0\n",
              "28  A19KEEVZYO1KO6  1304351475     4.0\n",
              "29  A1F6HRR58TQ2R0  1304351475     5.0\n",
              "30   AVQP6PO1NK0IJ  1304351475     1.0"
            ],
            "text/html": [
              "\n",
              "  <div id=\"df-a23a8a97-ad1c-4737-83fe-b342a5ce4fed\">\n",
              "    <div class=\"colab-df-container\">\n",
              "      <div>\n",
              "<style scoped>\n",
              "    .dataframe tbody tr th:only-of-type {\n",
              "        vertical-align: middle;\n",
              "    }\n",
              "\n",
              "    .dataframe tbody tr th {\n",
              "        vertical-align: top;\n",
              "    }\n",
              "\n",
              "    .dataframe thead th {\n",
              "        text-align: right;\n",
              "    }\n",
              "</style>\n",
              "<table border=\"1\" class=\"dataframe\">\n",
              "  <thead>\n",
              "    <tr style=\"text-align: right;\">\n",
              "      <th></th>\n",
              "      <th>UserId</th>\n",
              "      <th>ProductId</th>\n",
              "      <th>Rating</th>\n",
              "    </tr>\n",
              "  </thead>\n",
              "  <tbody>\n",
              "    <tr>\n",
              "      <th>26</th>\n",
              "      <td>A1RXI3A1E99112</td>\n",
              "      <td>1304351475</td>\n",
              "      <td>5.0</td>\n",
              "    </tr>\n",
              "    <tr>\n",
              "      <th>27</th>\n",
              "      <td>A26QL1FBQO9C0E</td>\n",
              "      <td>1304351475</td>\n",
              "      <td>5.0</td>\n",
              "    </tr>\n",
              "    <tr>\n",
              "      <th>28</th>\n",
              "      <td>A19KEEVZYO1KO6</td>\n",
              "      <td>1304351475</td>\n",
              "      <td>4.0</td>\n",
              "    </tr>\n",
              "    <tr>\n",
              "      <th>29</th>\n",
              "      <td>A1F6HRR58TQ2R0</td>\n",
              "      <td>1304351475</td>\n",
              "      <td>5.0</td>\n",
              "    </tr>\n",
              "    <tr>\n",
              "      <th>30</th>\n",
              "      <td>AVQP6PO1NK0IJ</td>\n",
              "      <td>1304351475</td>\n",
              "      <td>1.0</td>\n",
              "    </tr>\n",
              "  </tbody>\n",
              "</table>\n",
              "</div>\n",
              "      <button class=\"colab-df-convert\" onclick=\"convertToInteractive('df-a23a8a97-ad1c-4737-83fe-b342a5ce4fed')\"\n",
              "              title=\"Convert this dataframe to an interactive table.\"\n",
              "              style=\"display:none;\">\n",
              "        \n",
              "  <svg xmlns=\"http://www.w3.org/2000/svg\" height=\"24px\"viewBox=\"0 0 24 24\"\n",
              "       width=\"24px\">\n",
              "    <path d=\"M0 0h24v24H0V0z\" fill=\"none\"/>\n",
              "    <path d=\"M18.56 5.44l.94 2.06.94-2.06 2.06-.94-2.06-.94-.94-2.06-.94 2.06-2.06.94zm-11 1L8.5 8.5l.94-2.06 2.06-.94-2.06-.94L8.5 2.5l-.94 2.06-2.06.94zm10 10l.94 2.06.94-2.06 2.06-.94-2.06-.94-.94-2.06-.94 2.06-2.06.94z\"/><path d=\"M17.41 7.96l-1.37-1.37c-.4-.4-.92-.59-1.43-.59-.52 0-1.04.2-1.43.59L10.3 9.45l-7.72 7.72c-.78.78-.78 2.05 0 2.83L4 21.41c.39.39.9.59 1.41.59.51 0 1.02-.2 1.41-.59l7.78-7.78 2.81-2.81c.8-.78.8-2.07 0-2.86zM5.41 20L4 18.59l7.72-7.72 1.47 1.35L5.41 20z\"/>\n",
              "  </svg>\n",
              "      </button>\n",
              "      \n",
              "  <style>\n",
              "    .colab-df-container {\n",
              "      display:flex;\n",
              "      flex-wrap:wrap;\n",
              "      gap: 12px;\n",
              "    }\n",
              "\n",
              "    .colab-df-convert {\n",
              "      background-color: #E8F0FE;\n",
              "      border: none;\n",
              "      border-radius: 50%;\n",
              "      cursor: pointer;\n",
              "      display: none;\n",
              "      fill: #1967D2;\n",
              "      height: 32px;\n",
              "      padding: 0 0 0 0;\n",
              "      width: 32px;\n",
              "    }\n",
              "\n",
              "    .colab-df-convert:hover {\n",
              "      background-color: #E2EBFA;\n",
              "      box-shadow: 0px 1px 2px rgba(60, 64, 67, 0.3), 0px 1px 3px 1px rgba(60, 64, 67, 0.15);\n",
              "      fill: #174EA6;\n",
              "    }\n",
              "\n",
              "    [theme=dark] .colab-df-convert {\n",
              "      background-color: #3B4455;\n",
              "      fill: #D2E3FC;\n",
              "    }\n",
              "\n",
              "    [theme=dark] .colab-df-convert:hover {\n",
              "      background-color: #434B5C;\n",
              "      box-shadow: 0px 1px 3px 1px rgba(0, 0, 0, 0.15);\n",
              "      filter: drop-shadow(0px 1px 2px rgba(0, 0, 0, 0.3));\n",
              "      fill: #FFFFFF;\n",
              "    }\n",
              "  </style>\n",
              "\n",
              "      <script>\n",
              "        const buttonEl =\n",
              "          document.querySelector('#df-a23a8a97-ad1c-4737-83fe-b342a5ce4fed button.colab-df-convert');\n",
              "        buttonEl.style.display =\n",
              "          google.colab.kernel.accessAllowed ? 'block' : 'none';\n",
              "\n",
              "        async function convertToInteractive(key) {\n",
              "          const element = document.querySelector('#df-a23a8a97-ad1c-4737-83fe-b342a5ce4fed');\n",
              "          const dataTable =\n",
              "            await google.colab.kernel.invokeFunction('convertToInteractive',\n",
              "                                                     [key], {});\n",
              "          if (!dataTable) return;\n",
              "\n",
              "          const docLinkHtml = 'Like what you see? Visit the ' +\n",
              "            '<a target=\"_blank\" href=https://colab.research.google.com/notebooks/data_table.ipynb>data table notebook</a>'\n",
              "            + ' to learn more about interactive tables.';\n",
              "          element.innerHTML = '';\n",
              "          dataTable['output_type'] = 'display_data';\n",
              "          await google.colab.output.renderOutput(dataTable, element);\n",
              "          const docLink = document.createElement('div');\n",
              "          docLink.innerHTML = docLinkHtml;\n",
              "          element.appendChild(docLink);\n",
              "        }\n",
              "      </script>\n",
              "    </div>\n",
              "  </div>\n",
              "  "
            ]
          },
          "metadata": {},
          "execution_count": 29
        }
      ],
      "source": [
        "data = amzRate_filtered.iloc[:, :-1] # 학습하기 좋은 형태의 dataframe 생성 =data\n",
        "data.head()\n"
      ]
    },
    {
      "cell_type": "code",
      "execution_count": 30,
      "metadata": {
        "id": "e_-DHp07Cm_9",
        "colab": {
          "base_uri": "https://localhost:8080/",
          "height": 0
        },
        "outputId": "82beed0f-353e-4de4-fba4-3474afb2927f"
      },
      "outputs": [
        {
          "output_type": "stream",
          "name": "stderr",
          "text": [
            "/usr/local/lib/python3.7/dist-packages/ipykernel_launcher.py:28: DeprecationWarning: The default dtype for empty Series will be 'object' instead of 'float64' in a future version. Specify a dtype explicitly to silence this warning.\n"
          ]
        },
        {
          "output_type": "stream",
          "name": "stdout",
          "text": [
            "RMSE using normal rating method: 4.343167603396641\n"
          ]
        }
      ],
      "source": [
        "from sklearn.model_selection import train_test_split # data train(trn) - test(tst)8:2로 분할 \n",
        "from sklearn.metrics import mean_squared_error\n",
        "trn, tst, _, _ = train_test_split(data, np.zeros(data.shape[0]), test_size = 0.2)\n",
        "tstX = tst.iloc[:, :-1] # test set의 feature (X) 와 예측 타겟 (Y) 나눠줌 \n",
        "tstY = tst.iloc[:, -1]  \n",
        "\n",
        "\n",
        "predY = recommender.predict(tstX) # 학습 결과를 기반으로 tst set의 feature 넣어 tstY 예측 (==predY)\n",
        "rmse = np.sqrt(mean_squared_error(tstY, predY)) # 예측값 predY와 실제 값 tstY rmse \n",
        "\n",
        "print('RMSE using normal rating method: {}'.format(rmse))"
      ]
    },
    {
      "cell_type": "markdown",
      "metadata": {
        "id": "zeVZoyKq_NhX"
      },
      "source": [
        "**!**\n",
        "사람들은 아무리 물품이 나빠도 중간점수는 주는 경향이 있음.  \n",
        "원 developer는 그냥 rating median 인 3을 기본값으로 설정하였으나,\n",
        "여기서는 분포의 -2$\\sigma$값인 2를 이용해보겠음. "
      ]
    },
    {
      "cell_type": "code",
      "execution_count": 31,
      "metadata": {
        "id": "2sQ4WKJhIPmL",
        "colab": {
          "base_uri": "https://localhost:8080/",
          "height": 0
        },
        "outputId": "ac83d1be-5aaf-4110-d1aa-0b0174839210"
      },
      "outputs": [
        {
          "output_type": "stream",
          "name": "stderr",
          "text": [
            "Epoch: 100%|██████████| 10/10 [00:02<00:00,  3.91it/s]\n"
          ]
        }
      ],
      "source": [
        "recommender_BL = ModelRecommender()\n",
        "recommender_BL.fit(ratings_utility_matrix)"
      ]
    },
    {
      "cell_type": "code",
      "execution_count": 32,
      "metadata": {
        "id": "1A7A1USC-k_3",
        "colab": {
          "base_uri": "https://localhost:8080/",
          "height": 0
        },
        "outputId": "e73f5042-853a-4efe-97b0-ac6ed0dc71c3"
      },
      "outputs": [
        {
          "output_type": "stream",
          "name": "stderr",
          "text": [
            "/usr/local/lib/python3.7/dist-packages/ipykernel_launcher.py:28: DeprecationWarning: The default dtype for empty Series will be 'object' instead of 'float64' in a future version. Specify a dtype explicitly to silence this warning.\n"
          ]
        },
        {
          "output_type": "stream",
          "name": "stdout",
          "text": [
            "RMSE using baseline rating method: 1.7357381189349892\n"
          ]
        }
      ],
      "source": [
        "# 일단 원래 코드 \n",
        "predY_BL = recommender_BL.predict(tstX)\n",
        "predY_BL += 3\n",
        "rmse_BL= np.sqrt(mean_squared_error(tstY, predY_BL))\n",
        "\n",
        "print('RMSE using baseline rating method: {}'.format(rmse_BL))"
      ]
    },
    {
      "cell_type": "code",
      "source": [
        "result= tst\n",
        "result['pred']= predY\n",
        "result['pred_bl']= predY_BL"
      ],
      "metadata": {
        "id": "u07SDaCYSVOk"
      },
      "execution_count": 33,
      "outputs": []
    },
    {
      "cell_type": "code",
      "execution_count": 34,
      "metadata": {
        "id": "tKoHAz_8KKou",
        "colab": {
          "base_uri": "https://localhost:8080/",
          "height": 283
        },
        "outputId": "d676f442-a0b1-4a83-8754-213649ef0987"
      },
      "outputs": [
        {
          "output_type": "display_data",
          "data": {
            "text/plain": [
              "<Figure size 432x288 with 1 Axes>"
            ],
            "image/png": "[encoded data removed]"
          },
          "metadata": {}
        }
      ],
      "source": [
        "# Rating versus count\n",
        "product_rating_pred = result.groupby('ProductId')['pred'].mean()\n",
        "product_rating_count_pred = result.groupby('ProductId')['pred'].count()\n",
        "unreliability_pred = result.groupby('ProductId')['pred'].std(ddof = -1)\n",
        "unique_products_list_pred = result.ProductId.unique()\n",
        "\n",
        "data_model_pred = pd.DataFrame({'Rating': product_rating_pred[unique_products_list_pred],\n",
        "                               'Count': product_rating_count_pred[unique_products_list_pred], \n",
        "                                'Unreliability': unreliability_pred[unique_products_list_pred]})\n",
        "\n",
        "\n",
        "product_rating_predbl = result.groupby('ProductId')['pred_bl'].mean()\n",
        "product_rating_count_predbl = result.groupby('ProductId')['pred_bl'].count()\n",
        "unreliability_predbl = result.groupby('ProductId')['pred_bl'].std(ddof = -1)\n",
        "unique_products_list_predbl = result.ProductId.unique()\n",
        "\n",
        "data_model_predbl = pd.DataFrame({'Rating': product_rating_predbl[unique_products_list_predbl],\\\n",
        "                                 'Count': product_rating_count_predbl[unique_products_list_predbl], \\\n",
        "                                 'Unreliability': unreliability_predbl[unique_products_list_predbl]})\n",
        "\n",
        "\n",
        "product_rating = result.groupby('ProductId')['Rating'].mean()\n",
        "product_rating_count = result.groupby('ProductId')['Rating'].count()\n",
        "unreliability = result.groupby('ProductId')['Rating'].std(ddof = -1)\n",
        "unique_products_list = result.ProductId.unique()\n",
        "\n",
        "data_model = pd.DataFrame({'Rating': product_rating[unique_products_list],\n",
        "                          'Count': product_rating_count[unique_products_list], \n",
        "                          'Unreliability': unreliability[unique_products_list]})\n",
        "\n",
        "\n",
        "\n",
        "\n",
        "plt.scatter(data_model.Rating, data_model.Count, c='red', alpha= 0.005)\n",
        "\n",
        "plt.scatter(data_model_pred.Rating, data_model_pred.Count, c='grey', alpha= 0.05)\n",
        "\n",
        "plt.scatter(data_model_predbl.Rating, data_model_predbl.Count, c='blue', alpha= 0.05)\n",
        "\n",
        "\n",
        "plt.xlabel('Rating')\n",
        "plt.ylabel('Count')\n",
        "plt.ylim([0,600])\n",
        "plt.xlim([1,5])\n",
        "plt.show()"
      ]
    },
    {
      "cell_type": "markdown",
      "source": [
        "#### **2-3. 추천**"
      ],
      "metadata": {
        "id": "maFAZf3mBRft"
      }
    },
    {
      "cell_type": "code",
      "source": [
        "def recommend(user, data, nRecommend):\n",
        "  \n",
        "  products= data.ProductId.unique()\n",
        "  Recommmendable=pd.DataFrame(index= products, columns=['Rate'])\n",
        "\n",
        "  for it in products:\n",
        "    pred_rate= BLO.predict(user, it, verbose=False).est\n",
        "    Recommmendable.loc[it]= pred_rate\n",
        "\n",
        "  Recommmendable.sort_values(by = 'Rate', ascending = False, inplace = True)\n",
        "  Recommend4U= list(Recommmendable.index[:nRecommend])\n",
        "\n",
        "  print( \"Top-%i Recommendation for %s ! \\n\"%(nRecommend,user), Recommend4U)\n",
        "  \n",
        "\n",
        "\n",
        "recommend('A004511036AHSSV5O4SBY', amazon_ratings, 15)"
      ],
      "metadata": {
        "colab": {
          "base_uri": "https://localhost:8080/"
        },
        "id": "JkpxYlUza0dg",
        "outputId": "6f775b23-655f-4dc0-c811-2c68e77c76f7"
      },
      "execution_count": 57,
      "outputs": [
        {
          "output_type": "stream",
          "name": "stdout",
          "text": [
            "Top-15 Recommendation for A004511036AHSSV5O4SBY ! \n",
            " ['B004CNRDBU', 'B002YFN49I', 'B004AQKY2Y', 'B00K7ER6LU', 'B004AI5756', 'B0046ZHQAW', 'B001F0RBRE', 'B00474JA2Y', 'B004SQ69J8', 'B002IULDP6', 'B00GJX58PE', 'B009OWSHQE', 'B005V247N8', 'B0006B65PC', 'B004PBVHZ2']\n"
          ]
        }
      ]
    }
  ]
}