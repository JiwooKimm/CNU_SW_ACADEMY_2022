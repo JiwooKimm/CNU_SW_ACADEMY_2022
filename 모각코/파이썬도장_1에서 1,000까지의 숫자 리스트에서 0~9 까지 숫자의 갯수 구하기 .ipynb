{
 "cells": [
  {
   "cell_type": "markdown",
   "id": "1063e190",
   "metadata": {},
   "source": [
    "### 1에서 1,000까지의 숫자 리스트에서 0~9 까지 숫자의 갯수 구하기\n",
    "문제 출처: https://codingdojang.com/scode/504?answer_mode=hide  \n",
    "\n",
    "**example**<br>\n",
    "10에서 15까지 담겨있는 정수 list가 있을 때, 각 숫자의 개수를 구한다:\n",
    "\n",
    "10 = 1, 0\n",
    "11 = 1, 1\n",
    "12 = 1, 2\n",
    "13 = 1, 3\n",
    "14 = 1, 4\n",
    "15 = 1, 5\n",
    "\n",
    "이므로,  \n",
    "이 경우의 답은 0:1개, 1:7개, 2:1개, 3:1개, 4:1개, 5:1개 이다.\n",
    "<br><br>\n",
    "\n",
    "❓<br>\n",
    "1. **1에서 1,000까지의 정수 리스트가 있을 때, 리스트에 들어있는 0부터 9까지의 숫자의 갯수?**\n"
   ]
  },
  {
   "cell_type": "code",
   "execution_count": 1,
   "id": "4c320ed5",
   "metadata": {},
   "outputs": [],
   "source": [
    "import numpy as np\n",
    "import pandas as pd\n",
    "arr=range(1,1001)\n"
   ]
  },
  {
   "cell_type": "markdown",
   "id": "a04c99ba",
   "metadata": {},
   "source": [
    "#### Try 01.\n",
    "\n",
    "`globals()` 이용하여 동적 변수를 생성하여 값들을 넣는다\n",
    "\n",
    "<u>*err*</u> 변수를 일일히 지정해줘야만 값들을 출력할 수 있다.  \n",
    "\n",
    "--> 복잡한 코드 작성할 때, 변수 불러와 쓰는 것이 아니라면 너무 복잡도가 큰 코드!  \n",
    "\n",
    "--> 이 globlas로 생성한 값들을 하나의 딕셔너리에 넣을 수 있는지 생각해보기."
   ]
  },
  {
   "cell_type": "code",
   "execution_count": 2,
   "id": "c19cb776",
   "metadata": {},
   "outputs": [
    {
     "name": "stdout",
     "output_type": "stream",
     "text": [
      "301\n"
     ]
    }
   ],
   "source": [
    "for i in range(10):\n",
    "    globals()['c{}'.format(i)] = 0\n",
    "    \n",
    "for i in arr:\n",
    "    i = str(i)\n",
    "#     print(i)\n",
    "    for k in range(10):        \n",
    "        globals()['c{}'.format(k)] += i.count(str(k))\n",
    "print(c1)"
   ]
  },
  {
   "cell_type": "markdown",
   "id": "9c0e8672",
   "metadata": {},
   "source": [
    "#### Try 02.\n",
    "\n",
    "0부터 9까지 갯수를 담을 빈리스트 먼저 생성하여 리스트에 값을 넣어준다.  \n",
    "\n",
    "--> 훨씬 간단!"
   ]
  },
  {
   "cell_type": "code",
   "execution_count": 3,
   "id": "b6876a9f",
   "metadata": {},
   "outputs": [],
   "source": [
    "c=[0]*10\n",
    "for i in arr:\n",
    "    i = str(i)\n",
    "    for k in range(10):\n",
    "        cc = i.count(str(k))\n",
    "        \n",
    "        c[k] += cc\n",
    "        \n"
   ]
  },
  {
   "cell_type": "code",
   "execution_count": 4,
   "id": "0239d90e",
   "metadata": {},
   "outputs": [
    {
     "data": {
      "text/plain": [
       "{0: 192,\n",
       " 1: 301,\n",
       " 2: 300,\n",
       " 3: 300,\n",
       " 4: 300,\n",
       " 5: 300,\n",
       " 6: 300,\n",
       " 7: 300,\n",
       " 8: 300,\n",
       " 9: 300}"
      ]
     },
     "execution_count": 4,
     "metadata": {},
     "output_type": "execute_result"
    }
   ],
   "source": [
    "result = {}\n",
    "for i in range(10):\n",
    "    result[i]=c[i]\n",
    "result"
   ]
  }
 ],
 "metadata": {
  "kernelspec": {
   "display_name": "Python 3 (ipykernel)",
   "language": "python",
   "name": "python3"
  },
  "language_info": {
   "codemirror_mode": {
    "name": "ipython",
    "version": 3
   },
   "file_extension": ".py",
   "mimetype": "text/x-python",
   "name": "python",
   "nbconvert_exporter": "python",
   "pygments_lexer": "ipython3",
   "version": "3.7.11"
  }
 },
 "nbformat": 4,
 "nbformat_minor": 5
}
