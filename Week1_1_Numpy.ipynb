{
 "cells": [
  {
   "cell_type": "code",
   "execution_count": 3,
   "id": "9816b184",
   "metadata": {},
   "outputs": [],
   "source": [
    "import numpy as np"
   ]
  },
  {
   "cell_type": "code",
   "execution_count": 98,
   "id": "b0e773df",
   "metadata": {},
   "outputs": [
    {
     "data": {
      "application/javascript": [
       "IPython.notebook.set_autosave_interval(100000)"
      ]
     },
     "metadata": {},
     "output_type": "display_data"
    },
    {
     "name": "stdout",
     "output_type": "stream",
     "text": [
      "Autosaving every 100 seconds\n"
     ]
    }
   ],
   "source": [
    "%autosave 100"
   ]
  },
  {
   "cell_type": "code",
   "execution_count": 8,
   "id": "7d723ce9",
   "metadata": {},
   "outputs": [
    {
     "name": "stdout",
     "output_type": "stream",
     "text": [
      "plus: [6 7 8]\n"
     ]
    }
   ],
   "source": [
    "#vector - scalar\n",
    "x=np.array([1,2,3])\n",
    "c=5\n",
    "\n",
    "\n",
    "print('plus: {}'.format(x+c))  "
   ]
  },
  {
   "cell_type": "code",
   "execution_count": 12,
   "id": "ba55f4e1",
   "metadata": {},
   "outputs": [
    {
     "name": "stdout",
     "output_type": "stream",
     "text": [
      "plus: [ 3 12 25]\n"
     ]
    }
   ],
   "source": [
    "# vector-vector\n",
    "y=np.array([1,3,5])\n",
    "z=np.array([2,9,20])\n",
    "print('plus: {}'.format(y+z)) \n"
   ]
  },
  {
   "cell_type": "markdown",
   "id": "d6f787a7",
   "metadata": {},
   "source": [
    "------------------\n",
    "#### NUMPY INDEXING\n",
    "2D: array[raw idx, col idx]\n"
   ]
  },
  {
   "cell_type": "code",
   "execution_count": 4,
   "id": "89f93855",
   "metadata": {},
   "outputs": [
    {
     "name": "stdout",
     "output_type": "stream",
     "text": [
      "1\n"
     ]
    }
   ],
   "source": [
    "\n",
    "w= np.array([[1,2,3,4],[5,6,7,8],[9,10,11,12]])\n",
    "print(w[0,0])\n"
   ]
  },
  {
   "cell_type": "markdown",
   "id": "3f48bea3",
   "metadata": {},
   "source": [
    "------------\n",
    "\n",
    "#### NUMPY SLICING\n",
    "\n",
    "- **[a:b]** a$^{th}$ to (b-1)$^{th}$\n",
    "- **[  :b]** 0$^{th}$ to (b-1)$^{th}$\n",
    "- **[a:  ]** a$^{th}$ to end\n",
    "- **[ : ]** all \n"
   ]
  },
  {
   "cell_type": "code",
   "execution_count": 9,
   "id": "705abe96",
   "metadata": {},
   "outputs": [
    {
     "name": "stdout",
     "output_type": "stream",
     "text": [
      "w[0:2]=\n",
      "[[1 2 3 4]\n",
      " [5 6 7 8]]\n",
      "\n",
      "w[0:2]=\n",
      "[[1 2 3 4]\n",
      " [5 6 7 8]]\n"
     ]
    }
   ],
   "source": [
    "print('w[0:2]=')\n",
    "print(w[0:2])\n",
    "print('\\nw[0:2]=')\n",
    "print(w[:2])"
   ]
  },
  {
   "cell_type": "code",
   "execution_count": 12,
   "id": "36d92279",
   "metadata": {},
   "outputs": [
    {
     "data": {
      "text/plain": [
       "array([[ 3,  4],\n",
       "       [ 7,  8],\n",
       "       [11, 12]])"
      ]
     },
     "execution_count": 12,
     "metadata": {},
     "output_type": "execute_result"
    }
   ],
   "source": [
    "w[:3, 2:4]"
   ]
  },
  {
   "cell_type": "code",
   "execution_count": 13,
   "id": "a002531f",
   "metadata": {},
   "outputs": [
    {
     "data": {
      "text/plain": [
       "array([[ 3,  4],\n",
       "       [ 7,  8],\n",
       "       [11, 12]])"
      ]
     },
     "execution_count": 13,
     "metadata": {},
     "output_type": "execute_result"
    }
   ],
   "source": [
    "w[:, 2:4]"
   ]
  },
  {
   "cell_type": "markdown",
   "id": "9b7133ae",
   "metadata": {},
   "source": [
    "#### ARRAY BROADCASTING\n",
    ": Numpy가 연산을 진행하는 특수 방식\n",
    "\n",
    "- M x N (calculate) M x 1 <br>\n",
    "  1D matrix M >> M*N matrix <br><br>\n",
    " $\\begin{pmatrix}1&2&3\\\\4&5&6\\\\7&8&9\\\\ \\end{pmatrix}$ x \n",
    " $\\begin{pmatrix}a\\\\b\\\\c\\\\ \\end{pmatrix}$\n",
    " ----> $\\begin{pmatrix}1&2&3\\\\4&5&6\\\\7&8&9\\\\ \\end{pmatrix}$ x \n",
    " <span style='color: dodgerblue'>$\\begin{pmatrix}a&a&a\\\\b&b&b\\\\c&c&c\\\\ \\end{pmatrix}$</span> \n",
    " =  $\\begin{pmatrix}1a&2a&3a\\\\4b&5b&6b\\\\7c&8c&9c\\\\ \\end{pmatrix}$<br><br>\n",
    "- M x N (calculate) 1 x N <br>\n",
    "  1D matrix N >> M*N matrix <br><br>\n",
    " $\\begin{pmatrix}1&2&3\\\\4&5&6\\\\7&8&9\\\\ \\end{pmatrix}$ x \n",
    " $\\begin{pmatrix}a&b&c\\\\ \\end{pmatrix}$ \n",
    " ----> $\\begin{pmatrix}1&2&3\\\\4&5&6\\\\7&8&9\\\\ \\end{pmatrix}$ x\n",
    " <span style='color: dodgerblue'>$\\begin{pmatrix}a&b&c\\\\a&b&c\\\\a&b&c\\\\ \\end{pmatrix}$</span>\n",
    " =  $\\begin{pmatrix}1a&2b&3c\\\\4a&5b&6c\\\\7a&8b&9c\\\\ \\end{pmatrix}$<br><br>\n",
    " - M x 1 (calculate) 1 x N <br>\n",
    "  :두 matrix의 사이즈 맞춰 M X N, M x N의 2D처럼 <span style='color: dodgerblue'> \"Broadcasting\" </span> & 연산"
   ]
  },
  {
   "cell_type": "code",
   "execution_count": 28,
   "id": "496323f7",
   "metadata": {},
   "outputs": [
    {
     "name": "stdout",
     "output_type": "stream",
     "text": [
      "[[1 2 3]\n",
      " [5 6 7]\n",
      " [7 8 9]]\n"
     ]
    }
   ],
   "source": [
    "#. m by n, m by 1\n",
    "a= np.array([[1,2,3],[4,5,6],[7,8,9]])\n",
    "x= np.array([0,1,0])\n",
    "\n",
    "x= x[:, None]\n",
    "\n",
    "\n",
    "print(a+x)"
   ]
  },
  {
   "cell_type": "code",
   "execution_count": 29,
   "id": "7969449e",
   "metadata": {},
   "outputs": [
    {
     "name": "stdout",
     "output_type": "stream",
     "text": [
      "[[ 0  2 -3]\n",
      " [ 0  5 -6]\n",
      " [ 0  8 -9]]\n"
     ]
    }
   ],
   "source": [
    "#2. m by n, 1 by n \n",
    "y= np.array([0,1,-1])\n",
    "print(a * y)"
   ]
  },
  {
   "cell_type": "code",
   "execution_count": 37,
   "id": "098a09cd",
   "metadata": {},
   "outputs": [
    {
     "name": "stdout",
     "output_type": "stream",
     "text": [
      "t=  [[1]\n",
      " [2]\n",
      " [3]]\n",
      "\n",
      "u=  [ 2  0 -2]\n",
      "\n",
      "t+u=  [[ 3  1 -1]\n",
      " [ 4  2  0]\n",
      " [ 5  3  1]]\n"
     ]
    }
   ],
   "source": [
    "# m by 1, 1 by n \n",
    "t= np.array([1,2,3])\n",
    "t= t[:, None]\n",
    "u= np.array([2,0,-2])\n",
    "\n",
    "print('t= ', t)\n",
    "print('\\nu= ',u)\n",
    "print('\\nt+u= ',t+u)"
   ]
  },
  {
   "cell_type": "markdown",
   "id": "b5a261e8",
   "metadata": {},
   "source": [
    "#### LINEAR ALGEBRA WITH NUMPY\n",
    "- 0-vector: **np.zeros([dim])**\n",
    "- 1-vector: **np.ones([dim])**\n",
    "- diagonal matrix: **np.diag((main_diagonal))** <span style='color:gray'>(main diagonal 외 0, main_diagoanl: tuple)</span>\n",
    "- identity matrix (항등행렬, 대각행렬) : **np.eye()** <span style='color:gray'>(main diagonal=1, else 0)</span>\n"
   ]
  },
  {
   "cell_type": "code",
   "execution_count": 42,
   "id": "65c51627",
   "metadata": {},
   "outputs": [
    {
     "name": "stdout",
     "output_type": "stream",
     "text": [
      "[[0. 0. 0.]\n",
      " [0. 0. 0.]\n",
      " [0. 0. 0.]]\n",
      "[[[0. 0. 0. 0.]\n",
      "  [0. 0. 0. 0.]]\n",
      "\n",
      " [[0. 0. 0. 0.]\n",
      "  [0. 0. 0. 0.]]]\n"
     ]
    }
   ],
   "source": [
    "print(np.zeros([3,3]))\n",
    "print(np.zeros([2,2,4]))"
   ]
  },
  {
   "cell_type": "code",
   "execution_count": 41,
   "id": "2a194e70",
   "metadata": {},
   "outputs": [
    {
     "data": {
      "text/plain": [
       "array([[1., 1., 1.],\n",
       "       [1., 1., 1.],\n",
       "       [1., 1., 1.]])"
      ]
     },
     "execution_count": 41,
     "metadata": {},
     "output_type": "execute_result"
    }
   ],
   "source": [
    "np.ones([3,3])"
   ]
  },
  {
   "cell_type": "code",
   "execution_count": 45,
   "id": "1fb41fe8",
   "metadata": {},
   "outputs": [
    {
     "data": {
      "text/plain": [
       "array([[1, 0, 0],\n",
       "       [0, 1, 0],\n",
       "       [0, 0, 1]])"
      ]
     },
     "execution_count": 45,
     "metadata": {},
     "output_type": "execute_result"
    }
   ],
   "source": [
    "np.diag((1,1,1))"
   ]
  },
  {
   "cell_type": "code",
   "execution_count": 47,
   "id": "d69df0aa",
   "metadata": {},
   "outputs": [
    {
     "data": {
      "text/plain": [
       "array([[1., 0., 0.],\n",
       "       [0., 1., 0.],\n",
       "       [0., 0., 1.]])"
      ]
     },
     "execution_count": 47,
     "metadata": {},
     "output_type": "execute_result"
    }
   ],
   "source": [
    "np.eye(3)"
   ]
  },
  {
   "cell_type": "code",
   "execution_count": null,
   "id": "153937af",
   "metadata": {},
   "outputs": [],
   "source": []
  }
 ],
 "metadata": {
  "kernelspec": {
   "display_name": "Python 3 (ipykernel)",
   "language": "python",
   "name": "python3"
  },
  "language_info": {
   "codemirror_mode": {
    "name": "ipython",
    "version": 3
   },
   "file_extension": ".py",
   "mimetype": "text/x-python",
   "name": "python",
   "nbconvert_exporter": "python",
   "pygments_lexer": "ipython3",
   "version": "3.7.11"
  }
 },
 "nbformat": 4,
 "nbformat_minor": 5
}
