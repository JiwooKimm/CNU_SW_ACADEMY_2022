{
 "cells": [
  {
   "cell_type": "markdown",
   "id": "3e2c4486",
   "metadata": {},
   "source": [
    "## I. Pandas 시작하기\n",
    "***Prerequisite: Table***\n",
    "- 행/ 열을 이용해 데이터 저장하고 관리하는 자료구조 (컨테이너)\n",
    "- 주로 행은 객체, 열은 속성"
   ]
  },
  {
   "cell_type": "markdown",
   "id": "794fe347",
   "metadata": {},
   "source": [
    "### Pandas 시작하기\n",
    "`import pandas` 이용"
   ]
  },
  {
   "cell_type": "code",
   "execution_count": 4,
   "id": "a0dc8557",
   "metadata": {},
   "outputs": [],
   "source": [
    "import pandas as pd"
   ]
  },
  {
   "cell_type": "markdown",
   "id": "87a38947",
   "metadata": {},
   "source": [
    "-----------\n",
    "\n",
    "## II. Pandas로 1D 데이터 다루기 - Series\n",
    "\n",
    "**Series**\n",
    "- 1-D labeled array\n",
    "- 인덱스 지정해 줄 수 있음\n",
    "- Numpy array와 유사함 (Numpy func.들과 호환 가능)\n",
    "- Dictionary와도 유사\n",
    "- `pd.dtype` 이용해 데이터 타입 얻을 수 있음 "
   ]
  },
  {
   "cell_type": "code",
   "execution_count": 3,
   "id": "543c278f",
   "metadata": {},
   "outputs": [
    {
     "data": {
      "text/plain": [
       "0    1\n",
       "1    3\n",
       "2    4\n",
       "3    5\n",
       "4    6\n",
       "dtype: int64"
      ]
     },
     "execution_count": 3,
     "metadata": {},
     "output_type": "execute_result"
    }
   ],
   "source": [
    "s= pd.Series([1,3,4,5,6])\n",
    "s\n"
   ]
  },
  {
   "cell_type": "code",
   "execution_count": 97,
   "id": "a145c110",
   "metadata": {},
   "outputs": [
    {
     "data": {
      "text/plain": [
       "one      1\n",
       "two      2\n",
       "three    3\n",
       "dtype: int64"
      ]
     },
     "execution_count": 97,
     "metadata": {},
     "output_type": "execute_result"
    }
   ],
   "source": [
    "s= pd.Series({'one':1, 'two':2, 'three':3})\n",
    "s"
   ]
  },
  {
   "cell_type": "markdown",
   "id": "4021fd45",
   "metadata": {},
   "source": [
    "**NUMPY와의 유사성**"
   ]
  },
  {
   "cell_type": "code",
   "execution_count": 14,
   "id": "42f94c46",
   "metadata": {},
   "outputs": [
    {
     "name": "stdout",
     "output_type": "stream",
     "text": [
      "two      2\n",
      "three    3\n",
      "dtype: int64\n",
      "two      2\n",
      "three    3\n",
      "dtype: int64\n"
     ]
    }
   ],
   "source": [
    "#indexcing & slicing\n",
    "print(s[1:3])\n",
    "print(s[[1,2]]) ##multi indexing 가넝"
   ]
  },
  {
   "cell_type": "code",
   "execution_count": 12,
   "id": "d98b797b",
   "metadata": {},
   "outputs": [
    {
     "data": {
      "text/plain": [
       "three    3\n",
       "dtype: int64"
      ]
     },
     "execution_count": 12,
     "metadata": {},
     "output_type": "execute_result"
    }
   ],
   "source": [
    "s[s > s.median()] #s의 median보다 큰 값만 반환"
   ]
  },
  {
   "cell_type": "code",
   "execution_count": 18,
   "id": "9a3a1974",
   "metadata": {},
   "outputs": [
    {
     "data": {
      "text/plain": [
       "one       2.718282\n",
       "two       7.389056\n",
       "three    20.085537\n",
       "dtype: float64"
      ]
     },
     "execution_count": 18,
     "metadata": {},
     "output_type": "execute_result"
    }
   ],
   "source": [
    "#numpy 함수 적용 가능\n",
    "import numpy as np\n",
    "np.exp(s)"
   ]
  },
  {
   "cell_type": "markdown",
   "id": "8d4c347f",
   "metadata": {},
   "source": [
    "**DICTIONARY와의 유사성**"
   ]
  },
  {
   "cell_type": "code",
   "execution_count": 98,
   "id": "25f7ee4e",
   "metadata": {},
   "outputs": [
    {
     "data": {
      "text/plain": [
       "1"
      ]
     },
     "execution_count": 98,
     "metadata": {},
     "output_type": "execute_result"
    }
   ],
   "source": [
    "s['one'] #index를 Dictionary의 'key'처럼 "
   ]
  },
  {
   "cell_type": "code",
   "execution_count": 26,
   "id": "1032512f",
   "metadata": {},
   "outputs": [
    {
     "data": {
      "text/plain": [
       "False"
      ]
     },
     "execution_count": 26,
     "metadata": {},
     "output_type": "execute_result"
    }
   ],
   "source": [
    "'five' in s"
   ]
  },
  {
   "cell_type": "markdown",
   "id": "6ad8c142",
   "metadata": {},
   "source": [
    "#### Series에 이름 붙이기\n",
    "- `name` 속성을 가지고 있음 \n",
    "-  처음 Series 만들 때 이름 붙일 수 있음"
   ]
  },
  {
   "cell_type": "code",
   "execution_count": 29,
   "id": "745b9695",
   "metadata": {},
   "outputs": [
    {
     "data": {
      "text/plain": [
       "0    1.328892\n",
       "1   -1.970912\n",
       "2    1.023841\n",
       "3    1.173661\n",
       "4   -0.677546\n",
       "Name: random_nums, dtype: float64"
      ]
     },
     "execution_count": 29,
     "metadata": {},
     "output_type": "execute_result"
    }
   ],
   "source": [
    "s=pd.Series(np.random.randn(5), name='random_nums')\n",
    "s"
   ]
  },
  {
   "cell_type": "code",
   "execution_count": 31,
   "id": "f4c40dd6",
   "metadata": {},
   "outputs": [],
   "source": [
    "s.name='임의의 난수들'"
   ]
  },
  {
   "cell_type": "code",
   "execution_count": 34,
   "id": "97d07c41",
   "metadata": {
    "scrolled": true
   },
   "outputs": [
    {
     "data": {
      "text/plain": [
       "0    1.328892\n",
       "1   -1.970912\n",
       "2    1.023841\n",
       "3    1.173661\n",
       "4   -0.677546\n",
       "Name: 임의의 난수들, dtype: float64"
      ]
     },
     "execution_count": 34,
     "metadata": {},
     "output_type": "execute_result"
    }
   ],
   "source": [
    "s"
   ]
  },
  {
   "cell_type": "markdown",
   "id": "41d55fc9",
   "metadata": {},
   "source": [
    "--------\n",
    "## III. Pandas로 2D 데이터 다루기 - dataframe\n",
    "- **`pd.DataFrame`**\n",
    "- 2D labeled **table**\n",
    "- Index 지정 가능\n",
    "- 데이터 타입은 각 열 별로 상이할 수 있음>> **`df.dtypes`**\n",
    "- CSV (Comma Seperated Values) >> dataframe으로 열 수 있음\n",
    "   **`.read_csv()`**\n"
   ]
  },
  {
   "cell_type": "code",
   "execution_count": 38,
   "id": "74823dda",
   "metadata": {},
   "outputs": [
    {
     "data": {
      "text/html": [
       "<div>\n",
       "<style scoped>\n",
       "    .dataframe tbody tr th:only-of-type {\n",
       "        vertical-align: middle;\n",
       "    }\n",
       "\n",
       "    .dataframe tbody tr th {\n",
       "        vertical-align: top;\n",
       "    }\n",
       "\n",
       "    .dataframe thead th {\n",
       "        text-align: right;\n",
       "    }\n",
       "</style>\n",
       "<table border=\"1\" class=\"dataframe\">\n",
       "  <thead>\n",
       "    <tr style=\"text-align: right;\">\n",
       "      <th></th>\n",
       "      <th>height</th>\n",
       "      <th>wieght</th>\n",
       "    </tr>\n",
       "  </thead>\n",
       "  <tbody>\n",
       "    <tr>\n",
       "      <th>0</th>\n",
       "      <td>1</td>\n",
       "      <td>30</td>\n",
       "    </tr>\n",
       "    <tr>\n",
       "      <th>1</th>\n",
       "      <td>2</td>\n",
       "      <td>40</td>\n",
       "    </tr>\n",
       "    <tr>\n",
       "      <th>2</th>\n",
       "      <td>3</td>\n",
       "      <td>50</td>\n",
       "    </tr>\n",
       "    <tr>\n",
       "      <th>3</th>\n",
       "      <td>4</td>\n",
       "      <td>60</td>\n",
       "    </tr>\n",
       "  </tbody>\n",
       "</table>\n",
       "</div>"
      ],
      "text/plain": [
       "   height  wieght\n",
       "0       1      30\n",
       "1       2      40\n",
       "2       3      50\n",
       "3       4      60"
      ]
     },
     "execution_count": 38,
     "metadata": {},
     "output_type": "execute_result"
    }
   ],
   "source": [
    "D={'height':[1,2,3,4],'wieght':[30,40,50,60]}\n",
    "df= pd.DataFrame(D)\n",
    "df"
   ]
  },
  {
   "cell_type": "markdown",
   "id": "1cb0baa3",
   "metadata": {},
   "source": [
    "**COVID-19.csv를 DataFrame으로 불러오기**"
   ]
  },
  {
   "cell_type": "code",
   "execution_count": 2,
   "id": "535df05e",
   "metadata": {},
   "outputs": [],
   "source": [
    "root= '/Users/jiwookim/Library/Mobile Documents/com~apple~CloudDocs/Documents/Academy/2022CNU_SW_ACADEMY/Programmers/covid-19/country_wise_latest.csv'"
   ]
  },
  {
   "cell_type": "code",
   "execution_count": 5,
   "id": "3912a20a",
   "metadata": {},
   "outputs": [
    {
     "data": {
      "text/html": [
       "<div>\n",
       "<style scoped>\n",
       "    .dataframe tbody tr th:only-of-type {\n",
       "        vertical-align: middle;\n",
       "    }\n",
       "\n",
       "    .dataframe tbody tr th {\n",
       "        vertical-align: top;\n",
       "    }\n",
       "\n",
       "    .dataframe thead th {\n",
       "        text-align: right;\n",
       "    }\n",
       "</style>\n",
       "<table border=\"1\" class=\"dataframe\">\n",
       "  <thead>\n",
       "    <tr style=\"text-align: right;\">\n",
       "      <th></th>\n",
       "      <th>Country/Region</th>\n",
       "      <th>Confirmed</th>\n",
       "      <th>Deaths</th>\n",
       "      <th>Recovered</th>\n",
       "      <th>Active</th>\n",
       "      <th>New cases</th>\n",
       "      <th>New deaths</th>\n",
       "      <th>New recovered</th>\n",
       "      <th>Deaths / 100 Cases</th>\n",
       "      <th>Recovered / 100 Cases</th>\n",
       "      <th>Deaths / 100 Recovered</th>\n",
       "      <th>Confirmed last week</th>\n",
       "      <th>1 week change</th>\n",
       "      <th>1 week % increase</th>\n",
       "      <th>WHO Region</th>\n",
       "    </tr>\n",
       "  </thead>\n",
       "  <tbody>\n",
       "    <tr>\n",
       "      <th>0</th>\n",
       "      <td>Afghanistan</td>\n",
       "      <td>36263</td>\n",
       "      <td>1269</td>\n",
       "      <td>25198</td>\n",
       "      <td>9796</td>\n",
       "      <td>106</td>\n",
       "      <td>10</td>\n",
       "      <td>18</td>\n",
       "      <td>3.50</td>\n",
       "      <td>69.49</td>\n",
       "      <td>5.04</td>\n",
       "      <td>35526</td>\n",
       "      <td>737</td>\n",
       "      <td>2.07</td>\n",
       "      <td>Eastern Mediterranean</td>\n",
       "    </tr>\n",
       "    <tr>\n",
       "      <th>1</th>\n",
       "      <td>Albania</td>\n",
       "      <td>4880</td>\n",
       "      <td>144</td>\n",
       "      <td>2745</td>\n",
       "      <td>1991</td>\n",
       "      <td>117</td>\n",
       "      <td>6</td>\n",
       "      <td>63</td>\n",
       "      <td>2.95</td>\n",
       "      <td>56.25</td>\n",
       "      <td>5.25</td>\n",
       "      <td>4171</td>\n",
       "      <td>709</td>\n",
       "      <td>17.00</td>\n",
       "      <td>Europe</td>\n",
       "    </tr>\n",
       "    <tr>\n",
       "      <th>2</th>\n",
       "      <td>Algeria</td>\n",
       "      <td>27973</td>\n",
       "      <td>1163</td>\n",
       "      <td>18837</td>\n",
       "      <td>7973</td>\n",
       "      <td>616</td>\n",
       "      <td>8</td>\n",
       "      <td>749</td>\n",
       "      <td>4.16</td>\n",
       "      <td>67.34</td>\n",
       "      <td>6.17</td>\n",
       "      <td>23691</td>\n",
       "      <td>4282</td>\n",
       "      <td>18.07</td>\n",
       "      <td>Africa</td>\n",
       "    </tr>\n",
       "    <tr>\n",
       "      <th>3</th>\n",
       "      <td>Andorra</td>\n",
       "      <td>907</td>\n",
       "      <td>52</td>\n",
       "      <td>803</td>\n",
       "      <td>52</td>\n",
       "      <td>10</td>\n",
       "      <td>0</td>\n",
       "      <td>0</td>\n",
       "      <td>5.73</td>\n",
       "      <td>88.53</td>\n",
       "      <td>6.48</td>\n",
       "      <td>884</td>\n",
       "      <td>23</td>\n",
       "      <td>2.60</td>\n",
       "      <td>Europe</td>\n",
       "    </tr>\n",
       "    <tr>\n",
       "      <th>4</th>\n",
       "      <td>Angola</td>\n",
       "      <td>950</td>\n",
       "      <td>41</td>\n",
       "      <td>242</td>\n",
       "      <td>667</td>\n",
       "      <td>18</td>\n",
       "      <td>1</td>\n",
       "      <td>0</td>\n",
       "      <td>4.32</td>\n",
       "      <td>25.47</td>\n",
       "      <td>16.94</td>\n",
       "      <td>749</td>\n",
       "      <td>201</td>\n",
       "      <td>26.84</td>\n",
       "      <td>Africa</td>\n",
       "    </tr>\n",
       "  </tbody>\n",
       "</table>\n",
       "</div>"
      ],
      "text/plain": [
       "  Country/Region  Confirmed  Deaths  Recovered  Active  New cases  New deaths  \\\n",
       "0    Afghanistan      36263    1269      25198    9796        106          10   \n",
       "1        Albania       4880     144       2745    1991        117           6   \n",
       "2        Algeria      27973    1163      18837    7973        616           8   \n",
       "3        Andorra        907      52        803      52         10           0   \n",
       "4         Angola        950      41        242     667         18           1   \n",
       "\n",
       "   New recovered  Deaths / 100 Cases  Recovered / 100 Cases  \\\n",
       "0             18                3.50                  69.49   \n",
       "1             63                2.95                  56.25   \n",
       "2            749                4.16                  67.34   \n",
       "3              0                5.73                  88.53   \n",
       "4              0                4.32                  25.47   \n",
       "\n",
       "   Deaths / 100 Recovered  Confirmed last week  1 week change  \\\n",
       "0                    5.04                35526            737   \n",
       "1                    5.25                 4171            709   \n",
       "2                    6.17                23691           4282   \n",
       "3                    6.48                  884             23   \n",
       "4                   16.94                  749            201   \n",
       "\n",
       "   1 week % increase             WHO Region  \n",
       "0               2.07  Eastern Mediterranean  \n",
       "1              17.00                 Europe  \n",
       "2              18.07                 Africa  \n",
       "3               2.60                 Europe  \n",
       "4              26.84                 Africa  "
      ]
     },
     "execution_count": 5,
     "metadata": {},
     "output_type": "execute_result"
    }
   ],
   "source": [
    "covid= pd.read_csv(root)\n",
    "covid.head()"
   ]
  },
  {
   "cell_type": "code",
   "execution_count": 50,
   "id": "9a6bbacf",
   "metadata": {},
   "outputs": [
    {
     "name": "stdout",
     "output_type": "stream",
     "text": [
      "<class 'pandas.core.frame.DataFrame'>\n",
      "RangeIndex: 187 entries, 0 to 186\n",
      "Data columns (total 15 columns):\n",
      " #   Column                  Non-Null Count  Dtype  \n",
      "---  ------                  --------------  -----  \n",
      " 0   Country/Region          187 non-null    object \n",
      " 1   Confirmed               187 non-null    int64  \n",
      " 2   Deaths                  187 non-null    int64  \n",
      " 3   Recovered               187 non-null    int64  \n",
      " 4   Active                  187 non-null    int64  \n",
      " 5   New cases               187 non-null    int64  \n",
      " 6   New deaths              187 non-null    int64  \n",
      " 7   New recovered           187 non-null    int64  \n",
      " 8   Deaths / 100 Cases      187 non-null    float64\n",
      " 9   Recovered / 100 Cases   187 non-null    float64\n",
      " 10  Deaths / 100 Recovered  187 non-null    float64\n",
      " 11  Confirmed last week     187 non-null    int64  \n",
      " 12  1 week change           187 non-null    int64  \n",
      " 13  1 week % increase       187 non-null    float64\n",
      " 14  WHO Region              187 non-null    object \n",
      "dtypes: float64(4), int64(9), object(2)\n",
      "memory usage: 22.0+ KB\n"
     ]
    }
   ],
   "source": [
    "covid.info()"
   ]
  },
  {
   "cell_type": "markdown",
   "id": "5fb936fb",
   "metadata": {},
   "source": [
    "\n",
    "### Pandas 활용 1. 데이터의 일부분 확인\n",
    "- `.head(n)`: 0행 부터 ~ n행 확인 (default: 5)\n",
    "- `.tail(n)`: 가장 마지막 행에서 ~ n 행 확인 (default: 5)\n",
    "\n",
    "### Pandas 활용 2. 데이터 접근\n",
    "- `df['column name']` or `df.'column name'`\n",
    "- 후자의 경우 space 들어간 column name 가져오기 힘듦.\n",
    "\n",
    "<span style='color: orange'>**Honey Tip!**</span>\n",
    "Dataframe의 각 columm은 'Series'다!"
   ]
  },
  {
   "cell_type": "code",
   "execution_count": 53,
   "id": "6c4f450f",
   "metadata": {},
   "outputs": [
    {
     "data": {
      "text/plain": [
       "0      9796\n",
       "1      1991\n",
       "2      7973\n",
       "3        52\n",
       "4       667\n",
       "       ... \n",
       "182    6791\n",
       "183       1\n",
       "184     375\n",
       "185    1597\n",
       "186    2126\n",
       "Name: Active, Length: 187, dtype: int64"
      ]
     },
     "execution_count": 53,
     "metadata": {},
     "output_type": "execute_result"
    }
   ],
   "source": [
    "covid['Active']"
   ]
  },
  {
   "cell_type": "code",
   "execution_count": 56,
   "id": "4e7b846a",
   "metadata": {},
   "outputs": [
    {
     "data": {
      "text/plain": [
       "0      9796\n",
       "1      1991\n",
       "2      7973\n",
       "3        52\n",
       "4       667\n",
       "       ... \n",
       "182    6791\n",
       "183       1\n",
       "184     375\n",
       "185    1597\n",
       "186    2126\n",
       "Name: Active, Length: 187, dtype: int64"
      ]
     },
     "execution_count": 56,
     "metadata": {},
     "output_type": "execute_result"
    }
   ],
   "source": [
    "covid.Active"
   ]
  },
  {
   "cell_type": "markdown",
   "id": "8900477c",
   "metadata": {},
   "source": [
    "### Pandas 활용 3. \"조건\"을 이용해서 데이터 접근\n",
    "특정 열이 주어진 조건에 <span style='color: green'>**True**</span>인 데이터 추출"
   ]
  },
  {
   "cell_type": "markdown",
   "id": "dc7522f2",
   "metadata": {},
   "source": [
    "<span style='color: royalblue'>**EXAMPLE 1** *신규 확진자가 100명이 넘는 나라를 찾아보자!* </span>"
   ]
  },
  {
   "cell_type": "code",
   "execution_count": 67,
   "id": "3503676a",
   "metadata": {
    "scrolled": true
   },
   "outputs": [
    {
     "data": {
      "text/html": [
       "<div>\n",
       "<style scoped>\n",
       "    .dataframe tbody tr th:only-of-type {\n",
       "        vertical-align: middle;\n",
       "    }\n",
       "\n",
       "    .dataframe tbody tr th {\n",
       "        vertical-align: top;\n",
       "    }\n",
       "\n",
       "    .dataframe thead th {\n",
       "        text-align: right;\n",
       "    }\n",
       "</style>\n",
       "<table border=\"1\" class=\"dataframe\">\n",
       "  <thead>\n",
       "    <tr style=\"text-align: right;\">\n",
       "      <th></th>\n",
       "      <th>Country/Region</th>\n",
       "      <th>Confirmed</th>\n",
       "      <th>Deaths</th>\n",
       "      <th>Recovered</th>\n",
       "      <th>Active</th>\n",
       "      <th>New cases</th>\n",
       "      <th>New deaths</th>\n",
       "      <th>New recovered</th>\n",
       "      <th>Deaths / 100 Cases</th>\n",
       "      <th>Recovered / 100 Cases</th>\n",
       "      <th>Deaths / 100 Recovered</th>\n",
       "      <th>Confirmed last week</th>\n",
       "      <th>1 week change</th>\n",
       "      <th>1 week % increase</th>\n",
       "      <th>WHO Region</th>\n",
       "    </tr>\n",
       "  </thead>\n",
       "  <tbody>\n",
       "    <tr>\n",
       "      <th>0</th>\n",
       "      <td>Afghanistan</td>\n",
       "      <td>36263</td>\n",
       "      <td>1269</td>\n",
       "      <td>25198</td>\n",
       "      <td>9796</td>\n",
       "      <td>106</td>\n",
       "      <td>10</td>\n",
       "      <td>18</td>\n",
       "      <td>3.50</td>\n",
       "      <td>69.49</td>\n",
       "      <td>5.04</td>\n",
       "      <td>35526</td>\n",
       "      <td>737</td>\n",
       "      <td>2.07</td>\n",
       "      <td>Eastern Mediterranean</td>\n",
       "    </tr>\n",
       "    <tr>\n",
       "      <th>1</th>\n",
       "      <td>Albania</td>\n",
       "      <td>4880</td>\n",
       "      <td>144</td>\n",
       "      <td>2745</td>\n",
       "      <td>1991</td>\n",
       "      <td>117</td>\n",
       "      <td>6</td>\n",
       "      <td>63</td>\n",
       "      <td>2.95</td>\n",
       "      <td>56.25</td>\n",
       "      <td>5.25</td>\n",
       "      <td>4171</td>\n",
       "      <td>709</td>\n",
       "      <td>17.00</td>\n",
       "      <td>Europe</td>\n",
       "    </tr>\n",
       "    <tr>\n",
       "      <th>2</th>\n",
       "      <td>Algeria</td>\n",
       "      <td>27973</td>\n",
       "      <td>1163</td>\n",
       "      <td>18837</td>\n",
       "      <td>7973</td>\n",
       "      <td>616</td>\n",
       "      <td>8</td>\n",
       "      <td>749</td>\n",
       "      <td>4.16</td>\n",
       "      <td>67.34</td>\n",
       "      <td>6.17</td>\n",
       "      <td>23691</td>\n",
       "      <td>4282</td>\n",
       "      <td>18.07</td>\n",
       "      <td>Africa</td>\n",
       "    </tr>\n",
       "    <tr>\n",
       "      <th>6</th>\n",
       "      <td>Argentina</td>\n",
       "      <td>167416</td>\n",
       "      <td>3059</td>\n",
       "      <td>72575</td>\n",
       "      <td>91782</td>\n",
       "      <td>4890</td>\n",
       "      <td>120</td>\n",
       "      <td>2057</td>\n",
       "      <td>1.83</td>\n",
       "      <td>43.35</td>\n",
       "      <td>4.21</td>\n",
       "      <td>130774</td>\n",
       "      <td>36642</td>\n",
       "      <td>28.02</td>\n",
       "      <td>Americas</td>\n",
       "    </tr>\n",
       "    <tr>\n",
       "      <th>8</th>\n",
       "      <td>Australia</td>\n",
       "      <td>15303</td>\n",
       "      <td>167</td>\n",
       "      <td>9311</td>\n",
       "      <td>5825</td>\n",
       "      <td>368</td>\n",
       "      <td>6</td>\n",
       "      <td>137</td>\n",
       "      <td>1.09</td>\n",
       "      <td>60.84</td>\n",
       "      <td>1.79</td>\n",
       "      <td>12428</td>\n",
       "      <td>2875</td>\n",
       "      <td>23.13</td>\n",
       "      <td>Western Pacific</td>\n",
       "    </tr>\n",
       "  </tbody>\n",
       "</table>\n",
       "</div>"
      ],
      "text/plain": [
       "  Country/Region  Confirmed  Deaths  Recovered  Active  New cases  New deaths  \\\n",
       "0    Afghanistan      36263    1269      25198    9796        106          10   \n",
       "1        Albania       4880     144       2745    1991        117           6   \n",
       "2        Algeria      27973    1163      18837    7973        616           8   \n",
       "6      Argentina     167416    3059      72575   91782       4890         120   \n",
       "8      Australia      15303     167       9311    5825        368           6   \n",
       "\n",
       "   New recovered  Deaths / 100 Cases  Recovered / 100 Cases  \\\n",
       "0             18                3.50                  69.49   \n",
       "1             63                2.95                  56.25   \n",
       "2            749                4.16                  67.34   \n",
       "6           2057                1.83                  43.35   \n",
       "8            137                1.09                  60.84   \n",
       "\n",
       "   Deaths / 100 Recovered  Confirmed last week  1 week change  \\\n",
       "0                    5.04                35526            737   \n",
       "1                    5.25                 4171            709   \n",
       "2                    6.17                23691           4282   \n",
       "6                    4.21               130774          36642   \n",
       "8                    1.79                12428           2875   \n",
       "\n",
       "   1 week % increase             WHO Region  \n",
       "0               2.07  Eastern Mediterranean  \n",
       "1              17.00                 Europe  \n",
       "2              18.07                 Africa  \n",
       "6              28.02               Americas  \n",
       "8              23.13        Western Pacific  "
      ]
     },
     "execution_count": 67,
     "metadata": {},
     "output_type": "execute_result"
    }
   ],
   "source": [
    "over100= covid['New cases'] > 100 #조건: T - 100이상 \n",
    "#조건부 boolean output을 원 데이터에 key로 넣어주면 조건을 만족하는 index(국가)의 모든 데이터 columns 까지 얻을 수 있음 \n",
    "over100= covid[over100] \n",
    "over100.head()"
   ]
  },
  {
   "cell_type": "markdown",
   "id": "76dde2a2",
   "metadata": {},
   "source": [
    "<span style='color: royalblue'>**EXAMPLE 2** *WHO Region이 동남아시아인 나라 찾아보자!* </span>"
   ]
  },
  {
   "cell_type": "code",
   "execution_count": 72,
   "id": "a41670c8",
   "metadata": {},
   "outputs": [
    {
     "data": {
      "text/plain": [
       "array(['Eastern Mediterranean', 'Europe', 'Africa', 'Americas',\n",
       "       'Western Pacific', 'South-East Asia'], dtype=object)"
      ]
     },
     "execution_count": 72,
     "metadata": {},
     "output_type": "execute_result"
    }
   ],
   "source": [
    "# 1. WHO Region의 unique value >> '동남아시아'의 저장명 알아보기\n",
    "covid['WHO Region'].unique()"
   ]
  },
  {
   "cell_type": "code",
   "execution_count": 78,
   "id": "2f2d3c29",
   "metadata": {
    "scrolled": false
   },
   "outputs": [
    {
     "data": {
      "text/html": [
       "<div>\n",
       "<style scoped>\n",
       "    .dataframe tbody tr th:only-of-type {\n",
       "        vertical-align: middle;\n",
       "    }\n",
       "\n",
       "    .dataframe tbody tr th {\n",
       "        vertical-align: top;\n",
       "    }\n",
       "\n",
       "    .dataframe thead th {\n",
       "        text-align: right;\n",
       "    }\n",
       "</style>\n",
       "<table border=\"1\" class=\"dataframe\">\n",
       "  <thead>\n",
       "    <tr style=\"text-align: right;\">\n",
       "      <th></th>\n",
       "      <th>Country/Region</th>\n",
       "      <th>Confirmed</th>\n",
       "      <th>Deaths</th>\n",
       "      <th>Recovered</th>\n",
       "      <th>Active</th>\n",
       "      <th>New cases</th>\n",
       "      <th>New deaths</th>\n",
       "      <th>New recovered</th>\n",
       "      <th>Deaths / 100 Cases</th>\n",
       "      <th>Recovered / 100 Cases</th>\n",
       "      <th>Deaths / 100 Recovered</th>\n",
       "      <th>Confirmed last week</th>\n",
       "      <th>1 week change</th>\n",
       "      <th>1 week % increase</th>\n",
       "      <th>WHO Region</th>\n",
       "    </tr>\n",
       "  </thead>\n",
       "  <tbody>\n",
       "    <tr>\n",
       "      <th>13</th>\n",
       "      <td>Bangladesh</td>\n",
       "      <td>226225</td>\n",
       "      <td>2965</td>\n",
       "      <td>125683</td>\n",
       "      <td>97577</td>\n",
       "      <td>2772</td>\n",
       "      <td>37</td>\n",
       "      <td>1801</td>\n",
       "      <td>1.31</td>\n",
       "      <td>55.56</td>\n",
       "      <td>2.36</td>\n",
       "      <td>207453</td>\n",
       "      <td>18772</td>\n",
       "      <td>9.05</td>\n",
       "      <td>South-East Asia</td>\n",
       "    </tr>\n",
       "    <tr>\n",
       "      <th>19</th>\n",
       "      <td>Bhutan</td>\n",
       "      <td>99</td>\n",
       "      <td>0</td>\n",
       "      <td>86</td>\n",
       "      <td>13</td>\n",
       "      <td>4</td>\n",
       "      <td>0</td>\n",
       "      <td>1</td>\n",
       "      <td>0.00</td>\n",
       "      <td>86.87</td>\n",
       "      <td>0.00</td>\n",
       "      <td>90</td>\n",
       "      <td>9</td>\n",
       "      <td>10.00</td>\n",
       "      <td>South-East Asia</td>\n",
       "    </tr>\n",
       "    <tr>\n",
       "      <th>27</th>\n",
       "      <td>Burma</td>\n",
       "      <td>350</td>\n",
       "      <td>6</td>\n",
       "      <td>292</td>\n",
       "      <td>52</td>\n",
       "      <td>0</td>\n",
       "      <td>0</td>\n",
       "      <td>2</td>\n",
       "      <td>1.71</td>\n",
       "      <td>83.43</td>\n",
       "      <td>2.05</td>\n",
       "      <td>341</td>\n",
       "      <td>9</td>\n",
       "      <td>2.64</td>\n",
       "      <td>South-East Asia</td>\n",
       "    </tr>\n",
       "    <tr>\n",
       "      <th>79</th>\n",
       "      <td>India</td>\n",
       "      <td>1480073</td>\n",
       "      <td>33408</td>\n",
       "      <td>951166</td>\n",
       "      <td>495499</td>\n",
       "      <td>44457</td>\n",
       "      <td>637</td>\n",
       "      <td>33598</td>\n",
       "      <td>2.26</td>\n",
       "      <td>64.26</td>\n",
       "      <td>3.51</td>\n",
       "      <td>1155338</td>\n",
       "      <td>324735</td>\n",
       "      <td>28.11</td>\n",
       "      <td>South-East Asia</td>\n",
       "    </tr>\n",
       "    <tr>\n",
       "      <th>80</th>\n",
       "      <td>Indonesia</td>\n",
       "      <td>100303</td>\n",
       "      <td>4838</td>\n",
       "      <td>58173</td>\n",
       "      <td>37292</td>\n",
       "      <td>1525</td>\n",
       "      <td>57</td>\n",
       "      <td>1518</td>\n",
       "      <td>4.82</td>\n",
       "      <td>58.00</td>\n",
       "      <td>8.32</td>\n",
       "      <td>88214</td>\n",
       "      <td>12089</td>\n",
       "      <td>13.70</td>\n",
       "      <td>South-East Asia</td>\n",
       "    </tr>\n",
       "  </tbody>\n",
       "</table>\n",
       "</div>"
      ],
      "text/plain": [
       "   Country/Region  Confirmed  Deaths  Recovered  Active  New cases  \\\n",
       "13     Bangladesh     226225    2965     125683   97577       2772   \n",
       "19         Bhutan         99       0         86      13          4   \n",
       "27          Burma        350       6        292      52          0   \n",
       "79          India    1480073   33408     951166  495499      44457   \n",
       "80      Indonesia     100303    4838      58173   37292       1525   \n",
       "\n",
       "    New deaths  New recovered  Deaths / 100 Cases  Recovered / 100 Cases  \\\n",
       "13          37           1801                1.31                  55.56   \n",
       "19           0              1                0.00                  86.87   \n",
       "27           0              2                1.71                  83.43   \n",
       "79         637          33598                2.26                  64.26   \n",
       "80          57           1518                4.82                  58.00   \n",
       "\n",
       "    Deaths / 100 Recovered  Confirmed last week  1 week change  \\\n",
       "13                    2.36               207453          18772   \n",
       "19                    0.00                   90              9   \n",
       "27                    2.05                  341              9   \n",
       "79                    3.51              1155338         324735   \n",
       "80                    8.32                88214          12089   \n",
       "\n",
       "    1 week % increase       WHO Region  \n",
       "13               9.05  South-East Asia  \n",
       "19              10.00  South-East Asia  \n",
       "27               2.64  South-East Asia  \n",
       "79              28.11  South-East Asia  \n",
       "80              13.70  South-East Asia  "
      ]
     },
     "execution_count": 78,
     "metadata": {},
     "output_type": "execute_result"
    }
   ],
   "source": [
    "# 2. 조건\n",
    "SEAsia= covid['WHO Region'] == 'South-East Asia'\n",
    "SEAsia= covid[SEAsia]\n",
    "SEAsia.head()"
   ]
  },
  {
   "cell_type": "markdown",
   "id": "5a4d2ce0",
   "metadata": {},
   "source": [
    "### Pandas 활용 4. 행을 기준으로 데이터 접근하기"
   ]
  },
  {
   "cell_type": "code",
   "execution_count": 85,
   "id": "74317f91",
   "metadata": {},
   "outputs": [
    {
     "data": {
      "text/html": [
       "<div>\n",
       "<style scoped>\n",
       "    .dataframe tbody tr th:only-of-type {\n",
       "        vertical-align: middle;\n",
       "    }\n",
       "\n",
       "    .dataframe tbody tr th {\n",
       "        vertical-align: top;\n",
       "    }\n",
       "\n",
       "    .dataframe thead th {\n",
       "        text-align: right;\n",
       "    }\n",
       "</style>\n",
       "<table border=\"1\" class=\"dataframe\">\n",
       "  <thead>\n",
       "    <tr style=\"text-align: right;\">\n",
       "      <th></th>\n",
       "      <th>Available</th>\n",
       "      <th>Location</th>\n",
       "      <th>Genre</th>\n",
       "    </tr>\n",
       "  </thead>\n",
       "  <tbody>\n",
       "    <tr>\n",
       "      <th>버그란 무엇인가</th>\n",
       "      <td>True</td>\n",
       "      <td>102</td>\n",
       "      <td>Programming</td>\n",
       "    </tr>\n",
       "    <tr>\n",
       "      <th>두근두근 물리학</th>\n",
       "      <td>True</td>\n",
       "      <td>214</td>\n",
       "      <td>Physics</td>\n",
       "    </tr>\n",
       "    <tr>\n",
       "      <th>미분해줘 홈즈</th>\n",
       "      <td>False</td>\n",
       "      <td>323</td>\n",
       "      <td>Math</td>\n",
       "    </tr>\n",
       "  </tbody>\n",
       "</table>\n",
       "</div>"
      ],
      "text/plain": [
       "          Available  Location        Genre\n",
       "버그란 무엇인가       True       102  Programming\n",
       "두근두근 물리학       True       214      Physics\n",
       "미분해줘 홈즈       False       323         Math"
      ]
     },
     "execution_count": 85,
     "metadata": {},
     "output_type": "execute_result"
    }
   ],
   "source": [
    "# 예시 데이터 생성 : 도서관 정보\n",
    "booksD= {'Available':[True,True,False],'Location':[102,214,323], 'Genre':['Programming','Physics','Math']}\n",
    "books_df= pd.DataFrame(booksD, index=['버그란 무엇인가','두근두근 물리학','미분해줘 홈즈'])\n",
    "books_df"
   ]
  },
  {
   "cell_type": "markdown",
   "id": "6254e169",
   "metadata": {},
   "source": [
    "<span style='color: royalblue'>**1. Index Name 이용해서 가져오기: `.loc['row','col']`** </span>"
   ]
  },
  {
   "cell_type": "code",
   "execution_count": 87,
   "id": "a31abdbb",
   "metadata": {},
   "outputs": [
    {
     "data": {
      "text/plain": [
       "Available           True\n",
       "Location             102\n",
       "Genre        Programming\n",
       "Name: 버그란 무엇인가, dtype: object"
      ]
     },
     "execution_count": 87,
     "metadata": {},
     "output_type": "execute_result"
    }
   ],
   "source": [
    "# 책 '버그란 무엇인가'의 정보\n",
    "books_df.loc['버그란 무엇인가']"
   ]
  },
  {
   "cell_type": "code",
   "execution_count": 90,
   "id": "bf57d4db",
   "metadata": {},
   "outputs": [
    {
     "name": "stdout",
     "output_type": "stream",
     "text": [
      "False\n",
      "False\n"
     ]
    }
   ],
   "source": [
    "# '미분해줘 홈즈 책이 대출 가능한가?'\n",
    "print(books_df.loc['미분해줘 홈즈'].Available == True)\n",
    "\n",
    "print(books_df.loc['미분해줘 홈즈','Available'] == True)"
   ]
  },
  {
   "cell_type": "markdown",
   "id": "1f3e6a73",
   "metadata": {},
   "source": [
    "<span style='color: royalblue'>**2. Index Number 이용해서 가져오기: `.iloc['rowidx','colidx']`** </span>\n",
    "* slicing 가능!"
   ]
  },
  {
   "cell_type": "code",
   "execution_count": 93,
   "id": "9952f3fc",
   "metadata": {},
   "outputs": [
    {
     "data": {
      "text/plain": [
       "102"
      ]
     },
     "execution_count": 93,
     "metadata": {},
     "output_type": "execute_result"
    }
   ],
   "source": [
    "books_df.iloc[0,1]"
   ]
  },
  {
   "cell_type": "code",
   "execution_count": 95,
   "id": "f7af6ead",
   "metadata": {},
   "outputs": [
    {
     "data": {
      "text/plain": [
       "Available           True\n",
       "Location             102\n",
       "Genre        Programming\n",
       "Name: 버그란 무엇인가, dtype: object"
      ]
     },
     "execution_count": 95,
     "metadata": {},
     "output_type": "execute_result"
    }
   ],
   "source": [
    "books_df.iloc[0,:]"
   ]
  },
  {
   "cell_type": "markdown",
   "id": "055d2222",
   "metadata": {},
   "source": [
    "### Pandas 활용 5. Groupby\n",
    "`.groupby()`\n",
    "- **SPLIT** 특정한 '기준'을 바탕을 Dataframe 분할\n",
    "- **APPLY** 통계함수 `sum()`, `mean()`, `median()`을 적용해서 각 데이터를 압축 \n",
    "- **COMBINE** Apply된 결과를 바탕으로 새로운 Series 생성 (group_key: applied_value)\n",
    "\n",
    "특정 열을 기준으로 다른 열을 통계"
   ]
  },
  {
   "cell_type": "code",
   "execution_count": 100,
   "id": "48cf9296",
   "metadata": {},
   "outputs": [
    {
     "data": {
      "text/html": [
       "<div>\n",
       "<style scoped>\n",
       "    .dataframe tbody tr th:only-of-type {\n",
       "        vertical-align: middle;\n",
       "    }\n",
       "\n",
       "    .dataframe tbody tr th {\n",
       "        vertical-align: top;\n",
       "    }\n",
       "\n",
       "    .dataframe thead th {\n",
       "        text-align: right;\n",
       "    }\n",
       "</style>\n",
       "<table border=\"1\" class=\"dataframe\">\n",
       "  <thead>\n",
       "    <tr style=\"text-align: right;\">\n",
       "      <th></th>\n",
       "      <th>Country/Region</th>\n",
       "      <th>Confirmed</th>\n",
       "      <th>Deaths</th>\n",
       "      <th>Recovered</th>\n",
       "      <th>Active</th>\n",
       "      <th>New cases</th>\n",
       "      <th>New deaths</th>\n",
       "      <th>New recovered</th>\n",
       "      <th>Deaths / 100 Cases</th>\n",
       "      <th>Recovered / 100 Cases</th>\n",
       "      <th>Deaths / 100 Recovered</th>\n",
       "      <th>Confirmed last week</th>\n",
       "      <th>1 week change</th>\n",
       "      <th>1 week % increase</th>\n",
       "      <th>WHO Region</th>\n",
       "    </tr>\n",
       "  </thead>\n",
       "  <tbody>\n",
       "    <tr>\n",
       "      <th>0</th>\n",
       "      <td>Afghanistan</td>\n",
       "      <td>36263</td>\n",
       "      <td>1269</td>\n",
       "      <td>25198</td>\n",
       "      <td>9796</td>\n",
       "      <td>106</td>\n",
       "      <td>10</td>\n",
       "      <td>18</td>\n",
       "      <td>3.50</td>\n",
       "      <td>69.49</td>\n",
       "      <td>5.04</td>\n",
       "      <td>35526</td>\n",
       "      <td>737</td>\n",
       "      <td>2.07</td>\n",
       "      <td>Eastern Mediterranean</td>\n",
       "    </tr>\n",
       "    <tr>\n",
       "      <th>1</th>\n",
       "      <td>Albania</td>\n",
       "      <td>4880</td>\n",
       "      <td>144</td>\n",
       "      <td>2745</td>\n",
       "      <td>1991</td>\n",
       "      <td>117</td>\n",
       "      <td>6</td>\n",
       "      <td>63</td>\n",
       "      <td>2.95</td>\n",
       "      <td>56.25</td>\n",
       "      <td>5.25</td>\n",
       "      <td>4171</td>\n",
       "      <td>709</td>\n",
       "      <td>17.00</td>\n",
       "      <td>Europe</td>\n",
       "    </tr>\n",
       "    <tr>\n",
       "      <th>2</th>\n",
       "      <td>Algeria</td>\n",
       "      <td>27973</td>\n",
       "      <td>1163</td>\n",
       "      <td>18837</td>\n",
       "      <td>7973</td>\n",
       "      <td>616</td>\n",
       "      <td>8</td>\n",
       "      <td>749</td>\n",
       "      <td>4.16</td>\n",
       "      <td>67.34</td>\n",
       "      <td>6.17</td>\n",
       "      <td>23691</td>\n",
       "      <td>4282</td>\n",
       "      <td>18.07</td>\n",
       "      <td>Africa</td>\n",
       "    </tr>\n",
       "    <tr>\n",
       "      <th>3</th>\n",
       "      <td>Andorra</td>\n",
       "      <td>907</td>\n",
       "      <td>52</td>\n",
       "      <td>803</td>\n",
       "      <td>52</td>\n",
       "      <td>10</td>\n",
       "      <td>0</td>\n",
       "      <td>0</td>\n",
       "      <td>5.73</td>\n",
       "      <td>88.53</td>\n",
       "      <td>6.48</td>\n",
       "      <td>884</td>\n",
       "      <td>23</td>\n",
       "      <td>2.60</td>\n",
       "      <td>Europe</td>\n",
       "    </tr>\n",
       "    <tr>\n",
       "      <th>4</th>\n",
       "      <td>Angola</td>\n",
       "      <td>950</td>\n",
       "      <td>41</td>\n",
       "      <td>242</td>\n",
       "      <td>667</td>\n",
       "      <td>18</td>\n",
       "      <td>1</td>\n",
       "      <td>0</td>\n",
       "      <td>4.32</td>\n",
       "      <td>25.47</td>\n",
       "      <td>16.94</td>\n",
       "      <td>749</td>\n",
       "      <td>201</td>\n",
       "      <td>26.84</td>\n",
       "      <td>Africa</td>\n",
       "    </tr>\n",
       "  </tbody>\n",
       "</table>\n",
       "</div>"
      ],
      "text/plain": [
       "  Country/Region  Confirmed  Deaths  Recovered  Active  New cases  New deaths  \\\n",
       "0    Afghanistan      36263    1269      25198    9796        106          10   \n",
       "1        Albania       4880     144       2745    1991        117           6   \n",
       "2        Algeria      27973    1163      18837    7973        616           8   \n",
       "3        Andorra        907      52        803      52         10           0   \n",
       "4         Angola        950      41        242     667         18           1   \n",
       "\n",
       "   New recovered  Deaths / 100 Cases  Recovered / 100 Cases  \\\n",
       "0             18                3.50                  69.49   \n",
       "1             63                2.95                  56.25   \n",
       "2            749                4.16                  67.34   \n",
       "3              0                5.73                  88.53   \n",
       "4              0                4.32                  25.47   \n",
       "\n",
       "   Deaths / 100 Recovered  Confirmed last week  1 week change  \\\n",
       "0                    5.04                35526            737   \n",
       "1                    5.25                 4171            709   \n",
       "2                    6.17                23691           4282   \n",
       "3                    6.48                  884             23   \n",
       "4                   16.94                  749            201   \n",
       "\n",
       "   1 week % increase             WHO Region  \n",
       "0               2.07  Eastern Mediterranean  \n",
       "1              17.00                 Europe  \n",
       "2              18.07                 Africa  \n",
       "3               2.60                 Europe  \n",
       "4              26.84                 Africa  "
      ]
     },
     "execution_count": 100,
     "metadata": {},
     "output_type": "execute_result"
    }
   ],
   "source": [
    "covid.head()"
   ]
  },
  {
   "cell_type": "markdown",
   "id": "26c7221c",
   "metadata": {},
   "source": [
    "<span style='color: royalblue'>**EXAMPLE 1** *WHO Region 별 확진자 수는?* </span><br><br>\n",
    "<span style='color: gray'>\\* *Prograss: <br>\n",
    "(1) covid에서 확진자 수 (Confirmed)만 추출한다.<br>\n",
    "(2) 이를 covid의 WHO Region을 기준으로 groupby 한다.*<br>   \n",
    "</span>"
   ]
  },
  {
   "cell_type": "code",
   "execution_count": 113,
   "id": "67d3772b",
   "metadata": {},
   "outputs": [
    {
     "data": {
      "text/plain": [
       "<pandas.core.groupby.generic.SeriesGroupBy object at 0x7fa5a22f1d50>"
      ]
     },
     "execution_count": 113,
     "metadata": {},
     "output_type": "execute_result"
    }
   ],
   "source": [
    "covid_byregion= covid['Confirmed'].groupby(by= covid['WHO Region'])\n",
    "covid_byregion\n",
    "    "
   ]
  },
  {
   "cell_type": "markdown",
   "id": "934338df",
   "metadata": {},
   "source": [
    "<span style='color: gray'> 위의 경우 output은 SeriesGroupBy object<br>\n",
    "--> Dataframe이 **'Split'**만 되었기 때문!<br>  \n",
    "**Apply** 와 **Combine**을 해주어야 우리가 기대하는 결과를 얻을 수 있음!\n",
    "</span>"
   ]
  },
  {
   "cell_type": "code",
   "execution_count": 114,
   "id": "a4068e2a",
   "metadata": {},
   "outputs": [
    {
     "data": {
      "text/plain": [
       "WHO Region\n",
       "Africa                    723207\n",
       "Americas                 8839286\n",
       "Eastern Mediterranean    1490744\n",
       "Europe                   3299523\n",
       "South-East Asia          1835297\n",
       "Western Pacific           292428\n",
       "Name: Confirmed, dtype: int64"
      ]
     },
     "execution_count": 114,
     "metadata": {},
     "output_type": "execute_result"
    }
   ],
   "source": [
    "covid_byregion.sum()"
   ]
  },
  {
   "cell_type": "code",
   "execution_count": 117,
   "id": "e6c2f55d",
   "metadata": {},
   "outputs": [
    {
     "data": {
      "text/plain": [
       "WHO Region\n",
       "Africa                    15066.812500\n",
       "Americas                 252551.028571\n",
       "Eastern Mediterranean     67761.090909\n",
       "Europe                    58920.053571\n",
       "South-East Asia          183529.700000\n",
       "Western Pacific           18276.750000\n",
       "Name: Confirmed, dtype: float64"
      ]
     },
     "execution_count": 117,
     "metadata": {},
     "output_type": "execute_result"
    }
   ],
   "source": [
    "covid_byregion.mean() #pandas는 groupby된 values의 '국가 수'를 알기 때문에 따로 평균 ?개 지정해주지 않아도 ㅇㅋ\n"
   ]
  },
  {
   "cell_type": "markdown",
   "id": "1aac6ba9",
   "metadata": {},
   "source": [
    "______\n",
    "### \\*\\*Mission:\n",
    "#### 1. covid 데이터에서 100case 대비 사망률(Death / 100 Cases)이 가장 높은 국가는?"
   ]
  },
  {
   "cell_type": "code",
   "execution_count": 47,
   "id": "94b6c763",
   "metadata": {},
   "outputs": [
    {
     "data": {
      "text/plain": [
       "Country/Region\n",
       "Afghanistan            3.50\n",
       "Albania                2.95\n",
       "Algeria                4.16\n",
       "Andorra                5.73\n",
       "Angola                 4.32\n",
       "                      ...  \n",
       "West Bank and Gaza     0.73\n",
       "Western Sahara        10.00\n",
       "Yemen                 28.56\n",
       "Zambia                 3.08\n",
       "Zimbabwe               1.33\n",
       "Name: Deaths / 100 Cases, Length: 187, dtype: float64"
      ]
     },
     "execution_count": 47,
     "metadata": {},
     "output_type": "execute_result"
    }
   ],
   "source": [
    "Dratio= covid['Deaths / 100 Cases'].groupby(by=covid['Country/Region'])\n",
    "Dratio_df=pd.DataFrame(Dratio.sum())\n",
    "\n",
    "# [Dratio_df == Dratio_df.max()]\n",
    "Dratio.max()\n"
   ]
  }
 ],
 "metadata": {
  "kernelspec": {
   "display_name": "Python 3 (ipykernel)",
   "language": "python",
   "name": "python3"
  },
  "language_info": {
   "codemirror_mode": {
    "name": "ipython",
    "version": 3
   },
   "file_extension": ".py",
   "mimetype": "text/x-python",
   "name": "python",
   "nbconvert_exporter": "python",
   "pygments_lexer": "ipython3",
   "version": "3.7.11"
  }
 },
 "nbformat": 4,
 "nbformat_minor": 5
}
